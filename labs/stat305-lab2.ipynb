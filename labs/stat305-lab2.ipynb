{
 "cells": [
  {
   "cell_type": "markdown",
   "metadata": {},
   "source": [
    "# Stat 305 Lab 2 + HW2, Part II: Simulating and summarizing distributions"
   ]
  },
  {
   "cell_type": "markdown",
   "metadata": {},
   "source": [
    "**For the lab/part II of the HW, you must work in teams of 2, submitting one notebook per team.**  (Your partner for the lab/part II does not have to be the same partner for the written part of the HW.)"
   ]
  },
  {
   "cell_type": "markdown",
   "metadata": {},
   "source": [
    "**TYPE YOUR NAMES HERE**"
   ]
  },
  {
   "cell_type": "markdown",
   "metadata": {},
   "source": [
    "## Introduction\n",
    "\n",
    "This Jupyter notebook provides a template for you to fill in. **Read the notebook from start to finish, completing the parts as indicated.**  To run a cell, make sure the cell is highlighted by clicking on it, then press SHIFT + ENTER on your keyboard.  (Alternatively, you can click the \"play\" button in the toolbar above.)\n",
    "\n",
    "Some code has already been provided.  Be sure to run this code and view the output to understand what it does.  In other parts, you will need to provide the code yourself; use the examples provided as a guide. \n",
    "\n",
    "You will use the Python package [Symbulate](https://github.com/dlsun/symbulate).   **You should use only use Symbulate commands, not general Python code.**\n",
    "\n",
    "**Thought questions:** You should think about and discuss briefly with your partner before proceeding, but you do not need to type a response."
   ]
  },
  {
   "cell_type": "markdown",
   "metadata": {},
   "source": [
    "Be sure to run the following lines first."
   ]
  },
  {
   "cell_type": "code",
   "execution_count": 1,
   "metadata": {},
   "outputs": [],
   "source": [
    "from symbulate import *\n",
    "%matplotlib inline"
   ]
  },
  {
   "cell_type": "markdown",
   "metadata": {},
   "source": [
    "# Lab 2"
   ]
  },
  {
   "cell_type": "markdown",
   "metadata": {},
   "source": [
    "In this lab you will:\n",
    "\n",
    "- Define and simulate values of random variables\n",
    "- Display simulated values in plots to visualize distributions\n",
    "- Summarize distributions in terms of their long run average characteristics (expected value and variance/standard deviation)\n",
    "- Take a first look at covariance and correlation, numbers which measure the association between two random variables\n",
    "- Investigate transformations of random variables, including distributions of sums of random variables"
   ]
  },
  {
   "cell_type": "markdown",
   "metadata": {},
   "source": [
    "## a) Introduction: Read and run the code\n",
    "\n",
    "Suppose that SAT Math scores have a Uniform(200, 800) distribution.  (This is not a realistic assumption; we'll fix it later.)  Let $X$ be the SAT Math score of a randomly selected SAT taker."
   ]
  },
  {
   "cell_type": "markdown",
   "metadata": {},
   "source": [
    "We first define an `RV` `X` with the appropriate distribution.  Note that the default function in `RV(probability_space, function)` is the identity function $X(\\omega) = \\omega$."
   ]
  },
  {
   "cell_type": "code",
   "execution_count": 2,
   "metadata": {},
   "outputs": [],
   "source": [
    "P = Uniform(200, 800)\n",
    "X = RV(P)"
   ]
  },
  {
   "cell_type": "markdown",
   "metadata": {},
   "source": [
    "Now, simulate many values of `X`, store them as `x`, and summarize the simulated values in a plot.  We see that the simulated values roughly follow a Uniform distribution (but there will always be some natural simulation variability)."
   ]
  },
  {
   "cell_type": "code",
   "execution_count": 3,
   "metadata": {},
   "outputs": [
    {
     "data": {
      "image/png": "[encoded data removed]",
      "text/plain": [
       "<Figure size 432x288 with 1 Axes>"
      ]
     },
     "metadata": {
      "needs_background": "light"
     },
     "output_type": "display_data"
    }
   ],
   "source": [
    "x = X.sim(10000)\n",
    "x.plot()"
   ]
  },
  {
   "cell_type": "markdown",
   "metadata": {},
   "source": [
    "**Thought question:** Does this seem like a reasonable pattern for actual SAT scores?"
   ]
  },
  {
   "cell_type": "markdown",
   "metadata": {},
   "source": [
    "We can use the simulation results to approximate probabilities with relative frequencies, e.g. $P(X \\le 700)$."
   ]
  },
  {
   "cell_type": "code",
   "execution_count": 4,
   "metadata": {},
   "outputs": [
    {
     "data": {
      "text/plain": [
       "0.8277"
      ]
     },
     "execution_count": 4,
     "metadata": {},
     "output_type": "execute_result"
    }
   ],
   "source": [
    "x.count_leq(700) / 10000"
   ]
  },
  {
   "cell_type": "markdown",
   "metadata": {},
   "source": [
    "One characteristic of a distribution is its *long run average value*. We can see from the plot that the overall average value is about 500.   We can approximate the long run average by simulating many values of $X$ and computing the mean (average) as usual: sum all the values and divide by the number of values."
   ]
  },
  {
   "cell_type": "code",
   "execution_count": 5,
   "metadata": {},
   "outputs": [
    {
     "data": {
      "text/plain": [
       "500.2638588664068"
      ]
     },
     "execution_count": 5,
     "metadata": {},
     "output_type": "execute_result"
    }
   ],
   "source": [
    "x.sum() / 10000"
   ]
  },
  {
   "cell_type": "code",
   "execution_count": 6,
   "metadata": {},
   "outputs": [
    {
     "data": {
      "text/plain": [
       "500.2638588664068"
      ]
     },
     "execution_count": 6,
     "metadata": {},
     "output_type": "execute_result"
    }
   ],
   "source": [
    "x.mean()"
   ]
  },
  {
   "cell_type": "markdown",
   "metadata": {},
   "source": [
    "The theoretical long run average value of $X$ is called its **expected value** and is denoted $E(X)$.  We will see more about expected values soon.  All you need to know now is that since an expected value is a theoretical long run average, it can be approximated by simulating many values and averaging.    So for now, **when you see $E()$, just interpret it as**:\n",
    "\n",
    "- **Simulate many values of what's inside the $()$**\n",
    "- **Average the simulated values**"
   ]
  },
  {
   "cell_type": "markdown",
   "metadata": {},
   "source": [
    "Another characteristic of a distribution is its *degree of variabilty*, which we will usually measure with *variance* (or *standard deviation*).  The **variance** is the long run average squared distance from the expected value:\n",
    "\n",
    "$$\n",
    "\\text{Var}(X) = E[(X-E(X))^2]\n",
    "$$\n",
    "\n",
    "To approximate variance via simulation\n",
    "\n",
    "- Simulate many values of $X$\n",
    "- Find the average (which approximates $E(X)$)\n",
    "- Subtract the average from each value to find its distance from the mean: $X-E(X)$\n",
    "- Square the distance: $(X-E(X))^2$\n",
    "- Average the values of squared distance: $E[(X-E(X))^2]$\n",
    "\n",
    "The following carries out the steps of this calculation."
   ]
  },
  {
   "cell_type": "code",
   "execution_count": 7,
   "metadata": {},
   "outputs": [
    {
     "data": {
      "text/html": [
       "\n",
       "    <table>\n",
       "      <thead>\n",
       "        <th width=\"10%\">Index</th>\n",
       "        <th width=\"90%\">Result</th>\n",
       "      </thead>\n",
       "      <tbody>\n",
       "        \n",
       "        <tr>\n",
       "          <td>0</td><td>742.0386116191573</td>\n",
       "        </tr>\n",
       "        \n",
       "        <tr>\n",
       "          <td>1</td><td>516.7457301279351</td>\n",
       "        </tr>\n",
       "        \n",
       "        <tr>\n",
       "          <td>2</td><td>296.37812719115556</td>\n",
       "        </tr>\n",
       "        \n",
       "        <tr>\n",
       "          <td>3</td><td>564.8764205377604</td>\n",
       "        </tr>\n",
       "        \n",
       "        <tr>\n",
       "          <td>4</td><td>712.8035269817216</td>\n",
       "        </tr>\n",
       "        \n",
       "        <tr>\n",
       "          <td>5</td><td>350.43971819109663</td>\n",
       "        </tr>\n",
       "        \n",
       "        <tr>\n",
       "          <td>6</td><td>393.0835848619708</td>\n",
       "        </tr>\n",
       "        \n",
       "        <tr>\n",
       "          <td>7</td><td>368.15922839929124</td>\n",
       "        </tr>\n",
       "        \n",
       "        <tr>\n",
       "          <td>8</td><td>715.1443351835259</td>\n",
       "        </tr>\n",
       "        <tr><td>...</td><td>...</td></tr>\n",
       "        <tr>\n",
       "          <td>9999</td><td>397.30025308634526</td>\n",
       "        </tr>\n",
       "        \n",
       "      </tbody>\n",
       "    </table>\n",
       "        "
      ],
      "text/plain": [
       "<symbulate.results.RVResults at 0x181ec5c64a8>"
      ]
     },
     "execution_count": 7,
     "metadata": {},
     "output_type": "execute_result"
    }
   ],
   "source": [
    "x # these are the simulated values of x"
   ]
  },
  {
   "cell_type": "code",
   "execution_count": 8,
   "metadata": {},
   "outputs": [
    {
     "data": {
      "text/plain": [
       "500.2638588664068"
      ]
     },
     "execution_count": 8,
     "metadata": {},
     "output_type": "execute_result"
    }
   ],
   "source": [
    "x.mean() # average of the simulated x values"
   ]
  },
  {
   "cell_type": "code",
   "execution_count": 9,
   "metadata": {},
   "outputs": [
    {
     "data": {
      "text/html": [
       "\n",
       "    <table>\n",
       "      <thead>\n",
       "        <th width=\"10%\">Index</th>\n",
       "        <th width=\"90%\">Result</th>\n",
       "      </thead>\n",
       "      <tbody>\n",
       "        \n",
       "        <tr>\n",
       "          <td>0</td><td>241.77475275275054</td>\n",
       "        </tr>\n",
       "        \n",
       "        <tr>\n",
       "          <td>1</td><td>16.481871261528283</td>\n",
       "        </tr>\n",
       "        \n",
       "        <tr>\n",
       "          <td>2</td><td>-203.88573167525124</td>\n",
       "        </tr>\n",
       "        \n",
       "        <tr>\n",
       "          <td>3</td><td>64.6125616713536</td>\n",
       "        </tr>\n",
       "        \n",
       "        <tr>\n",
       "          <td>4</td><td>212.53966811531478</td>\n",
       "        </tr>\n",
       "        \n",
       "        <tr>\n",
       "          <td>5</td><td>-149.82414067531016</td>\n",
       "        </tr>\n",
       "        \n",
       "        <tr>\n",
       "          <td>6</td><td>-107.180274004436</td>\n",
       "        </tr>\n",
       "        \n",
       "        <tr>\n",
       "          <td>7</td><td>-132.10463046711556</td>\n",
       "        </tr>\n",
       "        \n",
       "        <tr>\n",
       "          <td>8</td><td>214.88047631711908</td>\n",
       "        </tr>\n",
       "        <tr><td>...</td><td>...</td></tr>\n",
       "        <tr>\n",
       "          <td>9999</td><td>-102.96360578006153</td>\n",
       "        </tr>\n",
       "        \n",
       "      </tbody>\n",
       "    </table>\n",
       "        "
      ],
      "text/plain": [
       "<symbulate.results.RVResults at 0x181ec9a8c50>"
      ]
     },
     "execution_count": 9,
     "metadata": {},
     "output_type": "execute_result"
    }
   ],
   "source": [
    "x - x.mean() # distance of each x from the mean"
   ]
  },
  {
   "cell_type": "code",
   "execution_count": 10,
   "metadata": {},
   "outputs": [
    {
     "data": {
      "text/html": [
       "\n",
       "    <table>\n",
       "      <thead>\n",
       "        <th width=\"10%\">Index</th>\n",
       "        <th width=\"90%\">Result</th>\n",
       "      </thead>\n",
       "      <tbody>\n",
       "        \n",
       "        <tr>\n",
       "          <td>0</td><td>58455.031068653654</td>\n",
       "        </tr>\n",
       "        \n",
       "        <tr>\n",
       "          <td>1</td><td>271.6520802815919</td>\n",
       "        </tr>\n",
       "        \n",
       "        <tr>\n",
       "          <td>2</td><td>41569.39158075255</td>\n",
       "        </tr>\n",
       "        \n",
       "        <tr>\n",
       "          <td>3</td><td>4174.783125734472</td>\n",
       "        </tr>\n",
       "        \n",
       "        <tr>\n",
       "          <td>4</td><td>45173.11052256815</td>\n",
       "        </tr>\n",
       "        \n",
       "        <tr>\n",
       "          <td>5</td><td>22447.27312909513</td>\n",
       "        </tr>\n",
       "        \n",
       "        <tr>\n",
       "          <td>6</td><td>11487.61113566598</td>\n",
       "        </tr>\n",
       "        \n",
       "        <tr>\n",
       "          <td>7</td><td>17451.633390853156</td>\n",
       "        </tr>\n",
       "        \n",
       "        <tr>\n",
       "          <td>8</td><td>46173.61910227197</td>\n",
       "        </tr>\n",
       "        <tr><td>...</td><td>...</td></tr>\n",
       "        <tr>\n",
       "          <td>9999</td><td>10601.504115231919</td>\n",
       "        </tr>\n",
       "        \n",
       "      </tbody>\n",
       "    </table>\n",
       "        "
      ],
      "text/plain": [
       "<symbulate.results.RVResults at 0x181ec9a81d0>"
      ]
     },
     "execution_count": 10,
     "metadata": {},
     "output_type": "execute_result"
    }
   ],
   "source": [
    "(x - x.mean() ) ** 2 # squared distance of each x from the mean"
   ]
  },
  {
   "cell_type": "code",
   "execution_count": 11,
   "metadata": {},
   "outputs": [
    {
     "data": {
      "text/plain": [
       "30533.540152550388"
      ]
     },
     "execution_count": 11,
     "metadata": {},
     "output_type": "execute_result"
    }
   ],
   "source": [
    "( (x - x.mean() ) ** 2 ).mean() # average of the squared distances from the mean"
   ]
  },
  {
   "cell_type": "markdown",
   "metadata": {},
   "source": [
    "The `var` command carries out these calculations in one step."
   ]
  },
  {
   "cell_type": "code",
   "execution_count": 12,
   "metadata": {},
   "outputs": [
    {
     "data": {
      "text/plain": [
       "30533.540152550388"
      ]
     },
     "execution_count": 12,
     "metadata": {},
     "output_type": "execute_result"
    }
   ],
   "source": [
    "x.var()"
   ]
  },
  {
   "cell_type": "markdown",
   "metadata": {},
   "source": [
    "The **standard deviation** is the square root of the variance: $\\text{SD}(X) = \\sqrt{\\text{Var}(X)}$.  SD is measured in the measurement units of the random varible.  For example, if $X$ is measured in inches, the variance is measured in square-inches, but SD is measured in inches."
   ]
  },
  {
   "cell_type": "code",
   "execution_count": 13,
   "metadata": {},
   "outputs": [
    {
     "data": {
      "text/plain": [
       "174.7384907584771"
      ]
     },
     "execution_count": 13,
     "metadata": {},
     "output_type": "execute_result"
    }
   ],
   "source": [
    "sqrt(x.var())"
   ]
  },
  {
   "cell_type": "code",
   "execution_count": 14,
   "metadata": {},
   "outputs": [
    {
     "data": {
      "text/plain": [
       "174.7384907584771"
      ]
     },
     "execution_count": 14,
     "metadata": {},
     "output_type": "execute_result"
    }
   ],
   "source": [
    "x.sd()"
   ]
  },
  {
   "cell_type": "markdown",
   "metadata": {},
   "source": [
    "To interpret the value of SD, recall the histogram\n",
    "\n",
    "- The mean is 500\n",
    "- Values like 400 and 600 are 100 units away from the mean\n",
    "- Values like 300 and 700 are 200 units away from the mean\n",
    "- Values like 200 and 800 are 300 units away from the mean\n",
    "- And so on.\n",
    "- The SD says that for this Uniform distribution, roughly, the average distance of an SAT Math score from the mean score is about 173 points."
   ]
  },
  {
   "cell_type": "markdown",
   "metadata": {},
   "source": [
    "## b) A more realistic distribution.\n",
    "\n",
    "The distributed represented by the spinner in [Exercise 5.5 of Handout 5](https://bookdown.org/kevin_davisross/probbook/sim-examples.html#sec-example-sat-math) is called a Normal(500, 100) distribution.  If we were to look at real data on SAT Math scores, they would roughly follow such a distribution.  Some characteristics\n",
    "\n",
    "- About half of values would be below 500 and half above\n",
    "- Because axis values near 500 are stretched out, values near 500 would occur with higher frequency than those near 200 or 800.\n",
    "- The shape would be symmetric since the spacing below 500 mirrors that above.  For example, about 34% of values would be between 400 and 500, and also 34% between 500 and 600.\n",
    "- About 68% of values would be between 400 and 600.\n",
    "- About 95% of values would be between 300 and 700.\n",
    "\n",
    "\n",
    "Suppose that SAT Math scores have a Normal(500, 100) distribution.  Let $X$ be the SAT Math score of a randomly selected SAT taker."
   ]
  },
  {
   "cell_type": "markdown",
   "metadata": {},
   "source": [
    "**Thought questions.** Before proceeding, take a minute to discuss the following.\n",
    "\n",
    "- What would the shape of the distribution of $X$ look like?\n",
    "- Would would you expect the mean to be?\n",
    "- What would you expect the standard deviation to be?  In particular, do you think it would be larger than, smaller than, or equal to the SD from the Uniform distribution in part a?"
   ]
  },
  {
   "cell_type": "markdown",
   "metadata": {},
   "source": [
    "In the following steps you will repeat the analysis in part a) but now assuming SAT Math scores follow a **Normal(500, 100)** distribution."
   ]
  },
  {
   "cell_type": "markdown",
   "metadata": {},
   "source": [
    "Define the RV."
   ]
  },
  {
   "cell_type": "code",
   "execution_count": 15,
   "metadata": {},
   "outputs": [],
   "source": [
    "# Enter your Symbulate code here"
   ]
  },
  {
   "cell_type": "markdown",
   "metadata": {},
   "source": [
    "Simulate many values and store the results."
   ]
  },
  {
   "cell_type": "code",
   "execution_count": 16,
   "metadata": {},
   "outputs": [],
   "source": [
    "# Enter your Symbulate code here"
   ]
  },
  {
   "cell_type": "markdown",
   "metadata": {},
   "source": [
    "Approximate the probability $P(X \\le 700)$"
   ]
  },
  {
   "cell_type": "code",
   "execution_count": 17,
   "metadata": {},
   "outputs": [],
   "source": [
    "# Enter your Symbulate code here"
   ]
  },
  {
   "cell_type": "markdown",
   "metadata": {},
   "source": [
    "Approximate $E(X)$"
   ]
  },
  {
   "cell_type": "code",
   "execution_count": 18,
   "metadata": {},
   "outputs": [],
   "source": [
    "# Enter your Symbulate code here"
   ]
  },
  {
   "cell_type": "markdown",
   "metadata": {},
   "source": [
    "Approximate $\\text{Var}(X)$. (You can just use `var`.  You don't have to redo the whole calculation, but make sure you know what it's doing.)"
   ]
  },
  {
   "cell_type": "code",
   "execution_count": 19,
   "metadata": {},
   "outputs": [],
   "source": [
    "# Enter your Symbulate code here"
   ]
  },
  {
   "cell_type": "markdown",
   "metadata": {},
   "source": [
    "Approximate $\\text{SD}(X)$"
   ]
  },
  {
   "cell_type": "code",
   "execution_count": 20,
   "metadata": {},
   "outputs": [],
   "source": [
    "# Enter your Symbulate code here"
   ]
  },
  {
   "cell_type": "markdown",
   "metadata": {},
   "source": [
    "While the definition for variance is $\\text{Var}(X) = E((X - E(X))^2)$, we will see that a useful equivalent formula is\n",
    "\n",
    "$$\n",
    "\\text{Var}(X) = E(X^2) - (E(X))^2\n",
    "$$\n",
    "\n",
    "That is, variance is the \"expected value of the square minus the square of the expected value\".\n",
    "\n",
    "- $E(X^2)$: square all the values first, then average\n",
    "- $(E(X))^2$: average all the values first, then square"
   ]
  },
  {
   "cell_type": "markdown",
   "metadata": {},
   "source": [
    "**Thought question:** Why should it not be surprising that $E(X^2) \\neq  (E(X))^2$?  Hint: remember that $E()$ is just an average of lots of values, and an average involves summing.  Is $3^2 + 4^2 = (3 + 4)^2$?"
   ]
  },
  {
   "cell_type": "markdown",
   "metadata": {},
   "source": [
    "Use the earlier simulated values to approximate $E(X^2)$.  (Remember: exponentiation in Python is `**`.)"
   ]
  },
  {
   "cell_type": "code",
   "execution_count": 21,
   "metadata": {},
   "outputs": [],
   "source": [
    "# Enter your Symbulate code here"
   ]
  },
  {
   "cell_type": "markdown",
   "metadata": {},
   "source": [
    "Calculate the variance using the approximation of $E(X^2)$ and the alternative formula, $E(X^2) - (E(X))^2$. Your value should match what you got previously (as long as you did not re-simulate values)."
   ]
  },
  {
   "cell_type": "code",
   "execution_count": 22,
   "metadata": {},
   "outputs": [],
   "source": [
    "# Enter your Symbulate code here"
   ]
  },
  {
   "cell_type": "markdown",
   "metadata": {},
   "source": [
    "**Thought question.** This distribution in this problem is called the Normal(500, 100) distribution.  There are two parameters, which in this problem take values 500 and 100.  What does the value 500 represent?  What does the value 100 represent?  Does the value of SD seem like a reasonable value for \"average distance from the mean\"?"
   ]
  },
  {
   "cell_type": "markdown",
   "metadata": {},
   "source": [
    "## c) SAT Math and Reading scores\n",
    "\n",
    "Now let $Y$ be the Reading score of a randomly selected SAT taker.  We'll start by simulating an $(X, Y)$ pair of scores by spinning the Normal(500, 100) spinner twice.  The corresponding probability space is `Normal(500, 100) ** 2`, whose outcomes are pairs of values.  (For now, think of `** 2` as just \"spin the spinner two times\".)  We define a random variable $X$ corresponding to the first coordinate in the pair, and $Y$ to the second coordinate."
   ]
  },
  {
   "cell_type": "code",
   "execution_count": 23,
   "metadata": {},
   "outputs": [],
   "source": [
    "P = Normal(500, 100) ** 2\n",
    "X, Y = RV(P)"
   ]
  },
  {
   "cell_type": "markdown",
   "metadata": {},
   "source": [
    "Simulate many $(X, Y)$ pairs and store the values."
   ]
  },
  {
   "cell_type": "code",
   "execution_count": 24,
   "metadata": {},
   "outputs": [],
   "source": [
    "# Enter your Symbulate code here"
   ]
  },
  {
   "cell_type": "markdown",
   "metadata": {},
   "source": [
    "Create a scatter plot of the simulated values. \n",
    "\n",
    "Note: Scatter plot is the default `plot` for pairs of values.  You can also try a two-dimensional histogram using `plot('hist')` but it's giving some warning messages for some reason.  You can also try `plot('density')` which plots a smooth density surface over the pairs of possible values with color intensity representing relative height, but this sometimes take a minute to run."
   ]
  },
  {
   "cell_type": "code",
   "execution_count": 25,
   "metadata": {},
   "outputs": [],
   "source": [
    "# Enter your Symbulate code here"
   ]
  },
  {
   "cell_type": "markdown",
   "metadata": {},
   "source": [
    "**Thought question.** Does there appear to be any apparent relationship between simulated Math and Reading scores?  Given how you set up the simulation, why should this not be surprising?"
   ]
  },
  {
   "cell_type": "markdown",
   "metadata": {},
   "source": [
    "Just as variance and standard deviation measure variability of a single random variable, *covariance* and *correlation* measure *joint variability* of two random variables.  **Covariance** measures, roughly, the average \"distance\" of the $(X, Y)$ pairs from the center of the scatterplot.  The formula for covariance is\n",
    "\n",
    "$$\n",
    "\\text{Cov}(X, Y) = E[(X-E(X))(Y-E(Y))]\n",
    "$$\n",
    "\n",
    "The above is the definition, but like variance, there is an alternative equivalent computational formula that we usually use.\n",
    "\n",
    "$$\n",
    "\\text{Cov}(X, Y) = E(XY) - E(X)E(Y)\n",
    "$$\n",
    "\n",
    "That is, covariance is \"the expected value of the product minus the product of expected values\".\n",
    "\n",
    "- $E(XY)$: multiply $X$ and $Y$ for all $(X, Y)$ pairs first, then average\n",
    "- $E(X)E(Y)$: average all the $X$ values and average all the $Y$ values, then multiply the averages"
   ]
  },
  {
   "cell_type": "markdown",
   "metadata": {},
   "source": [
    "**Thought question.** What is another name for $\\text{Cov}(X, X)$?"
   ]
  },
  {
   "cell_type": "markdown",
   "metadata": {},
   "source": [
    "Use the simulation results to approximate $\\text{Cov}(X, Y)$ according to the above formula.\n",
    "\n",
    "Note: you can do this using the simulated values you stored.  But it might be easier if you run simulations to estimate each of $E(XY)$, $E(X)$, $E(Y)$ separately."
   ]
  },
  {
   "cell_type": "code",
   "execution_count": 26,
   "metadata": {},
   "outputs": [],
   "source": [
    "# Enter your Symbulate code here"
   ]
  },
  {
   "cell_type": "markdown",
   "metadata": {},
   "source": [
    "Check your computation by calling `.cov()` on the simulated pairs. (If you re-run the simulation you won't get an exact match, but it should be close.)"
   ]
  },
  {
   "cell_type": "code",
   "execution_count": 27,
   "metadata": {},
   "outputs": [],
   "source": [
    "# Enter your Symbulate code here"
   ]
  },
  {
   "cell_type": "markdown",
   "metadata": {},
   "source": [
    "**Thought question.** You should have gotten a covariance close to 0.  Why should this not be surprising?  Hint: remember, covariance is a measure of the association between two random variables."
   ]
  },
  {
   "cell_type": "markdown",
   "metadata": {},
   "source": [
    "## d) Associated pairs of scores\n",
    "\n",
    "The previous example assumed there was no relationship between Math and Reading scores; we just obtained the scores from two independent spins of the spinner.  But in reality, we would expect some relationship between scores; students who score above 700 on Math probably score above average on Reading too.\n",
    "\n",
    "One distribution which can be used to simulate pairs that have some relationship is a \"Bivariate Normal\" distribution, the two-dimensional analog of a Normal distribution.  There are 5 parameters\n",
    "\n",
    "- Mean of $X$ (`mean1`)\n",
    "- SD of $X$ (`sd1`)\n",
    "- Mean of $Y$ (`mean2`)\n",
    "- SD of $Y$ (`sd2`)\n",
    "- And the *correlation* (`corr`), which is a standardized measure of association\n",
    "\n",
    "In the next few parts, we'll investigate correlation and its implications.\n"
   ]
  },
  {
   "cell_type": "markdown",
   "metadata": {},
   "source": [
    "First assume that SAT Math and Reading scores follow a Bivariate Normal distribution with mean 500 for each score, SD 100 for each score, and a correlation of 0.8.  (It's possible that SAT Math and Reading scores could have different means and different SDs, but we'll just focus on changing correlation.)"
   ]
  },
  {
   "cell_type": "code",
   "execution_count": 28,
   "metadata": {},
   "outputs": [],
   "source": [
    "P = BivariateNormal(mean1 = 500, sd1 = 100, mean2 = 500, sd2 = 100, corr = 0.8)\n",
    "X, Y = RV(P)"
   ]
  },
  {
   "cell_type": "markdown",
   "metadata": {},
   "source": [
    "Simulate many $(X, Y)$ pairs, make a scatter plot, and use the simulated results to estimate $\\text{Cov}(X, Y)$.  (You can just use `.cov()`, but be sure you know what this is doing.)\n",
    "\n",
    "Note: It will be helpful if you also include histograms of the marginal distributions, which you can do using `plot(['scatter', 'marginal'])`"
   ]
  },
  {
   "cell_type": "code",
   "execution_count": 29,
   "metadata": {},
   "outputs": [],
   "source": [
    "# Enter your Symbulate code here"
   ]
  },
  {
   "cell_type": "markdown",
   "metadata": {},
   "source": [
    "**Thought question.** What does the scatter plot reveal about the relationship between Math and Reading score?"
   ]
  },
  {
   "cell_type": "markdown",
   "metadata": {},
   "source": [
    "Now assume the correlation is 0.4. Define $X$ and $Y$, simulate many $(X, Y)$ pairs, make a scatter plot, and use the simulated results to estimate $\\text{Cov}(X, Y)$."
   ]
  },
  {
   "cell_type": "code",
   "execution_count": 30,
   "metadata": {},
   "outputs": [],
   "source": [
    "# Enter your Symbulate code here"
   ]
  },
  {
   "cell_type": "markdown",
   "metadata": {},
   "source": [
    "**Thought question.** What does the scatter plot reveal about the relationship between Math and Reading score? Is the relationship stronger with a correlation of 0.8 or with 0.4?"
   ]
  },
  {
   "cell_type": "markdown",
   "metadata": {},
   "source": [
    "Now assume the correlation is $-0.8$. Define $X$ and $Y$, simulate many $(X, Y)$ pairs, make a scatter plot, and use the simulated results to estimate $\\text{Cov}(X, Y)$."
   ]
  },
  {
   "cell_type": "code",
   "execution_count": 31,
   "metadata": {},
   "outputs": [],
   "source": [
    "# Enter your Symbulate code here"
   ]
  },
  {
   "cell_type": "markdown",
   "metadata": {},
   "source": [
    "**Thought question.** What does the scatter plot reveal about the relationship between Math and Reading score? What is the difference between a positive and a negative correlation? Is the relationship stronger with a correlation of $-0.8$ or with 0.4?"
   ]
  },
  {
   "cell_type": "markdown",
   "metadata": {},
   "source": [
    "**Thought question.** Examine the marginal distributions for each of the situations: correlation of $0.8, 0.4, -0.8$.  Does changing the correlation affect the *marginal* distributions?  Why does this make sense?"
   ]
  },
  {
   "cell_type": "markdown",
   "metadata": {},
   "source": [
    "**Thought question.** For each situation, compute\n",
    "\n",
    "$$\n",
    "\\frac{\\text{Cov}(X, Y)}{\\text{SD}(X)\\text{SD}(Y)}\n",
    "$$\n",
    "\n",
    "What does this reveal?"
   ]
  },
  {
   "cell_type": "markdown",
   "metadata": {},
   "source": [
    "## e) Total scores\n",
    "\n",
    "Now we'll investigate the distribution of total score, $T = X+Y$, under each of the above scenarios.\n",
    "\n",
    "- Two separate spins (`Normal(500, 100) ** 2`)\n",
    "- Bivariate Normal with correlation 0.8\n",
    "- Bivariate Normal with correlation 0.4\n",
    "- Bivariate Normal with correlation -0.8"
   ]
  },
  {
   "cell_type": "markdown",
   "metadata": {},
   "source": [
    "**Thought question:**  What do you think the expected value of total score, $E(T)$ will be in each of the situations?  How do you think changing correlation will affect variability $\\text{SD}(T)$?"
   ]
  },
  {
   "cell_type": "markdown",
   "metadata": {},
   "source": [
    "**Thought question:** In general, if the distribution of $X$ has a certain shape and the distribution of $Y$ has the same shape, would you expect the distribution of $X+Y$ to also have the same shape?  Hint: consider the case where $X$ and $Y$ both have Uniform(0, 1) distributions. "
   ]
  },
  {
   "cell_type": "markdown",
   "metadata": {},
   "source": [
    "*Two separate spins*: Simulate many values of $T$, display the distribution of simulated values in a plot, and use the simulation results to estimate $E(T)$, $\\text{Var}(T)$, and $\\text{SD}(T)$"
   ]
  },
  {
   "cell_type": "code",
   "execution_count": 32,
   "metadata": {},
   "outputs": [],
   "source": [
    "# Enter your Symbulate code here"
   ]
  },
  {
   "cell_type": "markdown",
   "metadata": {},
   "source": [
    "*Bivariate Normal with correlation 0.8*: Simulate many values of $T$, display the distribution of simulated values in a plot, and use the simulation results to estimate $E(T)$, $\\text{Var}(T)$, and $\\text{SD}(T)$"
   ]
  },
  {
   "cell_type": "code",
   "execution_count": 33,
   "metadata": {},
   "outputs": [],
   "source": [
    "# Enter your Symbulate code here"
   ]
  },
  {
   "cell_type": "markdown",
   "metadata": {},
   "source": [
    "*Bivariate Normal with correlation 0.4*: Simulate many values of $T$, display the distribution of simulated values in a plot, and use the simulation results to estimate $E(T)$, $\\text{Var}(T)$, and $\\text{SD}(T)$"
   ]
  },
  {
   "cell_type": "code",
   "execution_count": 34,
   "metadata": {},
   "outputs": [],
   "source": [
    "# Enter your Symbulate code here"
   ]
  },
  {
   "cell_type": "markdown",
   "metadata": {},
   "source": [
    "*Bivariate Normal with correlation -0.8*: Simulate many values of $T$, display the distribution of simulated values in a plot, and use the simulation results to estimate $E(T)$, $\\text{Var}(T)$, and $\\text{SD}(T)$"
   ]
  },
  {
   "cell_type": "code",
   "execution_count": 35,
   "metadata": {},
   "outputs": [],
   "source": [
    "# Enter your Symbulate code here"
   ]
  },
  {
   "cell_type": "markdown",
   "metadata": {},
   "source": [
    "**Thought question:** How does changing correlation affect $E(X+Y)$?"
   ]
  },
  {
   "cell_type": "markdown",
   "metadata": {},
   "source": [
    "**Thought question:** Can you suggest a formula relating $E(X+Y)$ to $E(X)$ and $E(Y)$?"
   ]
  },
  {
   "cell_type": "markdown",
   "metadata": {},
   "source": [
    "**Thought question:** How does changing correlation affect $\\text{Var}(X+Y)$?  Does this make sense?  "
   ]
  },
  {
   "cell_type": "markdown",
   "metadata": {},
   "source": [
    "**Thought question:** Can you suggest a formula relating $\\text{Var}(X+Y)$ to $\\text{Var}(X)$ and $\\text{Var}(Y)$?  Hint: consider $2\\text{Cov}(X, Y)$."
   ]
  },
  {
   "cell_type": "markdown",
   "metadata": {},
   "source": [
    "# HW2, Part II"
   ]
  },
  {
   "cell_type": "markdown",
   "metadata": {},
   "source": [
    "# f)\n",
    "\n",
    "Now consider the difference in scores, $D=X-Y$, which will be negative if $X<Y$.  Repeat part e) but for the difference in scores instead of the sum of the scores.  Then write a few sentences summarizing your findings."
   ]
  },
  {
   "cell_type": "code",
   "execution_count": 36,
   "metadata": {},
   "outputs": [],
   "source": [
    "# Enter your Symbulate code here"
   ]
  },
  {
   "cell_type": "markdown",
   "metadata": {},
   "source": [
    "**TYPE YOUR RESPONSE HERE.**"
   ]
  },
  {
   "cell_type": "markdown",
   "metadata": {},
   "source": [
    "# g)\n",
    "\n",
    "Now consider the larger of the two scores, $Z=\\max(X, Y)$.  Repeat part e) but for the max of the scores instead of the sum of the scores.  In addition, also address the following question: is $E(\\max(X,Y)) = \\max(E(X), E(Y))$?"
   ]
  },
  {
   "cell_type": "code",
   "execution_count": 37,
   "metadata": {},
   "outputs": [],
   "source": [
    "# Enter your Symbulate code here"
   ]
  },
  {
   "cell_type": "markdown",
   "metadata": {},
   "source": [
    "**TYPE YOUR RESPONSE HERE.**"
   ]
  },
  {
   "cell_type": "markdown",
   "metadata": {},
   "source": [
    "# h)\n",
    "\n",
    "Reflection: Write a paragraph, or some bullet points, of what you learned from this lab"
   ]
  },
  {
   "cell_type": "markdown",
   "metadata": {},
   "source": [
    "**TYPE YOUR RESPONSE HERE.**"
   ]
  },
  {
   "cell_type": "markdown",
   "metadata": {},
   "source": [
    "# i)\n",
    "\n",
    "Reflection: Write a paragraph, or some bullet points, of some questions you have about the material introduced in this lab."
   ]
  },
  {
   "cell_type": "markdown",
   "metadata": {},
   "source": [
    "**TYPE YOUR RESPONSE HERE.**"
   ]
  },
  {
   "cell_type": "markdown",
   "metadata": {},
   "source": [
    "## Submission Instructions\n",
    "\n",
    "- After you have completed the notebook, in Jupyter select **Kernel > Restart kernel and run all** cells.  In JupyterLab, select **Kernel > Restart kernel** then **Run > Run all cells.**\n",
    "- After the notebook finishes rerunning check to make sure that you have no errors and everything runs properly.  Fix any problems and redo this step until it works.\n",
    "- Make sure you typed the names of both partners at the top of the notebook where it says \"Type your names here\".\n",
    "- Save both a notebook and a HTML version.  In \n",
    "  - Notebook: JupyterLab: right click on the file name and choose download. Jupyter: File > Download as > Notebook.  \n",
    "  - HTML: JupyterLab: select File > Export to > HTML. Jupyter: File > Download as > HTML.\n",
    "- Submit your files in PL.  Remember, only one submission per team.  (Either partner can submit.)"
   ]
  }
 ],
 "metadata": {
  "kernelspec": {
   "display_name": "Python 3",
   "language": "python",
   "name": "python3"
  },
  "language_info": {
   "codemirror_mode": {
    "name": "ipython",
    "version": 3
   },
   "file_extension": ".py",
   "mimetype": "text/x-python",
   "name": "python",
   "nbconvert_exporter": "python",
   "pygments_lexer": "ipython3",
   "version": "3.7.3"
  }
 },
 "nbformat": 4,
 "nbformat_minor": 2
}
