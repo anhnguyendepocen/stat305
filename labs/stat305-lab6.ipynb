{
 "cells": [
  {
   "cell_type": "markdown",
   "metadata": {},
   "source": [
    "# Stat 305 Lab 6: Sampling with versus without replacement, Binomial versus Hypergeometric distributions"
   ]
  },
  {
   "cell_type": "markdown",
   "metadata": {},
   "source": [
    "**For the lab, you must work in teams of 2, submitting one notebook per team.**"
   ]
  },
  {
   "cell_type": "markdown",
   "metadata": {},
   "source": [
    "**TYPE YOUR NAME HERE**"
   ]
  },
  {
   "cell_type": "markdown",
   "metadata": {},
   "source": [
    "# Introduction\n",
    "\n",
    "\n",
    "This Jupyter notebook provides a template for you to fill in. **Read the notebook from start to finish, completing the parts as indicated.**  To run a cell, make sure the cell is highlighted by clicking on it, then press SHIFT + ENTER on your keyboard.  (Alternatively, you can click the \"play\" button in the toolbar above.)\n",
    "\n",
    "Some code has already been provided.  Be sure to run this code and view the output to understand what it does.  In other parts, you will need to provide the code yourself; use the examples provided as a guide. \n",
    "\n",
    "You will use the Python package [Symbulate](https://github.com/dlsun/symbulate).   **You should use only use Symbulate commands, not general Python code.**\n",
    "\n",
    "**Thought questions:** You should think about and discuss briefly with your partner before proceeding, but you do not need to type a response."
   ]
  },
  {
   "cell_type": "markdown",
   "metadata": {},
   "source": [
    "Be sure to run the following lines first."
   ]
  },
  {
   "cell_type": "code",
   "execution_count": null,
   "metadata": {},
   "outputs": [],
   "source": [
    "# If in Colab, uncomment the following line and run this cell first\n",
    "# !pip install symbulate"
   ]
  },
  {
   "cell_type": "code",
   "execution_count": null,
   "metadata": {},
   "outputs": [],
   "source": [
    "from symbulate import *\n",
    "%matplotlib inline"
   ]
  },
  {
   "cell_type": "markdown",
   "metadata": {},
   "source": [
    "## Lab 6\n",
    "\n",
    "In this lab you will investigate:\n",
    "\n",
    "- Distributions of counts of \"successes\" in a sample of fixed size\n",
    "- Similarities and differences between sampling with replacement and without replacement\n",
    "- Hypergeometric distributions as models of counts when sampling without replacement\n",
    "- Binomial distributions as models of counts when sampling with replacement, or when the population size is much larger than the sample size\n",
    "- Symbulate methods like `.pmf()` to compute theoretical quantities for named distributions\n",
    "- Statistical application: Binomial distributions can be used to analyze studies with random sampling from a population\n",
    "- Statistical application: Hypergeometric distributions can be used to analyze studies with random assignment\n"
   ]
  },
  {
   "cell_type": "markdown",
   "metadata": {},
   "source": [
    "## a) Sampling *without* replacement and Hypergeometric distributions (Related to Exercise 15.1 of Handout 15.)"
   ]
  },
  {
   "cell_type": "markdown",
   "metadata": {},
   "source": [
    "Shuffle a standard deck of 52 cards (13 hearts, and 39 other cards) and draw 5 **without replacement**. Let $X$ be number of hearts among the 5 cards drawn."
   ]
  },
  {
   "cell_type": "markdown",
   "metadata": {},
   "source": [
    "Define a probability space `P` in which an outcome corresponds to an ordered sequence of 5 draws **without replacement,** and simulate a few outcomes from it.  Note that you only need to consider whether a card is a heart or not, so it is convenient to let 1 represent heart, and 0 not a heart. (Hint: Use [`BoxModel` with a dictionary-like input as in `In[7]` here](https://dlsun.github.io/symbulate/probspace.html#boxmodel); do not put quotes around 1 or 0.)"
   ]
  },
  {
   "cell_type": "code",
   "execution_count": null,
   "metadata": {},
   "outputs": [],
   "source": [
    "# Enter your Symbulate code here."
   ]
  },
  {
   "cell_type": "markdown",
   "metadata": {},
   "source": [
    "**Thought question:** What is the probability that the first card drawn is a heart?\n",
    "\n",
    "An outcome of `P` is an ordered sequence of five 0s and 1s, so `U = RV(P)` will output an ordered sequence of five 0s and 1s.  If we want to examine just the first card, we can consider the random variable `U[0]`.  (Remember: Python uses zero-based indexing.)\n",
    "\n",
    "Use simulation to approximate the probability that the first card drawn is a heart. "
   ]
  },
  {
   "cell_type": "code",
   "execution_count": null,
   "metadata": {},
   "outputs": [],
   "source": [
    "# Enter your Symbulate code here."
   ]
  },
  {
   "cell_type": "markdown",
   "metadata": {},
   "source": [
    "**Thought question:** What is the probability that the second card drawn is a heart?\n",
    "\n",
    "Use simulation to approximate the probability that the second card drawn is a heart. "
   ]
  },
  {
   "cell_type": "code",
   "execution_count": null,
   "metadata": {},
   "outputs": [],
   "source": [
    "# Enter your Symbulate code here."
   ]
  },
  {
   "cell_type": "markdown",
   "metadata": {},
   "source": [
    "**Thought question:** What is the conditional probability that the second card drawn is a heart given that the first card drawn is a heart?\n",
    "\n",
    "Use simulation to approximate the conditional probability that the second card drawn is a heart given that the first card drawn is a heart? "
   ]
  },
  {
   "cell_type": "code",
   "execution_count": null,
   "metadata": {},
   "outputs": [],
   "source": [
    "# Enter your Symbulate code here."
   ]
  },
  {
   "cell_type": "markdown",
   "metadata": {},
   "source": [
    "**Thought question:**\n",
    "\n",
    "- When sampling **without** replacement, is the *unconditional/marginal* probability of drawing a\n",
    "heart the same on each of the five draws?\n",
    "- When sampling **without** replacement, are the draws *independent*?"
   ]
  },
  {
   "cell_type": "markdown",
   "metadata": {},
   "source": [
    "Define the RV $X$ which counts the number of hearts, and simulate a few values of it. Note that if 1 represents hearts and 0 not hearts, then you can count the hearts with `sum`.  (You can also also `count_eq(1)` but it is a good idea to get used to representing \"success\" as 1 and \"failure\" as 0 and then summing to count successes.)"
   ]
  },
  {
   "cell_type": "code",
   "execution_count": null,
   "metadata": {},
   "outputs": [],
   "source": [
    "# Enter your Symbulate code here."
   ]
  },
  {
   "cell_type": "markdown",
   "metadata": {},
   "source": [
    "Simulate many values of $X$, store the results, and display the approximate distribution of $X$ in a table."
   ]
  },
  {
   "cell_type": "code",
   "execution_count": null,
   "metadata": {},
   "outputs": [],
   "source": [
    "# Enter your Symbulate code here."
   ]
  },
  {
   "cell_type": "markdown",
   "metadata": {},
   "source": [
    "The theoretical distribution of $X$ in this example -- when sampling **without replacement** ---  is called the `Hypergeometric(n = 5, N1 = 13, N0 = 39)` distribution.\n",
    "\n",
    "**Thought question.** What do the parameters `n, N1, N0` represent?"
   ]
  },
  {
   "cell_type": "markdown",
   "metadata": {},
   "source": [
    "Use the simulated values of $X$ to create a plot displaying the approximate distribution of $X$.  Then overlay the theoretical distribution on the plot.\n",
    "\n",
    "Hints:\n",
    "- Do `x.plot()` as usual to plot the simulated values\n",
    "- Calling `.plot()` on a named theoretical distribution will create a plot of the theoretical distribution, so you can do `Hypergeometric(n = 5, N1 = 13, N0 = 39).plot()`\n",
    "- Putting both `.plot` calls in the same cell will automatically create one plot with the theoretical distribution overlaid on top of the approximate distribution.\n"
   ]
  },
  {
   "cell_type": "code",
   "execution_count": null,
   "metadata": {},
   "outputs": [],
   "source": [
    "# Enter your Symbulate code here."
   ]
  },
  {
   "cell_type": "markdown",
   "metadata": {},
   "source": [
    "**Thought question:** Does the simulated distribution seem to match up with the theoretical distribution?"
   ]
  },
  {
   "cell_type": "markdown",
   "metadata": {},
   "source": [
    "Use the simulation results to approximate $P(X=5)$ and compare to the theoretical value.  Hint for the theoretical value: a Hypergeometric distribution is a discrete distibution so it has a probability mass function (pmf).  So you can call `Hypergeometric(n=5, N1 = 13, N0 = 39).pmf(x)` to compute the theoretical probability $P(X=x)$."
   ]
  },
  {
   "cell_type": "code",
   "execution_count": null,
   "metadata": {},
   "outputs": [],
   "source": [
    "# Enter your Symbulate code here."
   ]
  },
  {
   "cell_type": "markdown",
   "metadata": {},
   "source": [
    "Use the simulation results to approximate $P(X=3)$ and compare to the theoretical value. "
   ]
  },
  {
   "cell_type": "code",
   "execution_count": null,
   "metadata": {},
   "outputs": [],
   "source": [
    "# Enter your Symbulate code here."
   ]
  },
  {
   "cell_type": "markdown",
   "metadata": {},
   "source": [
    "**Thought question:** What seems like a reasonable shortcut formula for $E(X)$?\n",
    "\n",
    "Use the simulation results to approximate $E(X)$ and compare to the theoretical value. (Hint: to find the theoretical value, call `.mean()` on the named distribution.)"
   ]
  },
  {
   "cell_type": "code",
   "execution_count": null,
   "metadata": {},
   "outputs": [],
   "source": [
    "# Enter your Symbulate code here."
   ]
  },
  {
   "cell_type": "markdown",
   "metadata": {},
   "source": [
    "Use the simulation results to approximate $Var(X)$. (Hint: call `.var()` on the named distribution.)"
   ]
  },
  {
   "cell_type": "code",
   "execution_count": null,
   "metadata": {},
   "outputs": [],
   "source": [
    "# Enter your Symbulate code here."
   ]
  },
  {
   "cell_type": "markdown",
   "metadata": {},
   "source": [
    "## b) Sampling *with* replacement and Binomial distributions"
   ]
  },
  {
   "cell_type": "markdown",
   "metadata": {},
   "source": [
    "(Related to Exercise 16.1 of Handout 16.) Shuffle a standard deck of 52 cards (13 hearts, and 39 other cards) and draw 5 **with replacement**. Let $X$ be number of hearts among the 5 cards drawn.\n",
    "\n",
    "Note: the code for this part will be very similar to part a) but make sure you make the right changes in the right places."
   ]
  },
  {
   "cell_type": "markdown",
   "metadata": {},
   "source": [
    "Define a probability space `P` in which an outcome corresponds to an ordered sequence of 5 draws **with replacement,** and simulate a few outcomes from it.  Note that you only need to consider whether a card is a heart or not, so it is convenient to let 1 represent heart, and 0 not a heart. "
   ]
  },
  {
   "cell_type": "code",
   "execution_count": null,
   "metadata": {},
   "outputs": [],
   "source": [
    "# Enter your Symbulate code here."
   ]
  },
  {
   "cell_type": "markdown",
   "metadata": {},
   "source": [
    "**Thought question:** What is the probability that the first card drawn is a heart?\n",
    "\n",
    "Use simulation to approximate the probability that the first card drawn is a heart. "
   ]
  },
  {
   "cell_type": "code",
   "execution_count": null,
   "metadata": {},
   "outputs": [],
   "source": [
    "# Enter your Symbulate code here."
   ]
  },
  {
   "cell_type": "markdown",
   "metadata": {},
   "source": [
    "**Thought question:** What is the probability that the second card drawn is a heart?\n",
    "\n",
    "Use simulation to approximate the probability that the second card drawn is a heart. "
   ]
  },
  {
   "cell_type": "code",
   "execution_count": null,
   "metadata": {},
   "outputs": [],
   "source": [
    "# Enter your Symbulate code here."
   ]
  },
  {
   "cell_type": "markdown",
   "metadata": {},
   "source": [
    "**Thought question:** What is the conditional probability that the second card drawn is a heart given that the first card drawn is a heart?\n",
    "\n",
    "Use simulation to approximate the conditional probability that the second card drawn is a heart given that the first card drawn is a heart? "
   ]
  },
  {
   "cell_type": "code",
   "execution_count": null,
   "metadata": {},
   "outputs": [],
   "source": [
    "# Enter your Symbulate code here."
   ]
  },
  {
   "cell_type": "markdown",
   "metadata": {},
   "source": [
    "**Thought question:**\n",
    "\n",
    "- When sampling **with** replacement, is the *unconditional/marginal* probability of drawing a\n",
    "heart the same on each of the five draws?\n",
    "- When sampling **with** replacement, are the draws *independent*?"
   ]
  },
  {
   "cell_type": "markdown",
   "metadata": {},
   "source": [
    "Define the RV $X$ which counts the number of hearts, and simulate a few values of it. Note that if 1 represents hearts and 0 not hearts, then you can count the hearts with `sum`.  (You can also also `count_eq(1)` but it is a good idea to get used to representing \"success\" as 1 and \"failure\" as 0 and then summing to count successes.)"
   ]
  },
  {
   "cell_type": "code",
   "execution_count": null,
   "metadata": {},
   "outputs": [],
   "source": [
    "# Enter your Symbulate code here."
   ]
  },
  {
   "cell_type": "markdown",
   "metadata": {},
   "source": [
    "Simulate many values of $X$, store the results, and display the approximate distribution of $X$ in a table."
   ]
  },
  {
   "cell_type": "code",
   "execution_count": null,
   "metadata": {},
   "outputs": [],
   "source": [
    "# Enter your Symbulate code here."
   ]
  },
  {
   "cell_type": "markdown",
   "metadata": {},
   "source": [
    "The theoretical distribution of $X$ in this example -- when sampling **with replacement** ---  is called the `Binomial(n = 5, p = 0.25)` distribution.\n",
    "\n",
    "**Thought question.** What do the parameters `n, p` represent?"
   ]
  },
  {
   "cell_type": "markdown",
   "metadata": {},
   "source": [
    "Use the simulated values of $X$ to create a plot displaying the approximate distribution of $X$.  Then overlay the theoretical distribution on the plot."
   ]
  },
  {
   "cell_type": "code",
   "execution_count": null,
   "metadata": {},
   "outputs": [],
   "source": [
    "# Enter your Symbulate code here."
   ]
  },
  {
   "cell_type": "markdown",
   "metadata": {},
   "source": [
    "**Thought question:** Does the simulated distribution seem to match up with the theoretical distribution?"
   ]
  },
  {
   "cell_type": "markdown",
   "metadata": {},
   "source": [
    "Use the simulation results to approximate $P(X=5)$ and compare to the theoretical value."
   ]
  },
  {
   "cell_type": "code",
   "execution_count": null,
   "metadata": {},
   "outputs": [],
   "source": [
    "# Enter your Symbulate code here."
   ]
  },
  {
   "cell_type": "markdown",
   "metadata": {},
   "source": [
    "Use the simulation results to approximate $P(X=3)$ and compare to the theoretical value."
   ]
  },
  {
   "cell_type": "code",
   "execution_count": null,
   "metadata": {},
   "outputs": [],
   "source": [
    "# Enter your Symbulate code here."
   ]
  },
  {
   "cell_type": "markdown",
   "metadata": {},
   "source": [
    "**Thought question:** What seems like a reasonable shortcut formula for $E(X)$?\n",
    "\n",
    "Use the simulation results to approximate $E(X)$ and compare to the theoretical value."
   ]
  },
  {
   "cell_type": "code",
   "execution_count": null,
   "metadata": {},
   "outputs": [],
   "source": [
    "# Enter your Symbulate code here."
   ]
  },
  {
   "cell_type": "markdown",
   "metadata": {},
   "source": [
    "Use the simulation results to approximate $Var(X)$ and compare to the theoretical value."
   ]
  },
  {
   "cell_type": "code",
   "execution_count": null,
   "metadata": {},
   "outputs": [],
   "source": [
    "# Enter your Symbulate code here."
   ]
  },
  {
   "cell_type": "markdown",
   "metadata": {},
   "source": [
    "Now compare to the two theoretical distributions from part a) and part b). Create a single plot with the two theoretical distributions overlaid."
   ]
  },
  {
   "cell_type": "code",
   "execution_count": null,
   "metadata": {},
   "outputs": [],
   "source": [
    "# Enter your Symbulate code here."
   ]
  },
  {
   "cell_type": "markdown",
   "metadata": {},
   "source": [
    "**Thought questions:** Compare the Binomial distribution (with replacement) to the Hypergeometric distribution (without replacement).\n",
    "\n",
    "- How does the pmf compare between the two distributions?\n",
    "- How does the expected value compare between the two distributions?\n",
    "- How does the variance compare between the two distributions?\n",
    "\n"
   ]
  },
  {
   "cell_type": "markdown",
   "metadata": {},
   "source": [
    "## c) Sampling from a large population (Related to Exercise 15.2 of Handout 15 and Exercise 16.3 of Handout 16.)\n",
    "\n",
    "Suppose there are 21,306 students at Cal Poly, 17,748 of whom are CA residents. Select a random sample of 35 Cal Poly students, and let X be the number of CA residents in the sample.\n",
    "\n",
    "**Note:** There is a typo in Exercise 16.3; it should be 83.3% instead of 85%."
   ]
  },
  {
   "cell_type": "markdown",
   "metadata": {},
   "source": [
    "Identify the theoretical distribution of $X$ if the sampling is done **without replacement.** Make a plot of the distribution, and compute $P(X = 30)$, $E(X)$, and $Var(X)$."
   ]
  },
  {
   "cell_type": "code",
   "execution_count": null,
   "metadata": {},
   "outputs": [],
   "source": [
    "# Enter your Symbulate code here."
   ]
  },
  {
   "cell_type": "markdown",
   "metadata": {},
   "source": [
    "Identify the theoretical distribution of $X$ if the sampling is done **with replacement.** Make a plot of the distribution, and compute $P(X = 30)$, $E(X)$, and $Var(X)$."
   ]
  },
  {
   "cell_type": "code",
   "execution_count": null,
   "metadata": {},
   "outputs": [],
   "source": [
    "# Enter your Symbulate code here."
   ]
  },
  {
   "cell_type": "markdown",
   "metadata": {},
   "source": [
    "Create a single plot with the two theoretical distributions overlaid."
   ]
  },
  {
   "cell_type": "code",
   "execution_count": null,
   "metadata": {},
   "outputs": [],
   "source": [
    "# Enter your Symbulate code here."
   ]
  },
  {
   "cell_type": "markdown",
   "metadata": {},
   "source": [
    "**Thought question:** Compare the results when sampling with versus without replacement. When the population size is much larger than the sample size, how does the distribution of the number of successes when the sampling is with replacement compare to when the sampling is without replacement?"
   ]
  },
  {
   "cell_type": "markdown",
   "metadata": {},
   "source": [
    "## d) Statistical application: using a Binomial distribution in a study with random sampling"
   ]
  },
  {
   "cell_type": "markdown",
   "metadata": {},
   "source": [
    "A legendary story on college campuses concerns two students who miss a chemistry exam because of excessive partying but blame their absence on a flat tire.  The professor allowed them to take a make-up exam, and he sent them to separate rooms to take it.  The first question, worth five points, was quite easy.  The second question, worth ninety-five points, asked: Which tire was it?  \n",
    "\n",
    "When Cal Poly students are faced with this scenario, do they have a tendency to pick a certain tire?  Specifically, do students have a tendency to pick the *right front* tire as opposed to just choosing any of the four tires uniformly at random?\n",
    "\n",
    "In a recent sample of 35 Cal Poly students faced with this scenario, 16 picked the right front tire.  Assume that this sample can be considered a random sample from the population of Cal Poly students."
   ]
  },
  {
   "cell_type": "markdown",
   "metadata": {},
   "source": [
    "Let $X$ be the number of students in a random sample of 35 Cal Poly students who pick the right front tire.\n",
    "\n",
    "**Thought question.** If Cal Poly students in general are equally like to choose any of the four tires at random, what is the distribution of $X$?"
   ]
  },
  {
   "cell_type": "markdown",
   "metadata": {},
   "source": [
    "Compute $P_0(X \\ge 16)$ under the assumption that students in general are equally like to choose any of the four tires at random. (Hint: identify the named distribution and its parameters, call `.cdf(x)` (similar to .pmf()) to return $P(X\\le x)$, and use the complement rule.)"
   ]
  },
  {
   "cell_type": "code",
   "execution_count": null,
   "metadata": {},
   "outputs": [],
   "source": [
    "# Enter your Symbulate code here."
   ]
  },
  {
   "cell_type": "markdown",
   "metadata": {},
   "source": [
    "**Thought question.** Given the probability in the previous part (called a p-value), does the sample of 35 students in which 16 chose the right front tire provide evidence that students have a tendency to pick the right front tire (rather than just picking a tire uniformly at random)?"
   ]
  },
  {
   "cell_type": "markdown",
   "metadata": {},
   "source": [
    "Suppose that prior to collecting data on a sample of 35 students, you decide to use the following rule:\n",
    "\n",
    "- If at least 14 students choose the right front tire, then the sample provides sufficient evidence that students have a tendency to pick the right front tire\n",
    "- If 13 or fewer students choose the right front tire, then the sample does not provide sufficient evidence that students have a tendency to pick the right front tire"
   ]
  },
  {
   "cell_type": "markdown",
   "metadata": {},
   "source": [
    "Suppose that students in general are equally like to choose any of the four tires at random. Compute $P_0(X\\ge 14)$, the probability that a sample of 35 students will *incorrectly* lead you to conclude that there is evidence that students have a tendency to pick the right front tire when in actuality students just pick a tire uniformly at random.  (This probability is called the probability of Type I error.) "
   ]
  },
  {
   "cell_type": "code",
   "execution_count": null,
   "metadata": {},
   "outputs": [],
   "source": [
    "# Enter your Symbulate code here."
   ]
  },
  {
   "cell_type": "markdown",
   "metadata": {},
   "source": [
    "Suppose that students in general do have a tendency to pick the right front tire.  In particular, suppose that the probability that any single randomly selected student picks the right front tire is 0.4.  What is the distribution of $X$ in this case? Compute $P_a(X\\ge 14)$, the probability that a sample of 35 students will *correctly* lead you to conclude that students have a tendency to pick the right front tire when in actuality students do have a probability of 0.4 of picking the right front tire.  (This probability is called the power when $p=0.4$.) "
   ]
  },
  {
   "cell_type": "code",
   "execution_count": null,
   "metadata": {},
   "outputs": [],
   "source": [
    "# Enter your Symbulate code here."
   ]
  },
  {
   "cell_type": "markdown",
   "metadata": {},
   "source": [
    "## e) Statistical application: using a Hypergeometric distribution in a study with random assignment"
   ]
  },
  {
   "cell_type": "markdown",
   "metadata": {},
   "source": [
    "Peanut allergies have increased in prevalence in the last decade, but can they be prevented? Even\n",
    "among infants with a high risk of allergy? Is it better to avoid the peanuts or to encourage\n",
    "early introduction? A recently study *randomly assigned* U.K. infants (4-11 months old) with pre-existing sensitivity to peanut extract to either consume 6 g of peanut protein per week or to avoid peanuts until 60 months of age. The table below shows the results of whether or not the children had developed a peanut allergy at 60 months."
   ]
  },
  {
   "cell_type": "markdown",
   "metadata": {},
   "source": [
    "\n",
    "|   _\t| Peanut avoidance \t| Peanut consumption \t| Total \t|\n",
    "| ---\t| ---\t| ---\t| ---\t|\n",
    "| Peanut allergy \t| 11 \t| 2 \t| 13 \t|\n",
    "| No allergy \t| 172 \t| 193 \t| 365 \t|\n",
    "| Total \t| 183 \t| 195 \t| 378 \t|\n"
   ]
  },
  {
   "cell_type": "markdown",
   "metadata": {},
   "source": [
    "Do the data provide evidence that kids who avoid peanuts are more likely to develop a peanut allergy than those who consume peanuts?  We'll address this question by computing an appropriate probability.\n",
    "\n",
    "- Imagine a deck of 378 cards\n",
    "- If avoiding/consuming peanuts has no effect on developing an allergy, then the 13 kids who developed an allergy would have developed an allergy regardless of which group (avoid/consume) they had been in.  So write \"allergy\" on 13 of the cards and \"no allergy\" on the rest.\n",
    "- Shuffle the cards and deal 183 to represent the avoid group and the remaining 195 are the consume group.\n",
    "- Let $X$ denote  the number of the 183 cards dealt to the avoid group that say \"allergy\".\n",
    "- We are interested in $P_0(X \\ge 11)$ the probability that at least 11 of the 13 kids who would have developed an allergy anyway got randomly assigned to the avoid group just by chance in the random assignment when there is no effect of the avoid/consume treatment.\n",
    "_\n",
    "Identify the distribution of $X$ under the above conditions and compute $P_0(X \\ge 11)$."
   ]
  },
  {
   "cell_type": "code",
   "execution_count": null,
   "metadata": {},
   "outputs": [],
   "source": [
    "# Enter your Symbulate code here."
   ]
  },
  {
   "cell_type": "markdown",
   "metadata": {},
   "source": [
    "**Thought question.** Given the probability in the previous part, do the sample data provide evidence that kids who avoid peanuts are more likely to develop a peanut allergy than those who consume peanuts?"
   ]
  },
  {
   "cell_type": "markdown",
   "metadata": {},
   "source": [
    "# f) Reflection\n",
    "\n",
    "Write a paragraph, or some bullet points, of what you learned from this lab"
   ]
  },
  {
   "cell_type": "markdown",
   "metadata": {},
   "source": [
    "**TYPE YOUR RESPONSE HERE.**"
   ]
  },
  {
   "cell_type": "markdown",
   "metadata": {},
   "source": [
    "# g) Reflection - questions\n",
    "\n",
    "Write a paragraph, or some bullet points, of some questions you have about the material introduced in this lab."
   ]
  },
  {
   "cell_type": "markdown",
   "metadata": {},
   "source": [
    "**TYPE YOUR RESPONSE HERE.**"
   ]
  },
  {
   "cell_type": "markdown",
   "metadata": {},
   "source": [
    "## Submission Instructions\n",
    "\n",
    "- After you have completed the notebook, select **Runtime > Run all**\n",
    "- After the notebook finishes rerunning check to make sure that you have no errors and everything runs properly.  Fix any problems and redo this step until it works.\n",
    "- Make sure you typed the names of both partners at the top of the notebook where it says \"Type your names here\".\n",
    "- Click Share in the top right and share with stat305cp@gmail.com \n",
    "- Save a PDF version: File > Print > Save as PDF\n",
    "- Download the notebook: File > Download .ipynb\n",
    "- Submit the notebook and PDF in PL.  Remember, only one submission per team.  (Either partner can submit.)"
   ]
  },
  {
   "cell_type": "code",
   "execution_count": null,
   "metadata": {},
   "outputs": [],
   "source": []
  }
 ],
 "metadata": {
  "kernelspec": {
   "display_name": "Python 3",
   "language": "python",
   "name": "python3"
  },
  "language_info": {
   "codemirror_mode": {
    "name": "ipython",
    "version": 3
   },
   "file_extension": ".py",
   "mimetype": "text/x-python",
   "name": "python",
   "nbconvert_exporter": "python",
   "pygments_lexer": "ipython3",
   "version": "3.7.3"
  }
 },
 "nbformat": 4,
 "nbformat_minor": 2
}
