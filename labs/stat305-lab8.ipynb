{
 "cells": [
  {
   "cell_type": "markdown",
   "metadata": {},
   "source": [
    "# Stat 305 Lab 8: Exponential distributions and Poisson processes"
   ]
  },
  {
   "cell_type": "markdown",
   "metadata": {},
   "source": [
    "**For the lab, you must work in teams of 2, submitting one notebook per team.**"
   ]
  },
  {
   "cell_type": "markdown",
   "metadata": {},
   "source": [
    "**TYPE YOUR NAMES HERE**"
   ]
  },
  {
   "cell_type": "markdown",
   "metadata": {},
   "source": [
    "# Introduction\n",
    "\n",
    "\n",
    "This Jupyter notebook provides a template for you to fill in. **Read the notebook from start to finish, completing the parts as indicated.**  To run a cell, make sure the cell is highlighted by clicking on it, then press SHIFT + ENTER on your keyboard.  (Alternatively, you can click the \"play\" button in the toolbar above.)\n",
    "\n",
    "Some code has already been provided.  Be sure to run this code and view the output to understand what it does.  In other parts, you will need to provide the code yourself; use the examples provided as a guide. \n",
    "\n",
    "You will use the Python package [Symbulate](https://github.com/dlsun/symbulate).   **You should use only use Symbulate commands, not general Python code.**\n",
    "\n",
    "**Thought questions:** You should think about and discuss briefly with your partner before proceeding, but you do not need to type a response."
   ]
  },
  {
   "cell_type": "markdown",
   "metadata": {},
   "source": [
    "Be sure to run the following lines first."
   ]
  },
  {
   "cell_type": "code",
   "execution_count": null,
   "metadata": {},
   "outputs": [],
   "source": [
    "# If in Colab, uncomment the following line and run this cell first\n",
    "# !pip install symbulate"
   ]
  },
  {
   "cell_type": "code",
   "execution_count": null,
   "metadata": {},
   "outputs": [],
   "source": [
    "from symbulate import *\n",
    "%matplotlib inline\n",
    "from matplotlib import pyplot as plt"
   ]
  },
  {
   "cell_type": "markdown",
   "metadata": {},
   "source": [
    "## Lab 8\n",
    "\n",
    "In this lab you will investigate:\n",
    "\n",
    "- A random phenonemon that happens over time\n",
    "- Exponential distributions as models of times between \"occurrences\"\n",
    "- Relationships between Poisson distributions, Binomial distributions, and Exponential distributions in relation to a random phenomenon that happens over time\n",
    "- Poisson processes and related random variables\n"
   ]
  },
  {
   "cell_type": "markdown",
   "metadata": {},
   "source": [
    "# Overview\n",
    "\n",
    "Suppose that (harmless) micrometeors strike the International Space Station (ISS) at rate 1.5 per hour on average.  You will consider three models of how the strikes occur over time.\n",
    "\n",
    "  * **Model 1:** Strikes occur independently of each other, in each *minute* of time there is at most one strike, and the probability that a strike occurs in any minute is 1.5/60.  \n",
    "  * **Model 2:** Over any period of time, the number of strikes which occur has a Poisson distribution, and the numbers of strikes which occur in non-overlapping time periods are independent.\n",
    "  * **Model 3:** The time (hours) elapsed between any two strikes has an [Exponential](https://dlsun.github.io/symbulate/common_continuous.html#exponential) distribution with mean 2/3 hour (that is, 40 minutes), and the times between strikes are independent.  \n",
    "  \n",
    "Let $X$ be the number of strikes that occur in the next 3 hours (starting now) and let $Y$ be the number of strikes that occurs in the next 5 hours (starting now). You will use simulation to approximate the joint, conditional, and marginal distributions of $(X, Y)$, and the expected values, standard deviations, and correlation.\n",
    "\n",
    "**Thought questions.**  Note: I'm going to provide the answers but you should think about the questions and answer them on your own before checking the answers.\n",
    "\n",
    "- Are $X$ and $Y$ independent?\n",
    "- Is the correlation between $X$ and $Y$ positive, negative, or zero?\n",
    "- What does $Z = Y-X$ represent?"
   ]
  },
  {
   "cell_type": "markdown",
   "metadata": {},
   "source": [
    "**THINK BEFORE PROCEEDING.**"
   ]
  },
  {
   "cell_type": "markdown",
   "metadata": {},
   "source": [
    "- No, $X$ and $Y$ are not independent.  In particular, $Y\\ge X$.  Unconditionally $Y$ can take values 0, 1, 2, ...  But given $X=4$, $Y$ can only takes values 4, 5, 6, ...\n",
    "- The correlation between $X$ and $Y$ is positive.  For example, if there are many strikes in the first three hours, then there are many strikes in the first five hours.  If there are few strikes in the first five hours, then there are few strikes in the first three hours.\n",
    "- $Z = Y-X$ represents the number of strikes that occur between 3 and 5 hours from now.  If $X$ counts the strikes that happen in the time interval $[0, 3]$ and $Y$ counts the strikes that happen in the time interval $[0, 5]$, then $Z=Y-X$ counts the strikes that happen in the time interval $(3, 5]$."
   ]
  },
  {
   "cell_type": "markdown",
   "metadata": {},
   "source": [
    "## a) Model 1\n",
    "\n",
    "Suppose that strikes occur independently of each other, in each *minute* of time there is at most one strike, and the probability that a strike occurs in any minute is 1.5/60.\n",
    "\n",
    "**Thought questions.**\n",
    "\n",
    "- Why is 1.5/60 a reasonable value for the probability of a strike in a minute?\n",
    "- What is the marginal distribution of $X$?  (Hint: how many minutes are in three hours? In each minute a strike either occurs or not,... what scenario does this sound like?)\n",
    "- What is the marginal distribution of $Z = Y-X$?\n",
    "- Are $X$ and $Z$ independent?\n",
    "- What is the marginal distribution of $Y$?"
   ]
  },
  {
   "cell_type": "markdown",
   "metadata": {},
   "source": [
    "**THINK BEFORE PROCEEDING.**"
   ]
  },
  {
   "cell_type": "markdown",
   "metadata": {},
   "source": [
    "- If the probability of a strike in any minute is 1.5/60, we expect 60(1.5/60) = 1.5 strikes per hour on average.\n",
    "- $X$ has a Binomial(180, 1.5/60) distribution.  Each minute is a \"trial\", in a three hour period there are 180 minutes, \"success\" is a strike, the marginal probability of success on any single trial is 1.5/60, and strikes occur independently.\n",
    "- $Z=Y-X$ has a Binomial(120, 1.5/60) distribution for reasons similar to above, but now there are 120 \"trials\" in a 2 hour period.\n",
    "- Yes, $X$ and $Z$ are independent because strikes occur independently from minute to minute and $X$ and $Z$ concern non-overlapping time intervals.\n",
    "- $Y$ has a Binomial(300, 1.5/60) distribution.  But remember that $X$ and $Y$ are *not* independent."
   ]
  },
  {
   "cell_type": "markdown",
   "metadata": {},
   "source": [
    "Use simulation to approximate the joint and marginal distributions of $(X, Y)$, and the expected values, standard deviations, and correlation.\n",
    "\n",
    "**Note:** As in lab 7, you will need to add commands that do all of the above.  Feel free to add as many cells as you want.\n",
    "\n",
    "**Hint:** it is easiest to define `X, Z = RV()` by specifying the joint distribution of the *independent* RVs X and Z as the product of their marginal distributions.  Then define `Y = X + Z` and simulate `(X & Y)`.\n",
    "\n",
    "The default joint `.plot()` will be `'scatter'`; but for scatter you will want to add `jitter=True`, that is `.plot(jitter = True)`..  You might also try `.plot('tile')`.  And you can create separate plots for marginal distributions of $X$ and $Y$, or add to the joint plot, e.g., with `.plot(['tile', 'marginal'])`"
   ]
  },
  {
   "cell_type": "code",
   "execution_count": null,
   "metadata": {},
   "outputs": [],
   "source": [
    "# Enter your Symbulate code here"
   ]
  },
  {
   "cell_type": "markdown",
   "metadata": {},
   "source": [
    "Use simulation to approximate the conditional distribution of $X$ given $Y=6$, and the conditional mean and standard deviation."
   ]
  },
  {
   "cell_type": "code",
   "execution_count": null,
   "metadata": {},
   "outputs": [],
   "source": [
    "# Enter your Symbulate code here"
   ]
  },
  {
   "cell_type": "markdown",
   "metadata": {},
   "source": [
    "## b) Model 2\n",
    "\n",
    "Recall that strikes occur at rate 1.5 per hour on average. Suppose that over any period of time, the number of strikes which occur has a Poisson distribution, and the numbers of strikes which occur in non-overlapping time periods are independent.\n",
    "\n",
    "**Thought questions.**\n",
    "\n",
    "- What is the marginal distribution of $X$?  What is its mean?\n",
    "- What is the marginal distribution of $Z = Y-X$? And its mean?\n",
    "- Are $X$ and $Z$ independent?\n",
    "- What is the marginal distribution of $Y$?"
   ]
  },
  {
   "cell_type": "markdown",
   "metadata": {},
   "source": [
    "**THINK BEFORE PROCEEDING.**"
   ]
  },
  {
   "cell_type": "markdown",
   "metadata": {},
   "source": [
    "- By assumptions of Model 2, $X$ has a Poisson distribution.  Since strikes occur at rate 1.5 per hour on average, the mean number of strikes in a 3 hour period is 4.5.  So $X$ has a Poisson(4.5) distribution.\n",
    "- $Z$ counts the strikes in a two hour period, so $Z$ has a Poisson(3) distribution.\n",
    "- Yes, $X$ and $Z$ are independent by assumption because they count strikes in non-overlapping intervals.\n",
    "- $Y$ has a Poisson(7.5) distribution.  But remember, $X$ and $Y$ are not independent."
   ]
  },
  {
   "cell_type": "markdown",
   "metadata": {},
   "source": [
    "Use simulation to approximate the joint and marginal distributions of $(X, Y)$, and the expected values, standard deviations, and correlation.\n",
    "\n",
    "**Note:** As in lab 7, you will need to add commands that do all of the above.  Feel free to add as many cells as you want.\n",
    "\n",
    "**Hint:** See the hint for Model 1, and follow a similar process here."
   ]
  },
  {
   "cell_type": "code",
   "execution_count": null,
   "metadata": {},
   "outputs": [],
   "source": [
    "# Enter your Symbulate code here"
   ]
  },
  {
   "cell_type": "markdown",
   "metadata": {},
   "source": [
    "**Thought question.** What is the conditional distribution of $X$ given $Y=6$?  (Hint: given $Y=6$ there are 6 occurrences in the first 5 hours, and each of these occurrences either occurs in the first 3 hours or not.)\n",
    "\n",
    "\n",
    "Use simulation to approximate the conditional distribution of $X$ given $Y=6$, and the conditional mean and standard deviation.  Overlay the theoretical distribution on the plot."
   ]
  },
  {
   "cell_type": "code",
   "execution_count": null,
   "metadata": {},
   "outputs": [],
   "source": [
    "# Enter your Symbulate code here"
   ]
  },
  {
   "cell_type": "markdown",
   "metadata": {},
   "source": [
    "## c) Model 3\n",
    "\n",
    "Recall that strikes occur at rate 1.5 per hour on average. Now suppose that the time (hours) elapsed between any two strikes has an [Exponential](https://dlsun.github.io/symbulate/common_continuous.html#exponential) distribution with mean 2/3 hour (that is, 40 minutes), and the times between strikes are independent.\n",
    "\n",
    "**Thought questions.**\n",
    "\n",
    "- Why is 2/3 hour (40 minutes) a reasonable value for the mean time between strikes?\n",
    "- Suppose that $W_0$ is the time starting at time 0 until the first strike occurs, $W_1$ is the time elapsed between the occurrence of the first and second strike, $W_2$ between the second and third, and so on.  How could you use the $W$'s to determine $X$ and $Y$?\n",
    "- As a concrete example, determine $X$ and $Y$ if $W_0=0.7$, $W_1 = 0.5$, $W_2 = 0.6$, $W_3=0.4$, $W_4=0.9$, $W_5=2.2$."
   ]
  },
  {
   "cell_type": "markdown",
   "metadata": {},
   "source": [
    "**THINK BEFORE PROCEEDING.**"
   ]
  },
  {
   "cell_type": "markdown",
   "metadata": {},
   "source": [
    "- Strikes occur on average 1.5 per hour, or 1.5 per 60 minutes, so on average we wait 60/1.5 = 40 minutes between strikes.\n",
    "- Sum the $W$'s until the time exceeds 3 hours and then stop summing.  The number of terms you added, minus one (since the last one puts you over 3 hours), will give the number of strikes that have occurred in the first 3 hours.  For $Y$, just keep adding until you exceed 5 hours.\n",
    "- For the example sequence, the first strike occurs at time 0.7 hours, the second at time 1.2 hours, the third at time 1.8 hours, the fourth at time 2.2 hours, the fifth at time 3.1 hours, and the sixth at time 5.3 hours.  So $X=4$ since at time 3 hours four strikes have occurred so far (and the fifth occurs after time 3).  Similarly, $Y=5$ since at time 5 hours five strikes have occurred so far (and the sixth occurs after time 5).\n",
    "\n",
    "**Note:** be sure not to confuse the *mean* of the Exponential distribution 2/3, with the rate parameter 1.5."
   ]
  },
  {
   "cell_type": "markdown",
   "metadata": {},
   "source": [
    "Use simulation to approximate the joint and marginal distributions of $(X, Y)$, and the expected values, standard deviations, and correlation.\n",
    "\n",
    "**Note:** As in lab 7, you will need to add commands that do all of the above.  Feel free to add as many cells as you want.\n",
    "\n",
    "**Hint:** The exponential RVs represent the time between strikes, or *interarrival times*. You can define a probability space corresponding to infinitely many interarrival times using \n",
    "\n",
    "```\n",
    "P = Exponential(rate) ** inf\n",
    "```\n",
    "\n",
    "Make sure you specify the rate corresponding to time measured in hours.\n",
    "\n",
    "The `count_strikes` functions below take as an input a sequence of interarrival times *measured in hours* (like the $W$'s in the above example)  and outputs the number of strikes in the first 3 hours, or 5 hours. You can use these functions to define the `RV` $X$ and $Y$ on the probability space `P`."
   ]
  },
  {
   "cell_type": "code",
   "execution_count": null,
   "metadata": {},
   "outputs": [],
   "source": [
    "def count_strikes_in_3_hours(interarrival_times):\n",
    "    total_time = 0\n",
    "    num_strikes = 0\n",
    "    for time in interarrival_times:\n",
    "        total_time += time\n",
    "        if total_time > 3:\n",
    "            return num_strikes\n",
    "        else:\n",
    "            num_strikes += 1\n",
    "            \n",
    "def count_strikes_in_5_hours(interarrival_times):\n",
    "    total_time = 0\n",
    "    num_strikes = 0\n",
    "    for time in interarrival_times:\n",
    "        total_time += time\n",
    "        if total_time > 5:\n",
    "            return num_strikes\n",
    "        else:\n",
    "            num_strikes += 1"
   ]
  },
  {
   "cell_type": "code",
   "execution_count": null,
   "metadata": {},
   "outputs": [],
   "source": [
    "# Enter your Symbulate commands here."
   ]
  },
  {
   "cell_type": "markdown",
   "metadata": {},
   "source": [
    "Use simulation to approximate the conditional distribution of $X$ given $Y=6$, and the conditional mean and standard deviation."
   ]
  },
  {
   "cell_type": "code",
   "execution_count": null,
   "metadata": {},
   "outputs": [],
   "source": [
    "# Enter your Symbulate commands here."
   ]
  },
  {
   "cell_type": "markdown",
   "metadata": {},
   "source": [
    "## d) Comparison of models\n",
    "\n",
    "**Thought question.** Review your simulation output for the three models. In each model, we made what appeared to be different assumptions. Does it seem like the distribution of $(X, Y)$ is the same under all three models?"
   ]
  },
  {
   "cell_type": "markdown",
   "metadata": {},
   "source": [
    "## e) Poisson processes\n",
    "\n",
    "**In Part e) you should just read and run the cells.  There are a few follow up questions in Part f) that require you to provide Symbulate commands.**\n",
    "\n",
    "You should observe that models 1, 2, and 3 all produce similar distributions for $(X, Y)$.  It turns out that these three different sets of assumptions are equivalent to one another.  For example, if you assume the times between ocurrences are independent and Exponentially distributed as in Model 3, then the counts of events in non-overlapping time intervals will be independent with the count in each interval having a Poisson distribution with appropriate mean.\n",
    "\n",
    "A random phenomenon which evolves over time according to the assumptions of Model 2 (or equivalently Model 3, or equivalently Model 1) is called a *Poisson process*.  A Poisson process has a single parameter: $\\lambda$, the average *rate* at which occurrences happen.  In the example here, $\\lambda = 1.5$ strikes per hour on average.  In a Poisson process, the times between occurrences are independent, each having an Exponential distribution with rate parameter $\\lambda$.  Also, the number of occurrences that happen in any time interval of length $t$ has a Poisson distribution with mean $\\lambda t$.\n",
    "\n",
    "In the example, we only considered the number of occurrences at two time points, 3 and 5.  But in a Poisson process, for every point in time there is a random variable which represents the number of occurrences that have occurred by that time.\n",
    "\n",
    "We have actually seen an example of an outcome from a Poisson process before; recall Exercise 3.4 of Handout 3 and [Example 2.17 in the course notes](https://bookdown.org/kevin_davisross/probbook/rv.html).  There are many random variables we are interested in for a Poisson process: the counts of occurrences at particular times, the times between occurrences, the times at which the occurrences happen.  In Symbulate, defining a `PoissonProcessProbabilitySpace` allows access to all these random variables.  Defining a `RV` `N` on this probability space defines a Poisson process. An outcome can be plotted as a \"sample path\" which plots the number of occurrences over time."
   ]
  },
  {
   "cell_type": "code",
   "execution_count": null,
   "metadata": {},
   "outputs": [],
   "source": [
    "P = PoissonProcessProbabilitySpace(1.5)\n",
    "N = RV(P)\n",
    "N.sim(1).plot()"
   ]
  },
  {
   "cell_type": "markdown",
   "metadata": {},
   "source": [
    "The horizontal axis represents time (hours, continuous). The vertical axis represents number of occurrences (count, discrete). Again, refer to Exercise 3.4 of Handout 3 and [Example 2.17 in the course notes].\n",
    "\n",
    "Here are a few possible sample paths."
   ]
  },
  {
   "cell_type": "code",
   "execution_count": null,
   "metadata": {},
   "outputs": [],
   "source": [
    "N.sim(5).plot()"
   ]
  },
  {
   "cell_type": "markdown",
   "metadata": {},
   "source": [
    "For the Poisson process `N`, `N[t]` is the random variable representing the number of occurrences that have happened by time t (hours).  For example `N[3]` is what we called $X$ above, and `N[5]` is what we called $Y$."
   ]
  },
  {
   "cell_type": "code",
   "execution_count": null,
   "metadata": {},
   "outputs": [],
   "source": [
    "xy = (N[3] & N[5]).sim(10000)\n",
    "xy.plot(['tile', 'marginal'])\n",
    "xy.mean(), xy.sd(), xy.corr()"
   ]
  },
  {
   "cell_type": "markdown",
   "metadata": {},
   "source": [
    "We can also define `RV` corresponding to the sequence of `interarrival_times` between occurrences."
   ]
  },
  {
   "cell_type": "code",
   "execution_count": null,
   "metadata": {},
   "outputs": [],
   "source": [
    "W = RV(P, interarrival_times)\n",
    "W.sim(1)"
   ]
  },
  {
   "cell_type": "markdown",
   "metadata": {},
   "source": [
    "For the sequence `W`, `W[0]` is the time between time 0 and the first arrival (what we called $W_0$ above), `W[1]` is the time between the first and second arrivals (what we called $W_1$ above), and so on.\n",
    "\n",
    "**Thought questions.** Are `W[0]` and `W[1]` independent? Does each have an Exponential(1.5) distribution?"
   ]
  },
  {
   "cell_type": "code",
   "execution_count": null,
   "metadata": {},
   "outputs": [],
   "source": [
    "xy = (W[0] & W[1]).sim(10000)\n",
    "xy.plot(['scatter', 'marginal'])\n",
    "xy.mean(), xy.sd(), xy.corr()"
   ]
  },
  {
   "cell_type": "markdown",
   "metadata": {},
   "source": [
    "`W` represents the sequence of interarrival times, the times between occurrences. We can also define the *arrival times* at which the occurrences happen: The first occurrence happens at time $T_0 = 0 + W_0$, the second at time $T_1 = T_0 + W_1$, the third at time $T_2 = T_1 + W_1$, the fourth at time $T_3 = T_2 + W_3$ and so on.  The `RV` `T` below represents the sequences of arrival times."
   ]
  },
  {
   "cell_type": "code",
   "execution_count": null,
   "metadata": {},
   "outputs": [],
   "source": [
    "T = RV(P, arrival_times)\n",
    "T.sim(1)"
   ]
  },
  {
   "cell_type": "markdown",
   "metadata": {},
   "source": [
    "For the sequence `T`, `T[0]` is the time at which the first occurrence happens, `T[1]` the time at which the second occurrence happens, `T[2]` the time at which the third occurrence happens, etc.  \n",
    "\n",
    "**Thought questions.** Are `T[0]` and `T[1]` independent?  Does each have an Exponential distribution?"
   ]
  },
  {
   "cell_type": "code",
   "execution_count": null,
   "metadata": {},
   "outputs": [],
   "source": [
    "xy = (T[0] & T[1]).sim(10000)\n",
    "xy.plot(['scatter', 'marginal'])\n",
    "xy.mean(), xy.sd(), xy.corr()"
   ]
  },
  {
   "cell_type": "markdown",
   "metadata": {},
   "source": [
    "## f) Poisson processes - conditional distributions\n",
    "\n",
    "In the following, you'll use simulation to investigate distributions involving some of these random variables."
   ]
  },
  {
   "cell_type": "markdown",
   "metadata": {},
   "source": [
    "Find the conditional distribution of `N[3]` given `N[5] = 6`.  How does this compare to the conditional distribution of $X$ given $Y=6$ above?"
   ]
  },
  {
   "cell_type": "code",
   "execution_count": null,
   "metadata": {},
   "outputs": [],
   "source": [
    "# Enter your Symbulate commands here."
   ]
  },
  {
   "cell_type": "markdown",
   "metadata": {},
   "source": [
    "Find the conditional distribution of `T[0]`, the time of the first occurrence, given `N[0.5] = 1`, that is, that there is exactly one occurrence in the first 0.5 hour. What does this distribution look like?  "
   ]
  },
  {
   "cell_type": "code",
   "execution_count": null,
   "metadata": {},
   "outputs": [],
   "source": [
    "# Enter your Symbulate commands here."
   ]
  },
  {
   "cell_type": "markdown",
   "metadata": {},
   "source": [
    "Find the conditional joint distribution of `T[0]` and `T[1]`, the times of the first and second occurrences, given `N[0.5] = 2`, that is, that there are exactly two occurrences in the first 0.5 hour. What does this distribution look like? (Hint: when deciding what the conditional joint distribution looks like, consider two spins of a Uniform(0, 0.5) spinner and let $U$ be the smaller of the two spins and $V$ the larger.  You saw a very similar problem on midterm 1.)"
   ]
  },
  {
   "cell_type": "code",
   "execution_count": null,
   "metadata": {},
   "outputs": [],
   "source": [
    "# Enter your Symbulate commands here."
   ]
  },
  {
   "cell_type": "markdown",
   "metadata": {},
   "source": [
    "**Thought question.** How are the arrival times conditionally distributed given that there are $n$ occurrences in the time interval $[0, t]$?\n",
    "\n",
    "Answer: Given that there are $n$ occurrences in the time interval $[0, t]$, the $n$ arrival times are conditionally distributed like the results of $n$ spins of a Uniform(0, $t$) spinner arranged in order from smallest (for the first occurrence) to largest (for the $n$th occurrence)."
   ]
  },
  {
   "cell_type": "markdown",
   "metadata": {},
   "source": [
    "## g) Reflection\n",
    "\n",
    "Write a paragraph, or some bullet points, of what you learned from this lab"
   ]
  },
  {
   "cell_type": "markdown",
   "metadata": {},
   "source": [
    "**TYPE YOUR RESPONSE HERE.**"
   ]
  },
  {
   "cell_type": "markdown",
   "metadata": {},
   "source": [
    "## h) Reflection - questions\n",
    "\n",
    "Write a paragraph, or some bullet points, of some questions you have about the material introduced in this lab."
   ]
  },
  {
   "cell_type": "markdown",
   "metadata": {},
   "source": [
    "**TYPE YOUR RESPONSE HERE.**"
   ]
  },
  {
   "cell_type": "markdown",
   "metadata": {},
   "source": [
    "## Submission Instructions\n",
    "\n",
    "- After you have completed the notebook, select **Runtime > Run all**\n",
    "- After the notebook finishes rerunning check to make sure that you have no errors and everything runs properly.  Fix any problems and redo this step until it works.\n",
    "- Make sure you typed the names of both partners at the top of the notebook where it says \"Type your names here\".\n",
    "- Click Share in the top right and share with stat305cp@gmail.com \n",
    "- Save a PDF version: File > Print > Save as PDF\n",
    "- Download the notebook: File > Download .ipynb\n",
    "- Submit the notebook and PDF in PL.  Remember, only one submission per team.  (Either partner can submit.)"
   ]
  },
  {
   "cell_type": "code",
   "execution_count": null,
   "metadata": {},
   "outputs": [],
   "source": []
  }
 ],
 "metadata": {
  "kernelspec": {
   "display_name": "Python 3",
   "language": "python",
   "name": "python3"
  },
  "language_info": {
   "codemirror_mode": {
    "name": "ipython",
    "version": 3
   },
   "file_extension": ".py",
   "mimetype": "text/x-python",
   "name": "python",
   "nbconvert_exporter": "python",
   "pygments_lexer": "ipython3",
   "version": "3.7.3"
  }
 },
 "nbformat": 4,
 "nbformat_minor": 2
}
