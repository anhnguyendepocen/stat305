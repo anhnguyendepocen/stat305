{
 "cells": [
  {
   "cell_type": "markdown",
   "metadata": {},
   "source": [
    "# Stat 305 Lab 4: Conditional probability and conditional distributions"
   ]
  },
  {
   "cell_type": "markdown",
   "metadata": {},
   "source": [
    "**For the lab, you must work in teams of 2, submitting one notebook per team.**  (There is only a lab to submit for this week; no written HW.)"
   ]
  },
  {
   "cell_type": "markdown",
   "metadata": {},
   "source": [
    "**TYPE YOUR NAMES HERE**"
   ]
  },
  {
   "cell_type": "markdown",
   "metadata": {},
   "source": [
    "## Introduction\n",
    "\n",
    "This Jupyter notebook provides a template for you to fill in. **Read the notebook from start to finish, completing the parts as indicated.**  To run a cell, make sure the cell is highlighted by clicking on it, then press SHIFT + ENTER on your keyboard.  (Alternatively, you can click the \"play\" button in the toolbar above.)\n",
    "\n",
    "Some code has already been provided.  Be sure to run this code and view the output to understand what it does.  In other parts, you will need to provide the code yourself; use the examples provided as a guide. \n",
    "\n",
    "You will use the Python package [Symbulate](https://github.com/dlsun/symbulate).   You will need to write a few simple Python functions, but **whenever possible, you should use only use Symbulate commands, not general Python code.**\n",
    "\n",
    "**Thought questions:** You should think about and discuss briefly with your partner before proceeding, but you do not need to type a response."
   ]
  },
  {
   "cell_type": "markdown",
   "metadata": {},
   "source": [
    "Be sure to run the following lines first."
   ]
  },
  {
   "cell_type": "code",
   "execution_count": null,
   "metadata": {},
   "outputs": [],
   "source": [
    "# If in Colab, uncomment the following line and run this cell first\n",
    "!pip install symbulate"
   ]
  },
  {
   "cell_type": "code",
   "execution_count": null,
   "metadata": {},
   "outputs": [],
   "source": [
    "from symbulate import *\n",
    "%matplotlib inline"
   ]
  },
  {
   "cell_type": "markdown",
   "metadata": {},
   "source": [
    "# Lab 4"
   ]
  },
  {
   "cell_type": "markdown",
   "metadata": {},
   "source": [
    "In this lab you will:\n",
    "\n",
    "- Be introduced to conditional probability\n",
    "- Investigate the difference between conditional probability and unconditional probability\n",
    "- Investigate conditional distributions of random variables, and conditional expected values\n",
    "- Think about conditioning as \"slicing and renormalizing\""
   ]
  },
  {
   "cell_type": "markdown",
   "metadata": {},
   "source": [
    "## a) Introduction to conditional probability\n",
    "\n",
    "This Example is related to Exercise 10.1 in Handout 10.  Suppose that the probability that a randomly selected American is:\n",
    "\n",
    "- a Democrat and supports impeachment of President Trump is 0.26.\n",
    "- a Democrat and does not support impeachment of President Trump is 0.05.\n",
    "- not a Democrat and supports impeachment of President Trump is 0.23.\n",
    "- not a Democrat and does not support impeachment of President Trump is 0.46."
   ]
  },
  {
   "cell_type": "markdown",
   "metadata": {},
   "source": [
    "**Thought question.** Fill in the \"blank\": the probability that an American is a Democrat and supports impeachment is \"blank\" *times* larger than the the probability that an American is a Democrat and does not support impeachment. Do the two probabilities in the previous sentence add to 1?  "
   ]
  },
  {
   "cell_type": "markdown",
   "metadata": {},
   "source": [
    "Define a probability space whose outcomes are (impeachment, party) pairs according to the above specifiations.  The `BoxModel` below gets you started, but you will need to change [`probs`](https://dlsun.github.io/symbulate/probspace.html#boxmodel).  Note that each \"ticket\" in this BoxModel is a pair of values."
   ]
  },
  {
   "cell_type": "code",
   "execution_count": null,
   "metadata": {},
   "outputs": [],
   "source": [
    "# You need to revise probs below\n",
    "P = BoxModel([('Support', 'Democrat'),\n",
    "              ('Support', 'Not Democrat'),\n",
    "              ('Not Support', 'Democrat'),\n",
    "              ('Not Support', 'Not Democrat')],\n",
    "             probs = [0.25, 0.25, 0.25, 0.25])"
   ]
  },
  {
   "cell_type": "markdown",
   "metadata": {},
   "source": [
    "Simulate many outcomes, store the results, and summarize the simulated outcomes in a table of counts. (Remember [`.tabulate()`](https://dlsun.github.io/symbulate/sim.html#tabulate))"
   ]
  },
  {
   "cell_type": "code",
   "execution_count": null,
   "metadata": {},
   "outputs": [],
   "source": [
    "# Enter your Symbulate code here"
   ]
  },
  {
   "cell_type": "markdown",
   "metadata": {},
   "source": [
    "Suppose we want to estimate the **conditional probability** that a *Democrat* supports impeachment.  We can do this by computing the simulated proportion *of Democrats* who support impeachment.  Note: this part does this \"the long way\".  We'll see a shorter way in part c).\n",
    "\n",
    "We want to take our simulation results and only consider the Democrats; we can do this with a [`filter`](https://dlsun.github.io/symbulate/sim.html#filter) function.  The function `is_Democrat` below takes as an input a (impeachment, party) pair and returns `True` if party (that is, `(impeachment, party)[1]`) is Democrat. Applying `.filter(function)` retains only those values for which `function = True`.\n",
    "\n",
    "Using the simulation results you stored above, create a table of counts just for the Democrats.  (Hint: use `.filter(is_Democrat)` before `.tabulate()`.)"
   ]
  },
  {
   "cell_type": "code",
   "execution_count": null,
   "metadata": {},
   "outputs": [],
   "source": [
    "# Be sure to run this cell\n",
    "def is_Democrat(Impeachment_Party):\n",
    "    return Impeachment_Party[1] == 'Democrat'"
   ]
  },
  {
   "cell_type": "code",
   "execution_count": null,
   "metadata": {},
   "outputs": [],
   "source": [
    "# Enter your Symbulate code here"
   ]
  },
  {
   "cell_type": "markdown",
   "metadata": {},
   "source": [
    "Use the simulation results to find the simulated proportion *of Democrats* who support impeachment.\n",
    "\n",
    "Hints:\n",
    "\n",
    "- Apply `filter` to select the Democrats (as in the previous part)\n",
    "- Define an `is_Support` function which returns True if a (impeachment, party) pair supports impeachment\n",
    "- Use `count(is_Support)` to count the Democrats who support impeachment\n",
    "- Divide the appropriate counts to find the proportion.  (What's the denominator?)"
   ]
  },
  {
   "cell_type": "code",
   "execution_count": null,
   "metadata": {},
   "outputs": [],
   "source": [
    "# Enter your Symbulate code here"
   ]
  },
  {
   "cell_type": "markdown",
   "metadata": {},
   "source": [
    "Check your calculation by creating a table of relative frequencies just among the Democrats.  (Hint: use `.filter(is_Democrat)` before `.tabulate(normalize = True)`.)"
   ]
  },
  {
   "cell_type": "code",
   "execution_count": null,
   "metadata": {},
   "outputs": [],
   "source": [
    "# Enter your Symbulate code here"
   ]
  },
  {
   "cell_type": "markdown",
   "metadata": {},
   "source": [
    "**Thought question.** Fill in the blank: *Among the Democrats* the proportion who support impeachment is \"blank\" times larger than the proportion who do not support impeachment.  Do these two proportions add up to 1?  Does the number that fills in the blank here look familiar (aside from simulation margin of error)?\n",
    "\n",
    "Explain what we mean by **conditioning is \"slicing and renormalizing\"**."
   ]
  },
  {
   "cell_type": "markdown",
   "metadata": {},
   "source": [
    "## b) Conditional versus unconditional probability\n",
    "\n",
    "This Example is related to Exercise 10.6 in Handout 10. Consider a group of 5 people: Harry, Bella, Frodo, Anakin, Katniss. Suppose each of their names is written on a slip of paper and the 5 slips of paper are placed into a hat. The\n",
    "papers are mixed up and 2 are pulled out, one after the other **without replacement**.\n",
    "\n",
    "We are interested in the following questions.\n",
    "\n",
    "1. What is the probability that Harry is the first name selected?\n",
    "1. What is the probability that Harry is the second name selected?\n",
    "1. If Bella is the first name selected, what is the probability that Harry is the second name selected?\n",
    "\n",
    "**Thought question.** Before proceeding, give your best guess of each of these probabilites."
   ]
  },
  {
   "cell_type": "markdown",
   "metadata": {},
   "source": [
    "Define a probability space whose outcomes are (first, second) pairs of names drawn.  Hint: use `BoxModel` with [`replace = False`](https://dlsun.github.io/symbulate/probspace.html#boxmodel).\n",
    "\n",
    "Note: if you don't want to deal with strings, you can label Harry as 1, Bella as 2, ..., Katniss as 5."
   ]
  },
  {
   "cell_type": "code",
   "execution_count": null,
   "metadata": {},
   "outputs": [],
   "source": [
    "# Enter your Symbulate code here"
   ]
  },
  {
   "cell_type": "markdown",
   "metadata": {},
   "source": [
    "Simulate many outcomes and store the results."
   ]
  },
  {
   "cell_type": "code",
   "execution_count": null,
   "metadata": {},
   "outputs": [],
   "source": [
    "# Enter your Symbulate code here"
   ]
  },
  {
   "cell_type": "markdown",
   "metadata": {},
   "source": [
    "Use the simulation results to estimate the probability that Harry is the first name selected. Hint: for this and the following parts, use the impeachment problem as a guide.  Like in that problem, an outcome here is a pair, (first, second). "
   ]
  },
  {
   "cell_type": "code",
   "execution_count": null,
   "metadata": {},
   "outputs": [],
   "source": [
    "# Enter your Symbulate code here"
   ]
  },
  {
   "cell_type": "markdown",
   "metadata": {},
   "source": [
    "Use the simulation results to estimate the probability that Harry is the second name selected.  (Hint: what's the demoninator?)"
   ]
  },
  {
   "cell_type": "code",
   "execution_count": null,
   "metadata": {},
   "outputs": [],
   "source": [
    "# Enter your Symbulate code here"
   ]
  },
  {
   "cell_type": "markdown",
   "metadata": {},
   "source": [
    "Use the simulation results to estimate: If Bella is the first name selected, what is the probability that Harry is the second name selected?"
   ]
  },
  {
   "cell_type": "code",
   "execution_count": null,
   "metadata": {},
   "outputs": [],
   "source": [
    "# Enter your Symbulate code here"
   ]
  },
  {
   "cell_type": "markdown",
   "metadata": {},
   "source": [
    "**Thought question.**  Revisit the questions at the beginning.  In light of your simulation results,\n",
    "\n",
    "1. What is the probability that Harry is the first name selected?\n",
    "1. What is the probability that Harry is the second name selected?\n",
    "1. If Bella is the first name selected, what is the probability that Harry is the second name selected?\n",
    "\n",
    "What is the difference between questions (2) and (3)?  Which one involves a conditional probability and which one involves an unconditional probability?"
   ]
  },
  {
   "cell_type": "markdown",
   "metadata": {},
   "source": [
    "## c) Conditional distributions of discrete random variables\n",
    "\n",
    "We introduce conditional distributions in the dice rolling example we have seen a few times now.\n",
    "\n",
    "For the probability space corresponding to two rolls of a fair four-sided die, let $X$ be the sum of the two rolls and $Y$ be the larger of the two rolls (or the common value if a tie)."
   ]
  },
  {
   "cell_type": "markdown",
   "metadata": {},
   "source": [
    "Define the probability space and random variables."
   ]
  },
  {
   "cell_type": "code",
   "execution_count": null,
   "metadata": {},
   "outputs": [],
   "source": [
    "# Enter your Symbulate code here"
   ]
  },
  {
   "cell_type": "markdown",
   "metadata": {},
   "source": [
    "Simulate many $(X, Y)$ pairs (remember `(X & Y)`), store the results and summarize the simulated values in a `'tile'` plot and a table."
   ]
  },
  {
   "cell_type": "code",
   "execution_count": null,
   "metadata": {},
   "outputs": [],
   "source": [
    "# Enter your Symbulate code here"
   ]
  },
  {
   "cell_type": "markdown",
   "metadata": {},
   "source": [
    "**Thought questions.** What do you think is the *conditional distribution* of $Y$ given $X=6$?  Remember, a distribution represents possible values and corresponding probabilities.  If $X=6$, what are the possible values that $Y$ could be? What do you think will be true about the corresponding probabilities? How could you use the simulation to approximate these conditional probabilities? "
   ]
  },
  {
   "cell_type": "markdown",
   "metadata": {},
   "source": [
    "In the previous problems, we used filter to extract subsets to compute conditional probabilities.  A disadvantage of this method is that the approximate conditional probability is only based on the repetitions that satisfy the condition, and not on the total number of repetitions.  For example, in the impeachment problem, the estimate of the conditional probability that a Democrat supports impeachment was only based on the around 3100 Democrats simulated, rather than the total of 10000 repetitions.  This affects the *margin of error* of our estimates.\n",
    "\n",
    "An alternative is to keep performing the simulation until a desired number of repetitions *that satisfy the conditioning event* are achieved.  For example, we could keep running the simulation until we get 10000 Democrats, instead of just simulating 10000 people and getting however many Deomcrats we get.\n",
    "\n",
    "This alternative method can be achieved by using `|`, the \"given\" symbol.  The following code shows how we can simulate the conditional distribution of $Y$ given $X=6$ based on 10000 repetitions for which $X=6$.\n",
    "\n",
    "Run the code below and inspect its output.  Note that:\n",
    "\n",
    "- the total count in the table is 10000\n",
    "- the event being conditioned on, $\\{X = 6\\}$, needs to be placed in parentheses, `(X == 6)`.  Also `==` represents logical equality.\n",
    "- The table and plot represent the *distribution of $Y$ values* given that $X=6$. $Y$ is the quantity that is varying; $X$ is conditioned to be 6."
   ]
  },
  {
   "cell_type": "code",
   "execution_count": null,
   "metadata": {},
   "outputs": [],
   "source": [
    "y_given_X_eq_6 = ( Y | (X == 6) ).sim(10000)\n",
    "y_given_X_eq_6.plot()\n",
    "y_given_X_eq_6.tabulate()"
   ]
  },
  {
   "cell_type": "markdown",
   "metadata": {},
   "source": [
    "**Thought questions.**\n",
    "\n",
    "Look at the tile plot of $(X, Y)$ pairs that you created previously.\n",
    "\n",
    "- What regions of the plot correspond to $X=6$?\n",
    "- Among the repetitions for which $X=6$, what is the relative height of the tile, as represented by the color intensity, for $Y=4$ compared to $Y=3$?  That is, fill in the blank: the height for $Y=4$ is \"blank\" times larger than the height for $Y=3$.\n",
    "- In the tile plot of the joint distribution, do the two heights for $Y=4$ and $Y=3$ add to 1?\n",
    "\n",
    "Now look at the impulse plot of the conditional distribution of $Y$ given $X=6$ above.\n",
    "\n",
    "- Values of what variable are displayed on the horizontal axis?\n",
    "- What is the relative height for $Y=4$ compared to $Y=3$?  How does this correspond to what you observed for the tile plot?\n",
    "- In the impulse plot of the conditional distribution, do the two heights for $Y=4$ and $Y=3$ add to 1?\n",
    "\n",
    "Explain what we mean by **conditioning is \"slicing and renormalizing\"**."
   ]
  },
  {
   "cell_type": "markdown",
   "metadata": {},
   "source": [
    "How can you use your simulation results to estimate the *conditional expected value* of $Y$ given $X=6$?  Enter the appropriate code here.  (Hint: remember all 10000 values satisfy $X=6$.  How do we usually use simulation to approximate expected values?)"
   ]
  },
  {
   "cell_type": "code",
   "execution_count": null,
   "metadata": {},
   "outputs": [],
   "source": [
    "# Enter your Symbulate code here"
   ]
  },
  {
   "cell_type": "markdown",
   "metadata": {},
   "source": [
    "Run a new simulation and use the results to approximate (in a table and plot) the the conditional distribution of $Y$ given $X=5$, and its conditional expected value.  But think first: what do you think this distribution will look like?"
   ]
  },
  {
   "cell_type": "code",
   "execution_count": null,
   "metadata": {},
   "outputs": [],
   "source": [
    "# Enter your Symbulate code here"
   ]
  },
  {
   "cell_type": "markdown",
   "metadata": {},
   "source": [
    "Run a new simulation and use the results to approximate (in a table and plot) the the conditional distribution of $Y$ given $X=4$, and its conditional expected value.  But think first: what do you think this distribution will look like?"
   ]
  },
  {
   "cell_type": "code",
   "execution_count": null,
   "metadata": {},
   "outputs": [],
   "source": [
    "# Enter your Symbulate code here"
   ]
  },
  {
   "cell_type": "markdown",
   "metadata": {},
   "source": [
    "What if we condition on the value of $Y$? Run a new simulation and use the results to approximate (in a table and plot) the the conditional distribution of $X$ given $Y=2$, and its conditional expected value.  But think first: what do you think this distribution will look like?"
   ]
  },
  {
   "cell_type": "code",
   "execution_count": null,
   "metadata": {},
   "outputs": [],
   "source": [
    "# Enter your Symbulate code here"
   ]
  },
  {
   "cell_type": "markdown",
   "metadata": {},
   "source": [
    "Run a new simulation and use the results to approximate (in a table and plot) the the conditional distribution of $X$ given $Y=3$, and its conditional expected value.  But think first: what do you think this distribution will look like?"
   ]
  },
  {
   "cell_type": "code",
   "execution_count": null,
   "metadata": {},
   "outputs": [],
   "source": [
    "# Enter your Symbulate code here"
   ]
  },
  {
   "cell_type": "markdown",
   "metadata": {},
   "source": [
    "Run a new simulation and use the results to approximate (in a table and plot) the the conditional distribution of $X$ given $Y=4$, and its conditional expected value.  But think first: what do you think this distribution will look like?"
   ]
  },
  {
   "cell_type": "code",
   "execution_count": null,
   "metadata": {},
   "outputs": [],
   "source": [
    "# Enter your Symbulate code here"
   ]
  },
  {
   "cell_type": "markdown",
   "metadata": {},
   "source": [
    "**Thought question.** I didn't have you condition on $Y=1$, or on $X=2$, $X=3$, $X=7$, or $X=8$.  What happens in each of these cases?  For example, what is the conditional distribution of $Y$ given $X=7$?"
   ]
  },
  {
   "cell_type": "markdown",
   "metadata": {},
   "source": [
    "## d) Conditional distributions of continuous random variables\n",
    "\n",
    "Here is another example we've seen a few times, the continuous analog of the dice rolloing example.\n",
    "\n",
    "For the probability space corresponding to two spins of the Uniform(0, 1) spinner, let $X$ be the sum of the two spins and let $Y$ be the larger value."
   ]
  },
  {
   "cell_type": "markdown",
   "metadata": {},
   "source": [
    "Define the probability space and random variables."
   ]
  },
  {
   "cell_type": "code",
   "execution_count": null,
   "metadata": {},
   "outputs": [],
   "source": [
    "# Enter your Symbulate code here"
   ]
  },
  {
   "cell_type": "markdown",
   "metadata": {},
   "source": [
    "Simulate many $(X, Y)$ pairs (remember `(X & Y)`), store the results and summarize the simulated values in a `'density'` plot.  (You can also try `'scatter'`, but it's hard to see density, or `'hist'` which will produce the plot but will give an error.) "
   ]
  },
  {
   "cell_type": "code",
   "execution_count": null,
   "metadata": {},
   "outputs": [],
   "source": [
    "# Enter your Symbulate code here"
   ]
  },
  {
   "cell_type": "markdown",
   "metadata": {},
   "source": [
    "**Thought question.** Do the $(X, Y)$ pairs appear to be uniformly distributed (aside from simulation margin of error) over the triangular region of possible values?  The density height appears to be a constant of 2 for all pairs within the triangular region of possible values --- why 2?"
   ]
  },
  {
   "cell_type": "markdown",
   "metadata": {},
   "source": [
    "**Thought questions.** Now we're going to consider the conditional distribution of $Y$ given $X=1$.\n",
    "\n",
    "- What region of the density plot corresponds to the event $X=1$?\n",
    "- What is the distribution of $Y$ values over this region?  What are possible values of $Y$ given $X=1$?  Are the values roughly uniformly distributed over this region?\n",
    "- What would a plot of the conditional distribution of $Y$ given $X=1$ look like?\n",
    "- We will do a simulation, but why do we NOT want to run `(Y | (X == 1) ).sim(10000)`?  Remember: $X$ is a *continuous* random variable."
   ]
  },
  {
   "cell_type": "markdown",
   "metadata": {},
   "source": [
    "Remember, the probability that a *continuous* random variable is equal to any particular value (with infinite precision) is 0.  So trying to run `(Y | (X == 1) ).sim(10000)` will run forever!  Remember, density for continuous random variables represents an idealized, smooth mathematical model of what happens in the limit as the measurement precision gets finer and finer.  But in practice, we only care about a certain number of decimal places.  So rather than conditioning on $\\{X = 1\\}$ we condition on an event like $\\{|X-1| < 0.01\\}$, the event that $X$ differs from 1 by no more than 0.01 (or whatever the desired precision is).  Careful, even though an event like $\\{|X-1| < 0.01\\}$ has non-zero probability, the probability might still be small and so `|` might require a long simulation to achieve the desired number of repetitions that satisfy the condition. "
   ]
  },
  {
   "cell_type": "markdown",
   "metadata": {},
   "source": [
    "How can you use your simulation results to estimate the *conditional expected value* of $Y$ given $X=1$? Enter the appropriate code here.  (Hint: remember all 1000 values satisfy $X=1$.  How do we usually use simulation to approximate expected values?)"
   ]
  },
  {
   "cell_type": "code",
   "execution_count": null,
   "metadata": {},
   "outputs": [],
   "source": [
    "# Enter your Symbulate code here"
   ]
  },
  {
   "cell_type": "markdown",
   "metadata": {},
   "source": [
    "Run a new simulation and use the results to approximate (in a plot) the the conditional distribution of $Y$ given $X=0.5$, and its conditional expected value.  But think first: what do you think this distribution will look like?"
   ]
  },
  {
   "cell_type": "code",
   "execution_count": null,
   "metadata": {},
   "outputs": [],
   "source": [
    "# Enter your Symbulate code here"
   ]
  },
  {
   "cell_type": "markdown",
   "metadata": {},
   "source": [
    "Run a new simulation and use the results to approximate (in a plot) the the conditional distribution of $Y$ given $X=1.5$, and its conditional expected value.  But think first: what do you think this distribution will look like?"
   ]
  },
  {
   "cell_type": "code",
   "execution_count": null,
   "metadata": {},
   "outputs": [],
   "source": [
    "# Enter your Symbulate code here"
   ]
  },
  {
   "cell_type": "markdown",
   "metadata": {},
   "source": [
    "What if we condition on the value of $Y$? Run a new simulation and use the results to approximate (in a table and plot) the the conditional distribution of $X$ given $Y=0.5$, and its conditional expected value.  But think first: what do you think this distribution will look like?"
   ]
  },
  {
   "cell_type": "code",
   "execution_count": null,
   "metadata": {},
   "outputs": [],
   "source": [
    "# Enter your Symbulate code here"
   ]
  },
  {
   "cell_type": "markdown",
   "metadata": {},
   "source": [
    "**Thought questions.**\n",
    "\n",
    "- Look at each of the histograms displaying a conditional distribution. Why do the heights of the density change from plot to plot? (Remember: what should the area under a density curve be?)\n",
    "- Explain how conditioning is \"slicing and renormalizing\".\n",
    "- Can you think of a general expression for the conditional distribution of $X$ given $Y=y$ for any particular $y$?  The conditional expected value?"
   ]
  },
  {
   "cell_type": "markdown",
   "metadata": {},
   "source": [
    "## e) Non-uniform joint and conditional distributions\n",
    "\n",
    "The previous problem illustrated the idea of joint and conditional distributions of continuous random variables.  But in that problem the joint distribution and the conditional distributions (at least when conditioning on a particular value) were Uniform.  In this example you'll see how \"slicing and renormalizing\" works with non-uniform distributions.\n",
    "\n",
    "For the probability space corresponding to two spins of the Uniform(0, 1) spinner, let $X$ be the sum of the two spins and let $Y$ be the product of the two spins."
   ]
  },
  {
   "cell_type": "code",
   "execution_count": null,
   "metadata": {},
   "outputs": [],
   "source": [
    "# Be sure to run this cell\n",
    "P = Uniform(0, 1) ** 2\n",
    "U1, U2 = RV(P)\n",
    "X = U1 + U2\n",
    "Y = U1 * U2"
   ]
  },
  {
   "cell_type": "markdown",
   "metadata": {},
   "source": [
    "Here is a plot of the simulated joint density of $X$ and $Y$.  Don't worry about why this shape is what it is, just know that it is *not* uniform; certain $(x, y)$ pairs have higher density than others."
   ]
  },
  {
   "cell_type": "code",
   "execution_count": null,
   "metadata": {},
   "outputs": [],
   "source": [
    "# Be sure to run this cell\n",
    "(X & Y).sim(1000).plot('density')"
   ]
  },
  {
   "cell_type": "markdown",
   "metadata": {},
   "source": [
    "**Thought question.** What are the possible values of $Y$ given $X=1$? What would the conditional distribution of $Y$ given $X=1$ look like?  Would it be uniform?"
   ]
  },
  {
   "cell_type": "markdown",
   "metadata": {},
   "source": [
    "Run a new simulation and use the results to approximate (in a plot) the the conditional distribution of $Y$ given $X=1$, and its conditional expected value."
   ]
  },
  {
   "cell_type": "code",
   "execution_count": null,
   "metadata": {},
   "outputs": [],
   "source": [
    "# Enter your Symbulate code here"
   ]
  },
  {
   "cell_type": "markdown",
   "metadata": {},
   "source": [
    "**Thought question.** What would the conditional distribution of $X$ given $Y=0.2$ look like?  Would it be uniform?"
   ]
  },
  {
   "cell_type": "markdown",
   "metadata": {},
   "source": [
    "Run a new simulation and use the results to approximate (in a plot) the the conditional distribution of $X$ given $Y=0.2$, and its conditional expected value."
   ]
  },
  {
   "cell_type": "code",
   "execution_count": null,
   "metadata": {},
   "outputs": [],
   "source": [
    "# Enter your Symbulate code here"
   ]
  },
  {
   "cell_type": "markdown",
   "metadata": {},
   "source": [
    "# f)\n",
    "\n",
    "Reflection: Write a paragraph, or some bullet points, of what you learned from this lab"
   ]
  },
  {
   "cell_type": "markdown",
   "metadata": {},
   "source": [
    "**TYPE YOUR RESPONSE HERE.**"
   ]
  },
  {
   "cell_type": "markdown",
   "metadata": {},
   "source": [
    "# g)\n",
    "\n",
    "Reflection: Write a paragraph, or some bullet points, of some questions you have about the material introduced in this lab."
   ]
  },
  {
   "cell_type": "markdown",
   "metadata": {},
   "source": [
    "**TYPE YOUR RESPONSE HERE.**"
   ]
  },
  {
   "cell_type": "markdown",
   "metadata": {},
   "source": [
    "## Submission Instructions\n",
    "\n",
    "- After you have completed the notebook, select **Runtime > Run all**\n",
    "- After the notebook finishes rerunning check to make sure that you have no errors and everything runs properly.  Fix any problems and redo this step until it works.\n",
    "- Make sure you typed the names of both partners at the top of the notebook where it says \"Type your names here\".\n",
    "- Save both a notebook and a PDF version. \n",
    "  - PDF: File > Print > Save as PDF\n",
    "- Submit your files in PL.  Remember, only one submission per team.  (Either partner can submit.)"
   ]
  },
  {
   "cell_type": "code",
   "execution_count": null,
   "metadata": {},
   "outputs": [],
   "source": []
  }
 ],
 "metadata": {
  "kernelspec": {
   "display_name": "Python 3",
   "language": "python",
   "name": "python3"
  },
  "language_info": {
   "codemirror_mode": {
    "name": "ipython",
    "version": 3
   },
   "file_extension": ".py",
   "mimetype": "text/x-python",
   "name": "python",
   "nbconvert_exporter": "python",
   "pygments_lexer": "ipython3",
   "version": "3.7.3"
  }
 },
 "nbformat": 4,
 "nbformat_minor": 2
}
