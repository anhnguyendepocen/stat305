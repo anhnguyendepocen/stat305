{
 "cells": [
  {
   "cell_type": "markdown",
   "metadata": {},
   "source": [
    "# Stat 305 Lab 3 + HW3, Part II: Joint distributions"
   ]
  },
  {
   "cell_type": "markdown",
   "metadata": {},
   "source": [
    "**For the lab/part II of the HW, you must work in teams of 2, submitting one notebook per team.**  (Your partner for the lab/part II does not have to be the same partner for the written part of the HW.)"
   ]
  },
  {
   "cell_type": "markdown",
   "metadata": {},
   "source": [
    "**TYPE YOUR NAMES HERE**"
   ]
  },
  {
   "cell_type": "markdown",
   "metadata": {},
   "source": [
    "## Introduction\n",
    "\n",
    "This Jupyter notebook provides a template for you to fill in. **Read the notebook from start to finish, completing the parts as indicated.**  To run a cell, make sure the cell is highlighted by clicking on it, then press SHIFT + ENTER on your keyboard.  (Alternatively, you can click the \"play\" button in the toolbar above.)\n",
    "\n",
    "Some code has already been provided.  Be sure to run this code and view the output to understand what it does.  In other parts, you will need to provide the code yourself; use the examples provided as a guide. \n",
    "\n",
    "You will use the Python package [Symbulate](https://github.com/dlsun/symbulate).   **You should use only use Symbulate commands, not general Python code.**\n",
    "\n",
    "**Thought questions:** You should think about and discuss briefly with your partner before proceeding, but you do not need to type a response."
   ]
  },
  {
   "cell_type": "markdown",
   "metadata": {},
   "source": [
    "Be sure to run the following lines first."
   ]
  },
  {
   "cell_type": "code",
   "execution_count": null,
   "metadata": {},
   "outputs": [],
   "source": [
    "# If in Colab, uncomment the following line and run this cell\n",
    "# !pip install symbulate"
   ]
  },
  {
   "cell_type": "code",
   "execution_count": null,
   "metadata": {},
   "outputs": [],
   "source": [
    "from symbulate import *\n",
    "%matplotlib inline"
   ]
  },
  {
   "cell_type": "markdown",
   "metadata": {},
   "source": [
    "# Lab 3"
   ]
  },
  {
   "cell_type": "markdown",
   "metadata": {},
   "source": [
    "In this lab you will:\n",
    "\n",
    "- Define and simulate values of random variables\n",
    "- Display simulated values in plots to visualize distributions, in particular, **joint distributions**\n",
    "- Take a closer look at covariance and correlation, numbers which measure the association between two random variables\n",
    "- Investigate transformations of random variables, and standardization\n",
    "\n",
    "Hints about thinking about/sketching distributions:\n",
    "\n",
    "1. Figure out an appropriate type of plot to sketch (Is the variable discrete or continuous?  One variable or two? Joint or marginal distribution?)\n",
    "1. Consider just one possible example value.  Or a few possible values.  Remember to consider *pairs* of values for a joint distribution.\n",
    "1. Determine all possible values and label the plot axes. Remember to consider possible *pairs* of values for a joint distribution.\n",
    "1. Then start to think about which values will be more/less likely than others.  This step is the hardest, but just doing the first three steps gets you a long way toward the answer."
   ]
  },
  {
   "cell_type": "markdown",
   "metadata": {},
   "source": [
    "## a) Variance of a linear rescaling\n",
    "\n",
    "Consider a random variable $X$ that has the distribution displayed in plot E in Exercise 8.3 of Handout 8.  (In the context of the example, $X$ represents the quiz score of a randomly selected student.) The pmf is\n",
    "\n",
    "| $x$      \t|   3 \t|   4 \t|   5 \t|   6 \t|   7 \t|\n",
    "|----------\t|----:\t|----:\t|----:\t|----:\t|----:\t|\n",
    "| $p_X(x)$ \t| 1/9 \t| 2/9 \t| 3/9 \t| 2/9 \t| 1/9 \t|"
   ]
  },
  {
   "cell_type": "markdown",
   "metadata": {},
   "source": [
    "Define a `RV` $X$ with this distribution.  (Hint: use [`BoxModel` with `probs`](https://dlsun.github.io/symbulate/probspace.html#boxmodel).)"
   ]
  },
  {
   "cell_type": "code",
   "execution_count": null,
   "metadata": {},
   "outputs": [],
   "source": [
    "# Enter your Symbulate code here"
   ]
  },
  {
   "cell_type": "markdown",
   "metadata": {},
   "source": [
    "Simulate many values of $X$, store the results, and summarize the simulated values in a plot and a table."
   ]
  },
  {
   "cell_type": "code",
   "execution_count": null,
   "metadata": {},
   "outputs": [],
   "source": [
    "# Enter your Symbulate code here"
   ]
  },
  {
   "cell_type": "markdown",
   "metadata": {},
   "source": [
    "Approximate $Var(X)$ and $SD(X)$."
   ]
  },
  {
   "cell_type": "code",
   "execution_count": null,
   "metadata": {},
   "outputs": [],
   "source": [
    "# Enter your Symbulate code here"
   ]
  },
  {
   "cell_type": "markdown",
   "metadata": {},
   "source": [
    "Now repeat the above for  $Y = X+5$.  (In the context of the example, $Y$ represents the quiz score after all scores have been curved by adding 5 points.)\n",
    "\n",
    "**Thought question:** What do you think will change? How?"
   ]
  },
  {
   "cell_type": "code",
   "execution_count": null,
   "metadata": {},
   "outputs": [],
   "source": [
    "# Enter your Symbulate code here"
   ]
  },
  {
   "cell_type": "markdown",
   "metadata": {},
   "source": [
    "Now repeat the above for  $Z = 2X$.  (In the context of the example, $X$ represents the quiz score after all scores have been doubled.)\n",
    "\n",
    "**Thought question:** What do you think will change?"
   ]
  },
  {
   "cell_type": "code",
   "execution_count": null,
   "metadata": {},
   "outputs": [],
   "source": [
    "# Enter your Symbulate code here"
   ]
  },
  {
   "cell_type": "markdown",
   "metadata": {},
   "source": [
    "**Thought questions:**\n",
    "\n",
    "- What affect does adding a constant, as in $X+5$, have on variance/SD?  Why?\n",
    "- What affect does multiplying by a constant, as in $2X$, have on variance/SD? Why?"
   ]
  },
  {
   "cell_type": "markdown",
   "metadata": {},
   "source": [
    "## b) Joint distribution of two discrete RVs\n",
    "\n",
    "Consider the probability space corresponding to two rolls of a fair four-sided die.  Let $X$ be the sum of the two rolls, and let $Y$ be the number of rolls that are equal to 4.  For example, if the outcome of the rolls is $\\omega=(3, 2)$ then $X(\\omega)=5$ and $Y(\\omega)=0$."
   ]
  },
  {
   "cell_type": "markdown",
   "metadata": {},
   "source": [
    "Define an appropriate probability space and random variables. (Hint: use `count_eq()` to define $Y$.)"
   ]
  },
  {
   "cell_type": "code",
   "execution_count": null,
   "metadata": {},
   "outputs": [],
   "source": [
    "# Enter your Symbulate code here"
   ]
  },
  {
   "cell_type": "markdown",
   "metadata": {},
   "source": [
    "Simulate many $(X, Y)$ pairs, store the results, and summarize the simulated values in a plot and a table.  Note: the default plot is a scatterplot, but `.plot('tile')` gives a better picture of relative frequencies."
   ]
  },
  {
   "cell_type": "code",
   "execution_count": null,
   "metadata": {},
   "outputs": [],
   "source": [
    "# Enter your Symbulate code here"
   ]
  },
  {
   "cell_type": "markdown",
   "metadata": {},
   "source": [
    "**Thought question:** How could you determine the marginal distributions of $X$ and $Y$ from the joint distribution? What would plots of these marginal distributions look like? "
   ]
  },
  {
   "cell_type": "markdown",
   "metadata": {},
   "source": [
    "Create a plot displaying both joint and marginal distributions.  Hint: `.plot(['tile', 'marginal'])`"
   ]
  },
  {
   "cell_type": "code",
   "execution_count": null,
   "metadata": {},
   "outputs": [],
   "source": [
    "# Enter your Symbulate code here"
   ]
  },
  {
   "cell_type": "markdown",
   "metadata": {},
   "source": [
    "Approximate $Cov(X, Y)$ and $Corr(X, Y)$."
   ]
  },
  {
   "cell_type": "code",
   "execution_count": null,
   "metadata": {},
   "outputs": [],
   "source": [
    "# Enter your Symbulate code here"
   ]
  },
  {
   "cell_type": "markdown",
   "metadata": {},
   "source": [
    "**Thought question:** Why is the correlation positive?"
   ]
  },
  {
   "cell_type": "markdown",
   "metadata": {},
   "source": [
    "Let $Z$ be the number of rolls that are equal to 1.\n",
    "\n",
    "**Thought question:** Will $Corr(X, Z)$ be positive, negative, or zero? Why?\n",
    "\n",
    "Repeat for $(X, Z)$ what you did for $(X, Y)$."
   ]
  },
  {
   "cell_type": "code",
   "execution_count": null,
   "metadata": {},
   "outputs": [],
   "source": [
    "# Enter your Symbulate code here"
   ]
  },
  {
   "cell_type": "markdown",
   "metadata": {},
   "source": [
    "**Thought question:** Will $Corr(Y, Z)$ be positive, negative, or zero? Why?\n",
    "\n",
    "Repeat for $(Y, Z)$ what you did for $(X, Y)$."
   ]
  },
  {
   "cell_type": "code",
   "execution_count": null,
   "metadata": {},
   "outputs": [],
   "source": [
    "# Enter your Symbulate code here"
   ]
  },
  {
   "cell_type": "markdown",
   "metadata": {},
   "source": [
    "Let $W=Y+Z$\\.\n",
    "\n",
    "**Thought question:** Will $Corr(X, W)$ be positive, negative, or zero? Why?\n",
    "\n",
    "Repeat for $(X, W)$ what you did for $(X, Y)$."
   ]
  },
  {
   "cell_type": "code",
   "execution_count": null,
   "metadata": {},
   "outputs": [],
   "source": [
    "# Enter your Symbulate code here"
   ]
  },
  {
   "cell_type": "markdown",
   "metadata": {},
   "source": [
    "**Thought questions:**\n",
    "\n",
    "- Can you explain why the plots look like they do?\n",
    "- Can you explain why the covariance/correlation is positive/negative/zero?"
   ]
  },
  {
   "cell_type": "markdown",
   "metadata": {},
   "source": [
    "## c) Joint distribution of two continuous RVs\n",
    "\n",
    "Spin the Uniform(0, 1) spinner twice and let $X$ be the sum of the two spins and $Y$ the larger of the two spins.\n",
    "\n",
    "**Thought question:** Sketch a plot representing the joint distribution of $X$ and $Y$.  Will the covariance/correlation be positive, negative, or zero?"
   ]
  },
  {
   "cell_type": "markdown",
   "metadata": {},
   "source": [
    "Define an appropriate probability space and RVs.  (Hint: remember `** 2` for \"spin twice\".)"
   ]
  },
  {
   "cell_type": "code",
   "execution_count": null,
   "metadata": {},
   "outputs": [],
   "source": [
    "# Enter your Symbulate code here"
   ]
  },
  {
   "cell_type": "markdown",
   "metadata": {},
   "source": [
    "Simulate many $(X, Y)$ pairs, store the results, and summarize the simulated values in a plot.  Note: the default plot is scatterplot, but that doesn't give a great sense of relative frequency.  You can get a two-dimensional histogram with `.plot('hist')`, which works but produces an error message.  You can also try `plot('density')` for a smoother density plot than a histogram, but this sometimes takes a minute to run."
   ]
  },
  {
   "cell_type": "code",
   "execution_count": null,
   "metadata": {},
   "outputs": [],
   "source": [
    "# Enter your Symbulate code here"
   ]
  },
  {
   "cell_type": "markdown",
   "metadata": {},
   "source": [
    "**Thought question:** How could you determine the marginal distributions of $X$ and $Y$ from the joint distribution? What would plots of these marginal distributions look like? "
   ]
  },
  {
   "cell_type": "markdown",
   "metadata": {},
   "source": [
    "Create a plot displaying both joint and marginal distributions.  Hint: add `'marginal'` to whatever plot you created above, e.g., `.plot(['scatter', 'marginal'])` or `.plot(['hist', 'marginal'])`"
   ]
  },
  {
   "cell_type": "code",
   "execution_count": null,
   "metadata": {},
   "outputs": [],
   "source": [
    "# Enter your Symbulate code here"
   ]
  },
  {
   "cell_type": "markdown",
   "metadata": {},
   "source": [
    "Approximate $Cov(X, Y)$ and $Corr(X, Y)$."
   ]
  },
  {
   "cell_type": "code",
   "execution_count": null,
   "metadata": {},
   "outputs": [],
   "source": [
    "# Enter your Symbulate code here"
   ]
  },
  {
   "cell_type": "markdown",
   "metadata": {},
   "source": [
    "**Thought questions:**\n",
    "    \n",
    "- Can you explain why the plots look the way they do?\n",
    "- Can you suggest an expression for the joint pdf? Would you say that the joint distribution is uniform over the range of possible values?\n",
    "- Can you suggest expressions for the marginal pdfs?\n",
    "- Can you explain the value of correlation?"
   ]
  },
  {
   "cell_type": "markdown",
   "metadata": {},
   "source": [
    "## d) Two more continuous RVs\n",
    "\n",
    "Spin the Uniform(0, 1) spinner twice and let $U_1$ be the result of the first spin and $U_2$ the result of the second.  Define $X=-\\log(U_1)$ and $Y=(2U_2-1)X$.\n",
    "\n",
    "**Thought question:** Sketch a plot representing the joint distribution of $X$ and $Y$.  Will the covariance/correlation be positive, negative, or zero?"
   ]
  },
  {
   "cell_type": "markdown",
   "metadata": {},
   "source": [
    "Define an appropriate probability space and RVs.  (Hint: remember `** 2` for \"spin twice\".)"
   ]
  },
  {
   "cell_type": "code",
   "execution_count": null,
   "metadata": {},
   "outputs": [],
   "source": [
    "# Enter your Symbulate code here"
   ]
  },
  {
   "cell_type": "markdown",
   "metadata": {},
   "source": [
    "Simulate many $(X, Y)$ pairs, store the results, and summarize the simulated values in a plot.  Note: you should definitely try a scatterplot first for this one, because the scale of values in this particular problem obscures the histogram and density plots.  So try scatter first, and then you can try other plots."
   ]
  },
  {
   "cell_type": "code",
   "execution_count": null,
   "metadata": {},
   "outputs": [],
   "source": [
    "# Enter your Symbulate code here"
   ]
  },
  {
   "cell_type": "markdown",
   "metadata": {},
   "source": [
    "**Thought question:** How could you determine the marginal distributions of $X$ and $Y$ from the joint distribution? What would plots of these marginal distributions look like? "
   ]
  },
  {
   "cell_type": "markdown",
   "metadata": {},
   "source": [
    "Create a plot displaying both joint and marginal distributions.  Hint: add `'marginal'` to whatever plot you created above, e.g., `.plot(['scatter', 'marginal'])` or `.plot(['hist', 'marginal'])`"
   ]
  },
  {
   "cell_type": "code",
   "execution_count": null,
   "metadata": {},
   "outputs": [],
   "source": [
    "# Enter your Symbulate code here"
   ]
  },
  {
   "cell_type": "markdown",
   "metadata": {},
   "source": [
    "Approximate $Cov(X, Y)$ and $Corr(X, Y)$."
   ]
  },
  {
   "cell_type": "code",
   "execution_count": null,
   "metadata": {},
   "outputs": [],
   "source": [
    "# Enter your Symbulate code here"
   ]
  },
  {
   "cell_type": "markdown",
   "metadata": {},
   "source": [
    "**Thought questions:**\n",
    "    \n",
    "- Can you explain why the plots look the way they do?\n",
    "- Can you suggest an expression for the joint pdf? Would you say that the joint distribution is uniform over the range of possible values?\n",
    "- Can you suggest expressions for the marginal pdfs?\n",
    "- Can you explain the value of correlation?"
   ]
  },
  {
   "cell_type": "markdown",
   "metadata": {},
   "source": [
    "**Thought question:** Recall that $Y=(2U_2-1)X$.  Define $Z=(2U_1-1)X$.  Would $Y$ and $Z$ have the same marginal distribution?  Would the joint distribution of $(X, Y)$ be the same as the joint distribution of $(X, Z)$?"
   ]
  },
  {
   "cell_type": "markdown",
   "metadata": {},
   "source": [
    "## e) Standardization (Mostly just read and run)\n"
   ]
  },
  {
   "cell_type": "markdown",
   "metadata": {},
   "source": [
    "Assume that SAT Math ($X$) and Reading ($Y$) scores follow a Bivariate Normal distribution with mean 500 for each score, SD 100 for each score, and a correlation of 0.8."
   ]
  },
  {
   "cell_type": "code",
   "execution_count": null,
   "metadata": {},
   "outputs": [],
   "source": [
    "P = BivariateNormal(mean1 = 500, sd1 = 100, mean2 = 500, sd2 = 100, corr = 0.8)\n",
    "X, Y = RV(P)"
   ]
  },
  {
   "cell_type": "markdown",
   "metadata": {},
   "source": [
    "Simulate many $(X, Y)$ pairs, summarize in a plot, and use the simulated results to estimate $\\text{Cov}(X, Y)$."
   ]
  },
  {
   "cell_type": "code",
   "execution_count": null,
   "metadata": {},
   "outputs": [],
   "source": [
    "xy = (X & Y).sim(10000)\n",
    "xy.plot(['hist', 'marginal'])"
   ]
  },
  {
   "cell_type": "code",
   "execution_count": null,
   "metadata": {},
   "outputs": [],
   "source": [
    "xy.cov(), xy.corr()"
   ]
  },
  {
   "cell_type": "markdown",
   "metadata": {},
   "source": [
    "`xy` stores (x, y) pairs.  The following just picks off the x values and y values separately."
   ]
  },
  {
   "cell_type": "code",
   "execution_count": null,
   "metadata": {},
   "outputs": [],
   "source": [
    "x = xy[0]\n",
    "y = xy[1]"
   ]
  },
  {
   "cell_type": "markdown",
   "metadata": {},
   "source": [
    "We can compute $SD(X), SD(Y)$ and see that $Corr(X, Y) = \\frac{Cov(X, Y)}{SD(X)SD(Y)}$."
   ]
  },
  {
   "cell_type": "code",
   "execution_count": null,
   "metadata": {},
   "outputs": [],
   "source": [
    "x.sd(), y.sd()"
   ]
  },
  {
   "cell_type": "code",
   "execution_count": null,
   "metadata": {},
   "outputs": [],
   "source": [
    "xy.cov() / (x.sd() * y.sd())"
   ]
  },
  {
   "cell_type": "markdown",
   "metadata": {},
   "source": [
    "A standardized RV is defined as $\\frac{X-E(X)}{SD(X)}$.\n",
    "\n",
    "**Thought questions:** Will standardizing a RV change the *shape* of its distribution?  What will the expected value and SD of a standardized RV be?"
   ]
  },
  {
   "cell_type": "markdown",
   "metadata": {},
   "source": [
    "A standardized RV has expected 0 and standard deviation 1."
   ]
  },
  {
   "cell_type": "code",
   "execution_count": null,
   "metadata": {},
   "outputs": [],
   "source": [
    "zx = (x - x.mean()) / x.sd()\n",
    "zx.plot()\n",
    "zx.mean(), zx.sd()"
   ]
  },
  {
   "cell_type": "code",
   "execution_count": null,
   "metadata": {},
   "outputs": [],
   "source": [
    "zy = (y - y.mean()) / y.sd()\n",
    "zy.plot()\n",
    "zy.mean(), zy.sd()"
   ]
  },
  {
   "cell_type": "markdown",
   "metadata": {},
   "source": [
    "Correlation is the covariance between the standardized versions of the RVs.\n",
    "\n",
    "$$\n",
    "Corr(X, Y) = Cov\\left(\\frac{X-E(X)}{SD(X)}, \\frac{Y-E(Y)}{SD(Y)}\\right)\n",
    "$$"
   ]
  },
  {
   "cell_type": "code",
   "execution_count": null,
   "metadata": {},
   "outputs": [],
   "source": [
    "(zx * zy).mean() - (zx.mean() * zy.mean())"
   ]
  },
  {
   "cell_type": "markdown",
   "metadata": {},
   "source": [
    "You can also use `.standardize`."
   ]
  },
  {
   "cell_type": "code",
   "execution_count": null,
   "metadata": {},
   "outputs": [],
   "source": [
    "xy.standardize().plot(['hist', 'marginal'])"
   ]
  },
  {
   "cell_type": "code",
   "execution_count": null,
   "metadata": {},
   "outputs": [],
   "source": [
    "xy.standardize().cov(), xy.corr()"
   ]
  },
  {
   "cell_type": "markdown",
   "metadata": {},
   "source": [
    "# HW3, Part II"
   ]
  },
  {
   "cell_type": "markdown",
   "metadata": {},
   "source": [
    "# f)\n",
    "\n",
    "Spin the Uniform(0, 1) spinner twice and let $U_1$ be the result of the first spin and $U_2$ the result of the second.  Define $X=-\\log(U_1)$ and $Y=X + U_2$.\n",
    "\n",
    "- Sketch a plot of the joint distribution of $X$ and $Y$ and determine if the covariance will be positive, negative, or zero.\n",
    "- Sketch the marginal distributions.\n",
    "- Perform an appropriate simulation analysis.\n",
    "- Explain why the plots look the way they do, and the sign of the covariance."
   ]
  },
  {
   "cell_type": "code",
   "execution_count": null,
   "metadata": {},
   "outputs": [],
   "source": [
    "# Enter your Symbulate code here"
   ]
  },
  {
   "cell_type": "markdown",
   "metadata": {},
   "source": [
    "**TYPE YOUR RESPONSE HERE.**"
   ]
  },
  {
   "cell_type": "markdown",
   "metadata": {},
   "source": [
    "# g)\n",
    "\n",
    "Reflection: Write a paragraph, or some bullet points, of what you learned from this lab"
   ]
  },
  {
   "cell_type": "markdown",
   "metadata": {},
   "source": [
    "**TYPE YOUR RESPONSE HERE.**"
   ]
  },
  {
   "cell_type": "markdown",
   "metadata": {},
   "source": [
    "# h)\n",
    "\n",
    "Reflection: Write a paragraph, or some bullet points, of some questions you have about the material introduced in this lab."
   ]
  },
  {
   "cell_type": "markdown",
   "metadata": {},
   "source": [
    "**TYPE YOUR RESPONSE HERE.**"
   ]
  },
  {
   "cell_type": "markdown",
   "metadata": {},
   "source": [
    "## Submission Instructions\n",
    "\n",
    "- After you have completed the notebook, in Jupyter select **Kernel > Restart kernel and run all** cells.  In JupyterLab, select **Kernel > Restart kernel** then **Run > Run all cells.**\n",
    "- After the notebook finishes rerunning check to make sure that you have no errors and everything runs properly.  Fix any problems and redo this step until it works.\n",
    "- **NOTE: If you included any 2d histograms, the error message is going to make the notebook stop running.  You'll have to go back and manually run the remaining cells.**\n",
    "- Make sure you typed the names of both partners at the top of the notebook where it says \"Type your names here\".\n",
    "- Save both a notebook and a HTML version.  In \n",
    "  - Notebook: JupyterLab: right click on the file name and choose download. Jupyter: File > Download as > Notebook.  \n",
    "  - HTML: JupyterLab: select File > Export to > HTML. Jupyter: File > Download as > HTML.\n",
    "- Submit your files in PL.  Remember, only one submission per team.  (Either partner can submit.)"
   ]
  },
  {
   "cell_type": "code",
   "execution_count": null,
   "metadata": {},
   "outputs": [],
   "source": []
  }
 ],
 "metadata": {
  "kernelspec": {
   "display_name": "Python 3",
   "language": "python",
   "name": "python3"
  },
  "language_info": {
   "codemirror_mode": {
    "name": "ipython",
    "version": 3
   },
   "file_extension": ".py",
   "mimetype": "text/x-python",
   "name": "python",
   "nbconvert_exporter": "python",
   "pygments_lexer": "ipython3",
   "version": "3.7.3"
  }
 },
 "nbformat": 4,
 "nbformat_minor": 2
}
