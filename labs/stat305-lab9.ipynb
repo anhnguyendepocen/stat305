{
 "cells": [
  {
   "cell_type": "markdown",
   "metadata": {},
   "source": [
    "# Stat 305 Lab 9: Normal distributions, Bivariate Normal distributions, and Central Limit Theorem "
   ]
  },
  {
   "cell_type": "markdown",
   "metadata": {},
   "source": [
    "**For the lab, you must work in teams of 2, submitting one notebook per team.**"
   ]
  },
  {
   "cell_type": "markdown",
   "metadata": {},
   "source": [
    "**TYPE YOUR NAMES HERE**"
   ]
  },
  {
   "cell_type": "markdown",
   "metadata": {},
   "source": [
    "# Introduction\n",
    "\n",
    "\n",
    "This Jupyter notebook provides a template for you to fill in. **Read the notebook from start to finish, completing the parts as indicated.**  To run a cell, make sure the cell is highlighted by clicking on it, then press SHIFT + ENTER on your keyboard.  (Alternatively, you can click the \"play\" button in the toolbar above.)\n",
    "\n",
    "Some code has already been provided.  Be sure to run this code and view the output to understand what it does.  In other parts, you will need to provide the code yourself; use the examples provided as a guide. \n",
    "\n",
    "You will use the Python package [Symbulate](https://github.com/dlsun/symbulate).   **You should use only use Symbulate commands, not general Python code.**\n",
    "\n",
    "**Thought questions:** You should think about and discuss briefly with your partner before proceeding, but you do not need to type a response."
   ]
  },
  {
   "cell_type": "markdown",
   "metadata": {},
   "source": [
    "Be sure to run the following lines first."
   ]
  },
  {
   "cell_type": "code",
   "execution_count": null,
   "metadata": {},
   "outputs": [],
   "source": [
    "# If in Colab, uncomment the following line and run this cell first\n",
    "# !pip install symbulate"
   ]
  },
  {
   "cell_type": "code",
   "execution_count": null,
   "metadata": {},
   "outputs": [],
   "source": [
    "from symbulate import *\n",
    "%matplotlib inline\n",
    "from matplotlib import pyplot as plt"
   ]
  },
  {
   "cell_type": "markdown",
   "metadata": {},
   "source": [
    "## Lab 9\n",
    "\n",
    "In this lab you will investigate:\n",
    "\n",
    "- Normal distributions\n",
    "- Joint, conditional, and marginal distributions for two random variables that have a Bivariate Normal distribution\n",
    "- Distributions of linear combinations (sums and differences) of random variables than have a Bivariate Normal distribution\n",
    "- Two random variables that have marginal Normal distributions but do *not* have a Bivariate Normal distribution\n",
    "- Sample-to-sample distributions of sums and averages, and the Central Limit Theorem\n"
   ]
  },
  {
   "cell_type": "markdown",
   "metadata": {},
   "source": [
    "## a) Bivariate Normal distributions (Exercise 21.1)\n",
    "\n",
    "In this part you will use simulation to investigate the problems in Exercise 21.1 of Handout 21.  Take notes based on your simulations. We'll fill in the details tomorrow.\n",
    "\n",
    "Suppose that SAT Math (M) and Reading (R) scores of CalPoly students have a [Bivariate Normal](https://dlsun.github.io/symbulate/common_joint.html#bvn) distribution. Math scores have mean 640 and SD 80, Reading scores have mean 610 and SD 70, and the correlation between scores is 0.7."
   ]
  },
  {
   "cell_type": "markdown",
   "metadata": {},
   "source": [
    "Define random variables M and R, simulate many (M, R) pairs, summarize the simulated values in a plot, and approximate the covariance and correlation.  The default `.plot()` is scatter; you might also try `.plot('density')`."
   ]
  },
  {
   "cell_type": "code",
   "execution_count": null,
   "metadata": {},
   "outputs": [],
   "source": [
    "# Enter your Symbulate code here"
   ]
  },
  {
   "cell_type": "markdown",
   "metadata": {},
   "source": [
    "**Thought question.** How could you obtain the marginal distribution of Math scores from the plot of the joint distribution?  Does it seem reasonable that the marginal distribution of Math scores is Normal?  (Does it at least seem reasonable that the marginal distribution of Math scores is symmetric with a peak at the mean of 640?  That most of the values lie within 2 SDs of 640?)\n",
    "\n",
    "Use simulation to approximate the marginal distribution of Math scores, its mean and standard deviation, and the probability that a student has a Math score above 700."
   ]
  },
  {
   "cell_type": "code",
   "execution_count": null,
   "metadata": {},
   "outputs": [],
   "source": [
    "# Enter your Symbulate code here"
   ]
  },
  {
   "cell_type": "markdown",
   "metadata": {},
   "source": [
    "Use simulation to approximate the marginal distribution of total scores ($M + R$), its mean and standard deviation, and the probability that a student has a total score above 1500."
   ]
  },
  {
   "cell_type": "code",
   "execution_count": null,
   "metadata": {},
   "outputs": [],
   "source": [
    "# Enter your Symbulate code here"
   ]
  },
  {
   "cell_type": "markdown",
   "metadata": {},
   "source": [
    "**Thought question.** By considering the appropriate slice of the plot of the joint distribution, provide eyeball estimates of the conditional mean and standard deviation of Math scores *given that Reading score is 700.*  Is the conditional mean greater than, less than, or equal to 640 (the unconditional mean)?  Is the conditional standard deviation greater than, less than, or equal to 80 (the unconditional standard deviation)?  \n",
    "\n",
    "Use simulation to approximate the conditional distribution of Math scores *given that Reading score is 700*, its mean and standard deviation, and the conditional probability that a student has a Math score above 700 *given that Reading score is 700*.\n",
    "\n",
    "**Note:** remember, condition on Math score being within some reasonable degree of precision of 700.  Since SAT scores aren't really continuous anyway, condition on the Math score being within say 5 of 700."
   ]
  },
  {
   "cell_type": "code",
   "execution_count": null,
   "metadata": {},
   "outputs": [],
   "source": [
    "# Enter your Symbulate code here"
   ]
  },
  {
   "cell_type": "markdown",
   "metadata": {},
   "source": [
    "**Thought question.** Is the probability that a student has a higher Math than Reading score greater than 0.5, equal to 0.5, or less than 0.5?  What region of the joint distribution plot corresponds to $\\{M>R\\}$?\n",
    "\n",
    "Use simulation to approximate the marginal distribution of the difference in scores ($M - R$), its mean and standard deviation, and the probability that a student has a higher Math than Reading score."
   ]
  },
  {
   "cell_type": "code",
   "execution_count": null,
   "metadata": {},
   "outputs": [],
   "source": [
    "# Enter your Symbulate code here"
   ]
  },
  {
   "cell_type": "markdown",
   "metadata": {},
   "source": [
    "## b) Normal, but not Bivariate Normal (Exercise 21.2)\n",
    "\n",
    "In this part you will use simulation to investigate the problems in Exercise 21.2 of Handout 21.  Take notes based on your simulations. We'll fill in the details tomorrow.\n",
    "\n",
    "Let $X$ and $I$ be independent, $X$ has a N(0; 1) distribution, and $I$ takes values 1 or -1 with probability 1/2 each. Let $Y = IX$."
   ]
  },
  {
   "cell_type": "markdown",
   "metadata": {},
   "source": [
    "Define appropriate random variables."
   ]
  },
  {
   "cell_type": "code",
   "execution_count": null,
   "metadata": {},
   "outputs": [],
   "source": [
    "# Enter your Symbulate code here"
   ]
  },
  {
   "cell_type": "markdown",
   "metadata": {},
   "source": [
    "**Thought question.** What is the distribution of $Y$?  (What is the conditional distribution of $Y$ given $I=1$? Given $I=-1$?)\n",
    "\n",
    "Use simulation to approximate the distribution of $Y$ and its mean and standard deviation."
   ]
  },
  {
   "cell_type": "code",
   "execution_count": null,
   "metadata": {},
   "outputs": [],
   "source": [
    "# Enter your Symbulate code here"
   ]
  },
  {
   "cell_type": "markdown",
   "metadata": {},
   "source": [
    "**Thought question.** What will a scatter plot of $(X, Y)$ values look like?  (Hint: it's a letter of the alphabet.) Does $(X, Y)$ have a Bivariate Normal distribution.\n",
    "\n",
    "Use simulation to approximate the joint distribution of $(X, Y)$ and the correlation."
   ]
  },
  {
   "cell_type": "code",
   "execution_count": null,
   "metadata": {},
   "outputs": [],
   "source": [
    "# Enter your Symbulate code here"
   ]
  },
  {
   "cell_type": "markdown",
   "metadata": {},
   "source": [
    "**Thought question.** What is the conditional distribution of $Y$ given $X=2$?  Are $X$ and $Y$ independent?\n",
    "\n",
    "Use simulation to approximate the conditional distribution of $Y$ given $X=2$.  Remember: don't condition on `(X=2)` but rather `(abs(X - 2) < 0.01)`."
   ]
  },
  {
   "cell_type": "code",
   "execution_count": null,
   "metadata": {},
   "outputs": [],
   "source": [
    "# Enter your Symbulate code here"
   ]
  },
  {
   "cell_type": "markdown",
   "metadata": {},
   "source": [
    "**Thought question.** What is $P(X+Y=0)$?  Does $X+Y$ have a Normal distribution?\n",
    "\n",
    "Use simulation to approximate the distribution of $X+Y$ and estimate $P(X+Y=0)$."
   ]
  },
  {
   "cell_type": "code",
   "execution_count": null,
   "metadata": {},
   "outputs": [],
   "source": [
    "# Enter your Symbulate code here"
   ]
  },
  {
   "cell_type": "markdown",
   "metadata": {},
   "source": [
    "## c) Distributions of sums and averages\n",
    "\n",
    "A random sample of $n$ customers at the Avenue is selected.  Let $S$ by the total dollar amount spent by the $n$ customers in the sample, and let $\\bar{X}=S/n$ represent the mean dollar amount spent by the $n$ customers in the sample.  You will investigate the distribution of $S$ and $\\bar{X}$ over many samples of size $n$.\n",
    "\n",
    "**Thought question.** Will the *shape* of the distribution of $S$ be the same as the shape of the distribution of $\\bar{X}$?\n",
    "\n",
    "You will assume different distributions for dollar amounts spent by individual customers, as well as different sample sizes.\n",
    "\n",
    "In each simulation, you should first define a probability space so that an outcome represents the $n$ individual dollar amounts spent by the customers in a random sample.  You can assume the dollar amounts spent are independent from customer to customer, and each is amount is drawn from the specified distribution.  (We say that the dollar amounts in a random sample are **independent and identically distributed (i.i.d.)**)"
   ]
  },
  {
   "cell_type": "markdown",
   "metadata": {},
   "source": [
    "Assume that any individual customer spends\n",
    "\n",
    "- 5 dollars with probability 0.4\n",
    "- 6 dollars with probability 0.4\n",
    "- 7 dollars with probability 0.2\n",
    "\n",
    "**Thought question.** What is the mean amount spent by a single customer?  The standard deviation?"
   ]
  },
  {
   "cell_type": "markdown",
   "metadata": {},
   "source": [
    "Now consider a sample of $n=2$ customers.\n",
    "\n",
    "**Thought question.** What is the expected value of $S$? The standard deviation? What is the expected value of $\\bar{X}$?  The standard deviation?\n",
    "\n",
    "Use simulation to approximate the distribution of $S$ and its mean and standard deviation."
   ]
  },
  {
   "cell_type": "code",
   "execution_count": null,
   "metadata": {},
   "outputs": [],
   "source": [
    "# Enter your Symbulate code here"
   ]
  },
  {
   "cell_type": "markdown",
   "metadata": {},
   "source": [
    "Now consider a sample of $n=30$ customers. Use simulation to approximate the distribution of $\\bar{X}$ and its mean and standard deviation.\n",
    "\n",
    "**Thought questions.** How does the standard deviation for $n=30$ cmpare to $n=2$? What is the approximate shape of the distribution?"
   ]
  },
  {
   "cell_type": "code",
   "execution_count": null,
   "metadata": {},
   "outputs": [],
   "source": [
    "# Enter your Symbulate code here"
   ]
  },
  {
   "cell_type": "markdown",
   "metadata": {},
   "source": [
    "Assume that any individual customer spends\n",
    "\n",
    "- 5 dollars with probability 0.4\n",
    "- 6 dollars with probability 0.4\n",
    "- 7 dollars with probability 0.19\n",
    "- 30 dollars with probability 0.01 (Maybe this customer treats a few friends)\n",
    "\n",
    "Consider a sample of $n=2$ customers. Use simulation to approximate the distribution of $\\bar{X}$ and its mean and standard deviation."
   ]
  },
  {
   "cell_type": "code",
   "execution_count": null,
   "metadata": {},
   "outputs": [],
   "source": [
    "# Enter your Symbulate code here"
   ]
  },
  {
   "cell_type": "markdown",
   "metadata": {},
   "source": [
    "Now consider a sample of $n=30$ customers. Use simulation to approximate the distribution of $\\bar{X}$ and its mean and standard deviation.  Is the distribution approximately Normal?"
   ]
  },
  {
   "cell_type": "code",
   "execution_count": null,
   "metadata": {},
   "outputs": [],
   "source": [
    "# Enter your Symbulate code here"
   ]
  },
  {
   "cell_type": "markdown",
   "metadata": {},
   "source": [
    "## d) Central Limit Theorem\n",
    "\n",
    "This part continues the previous part to investigate how the *shape* of the distribution of $\\bar{X}$ behaves as the sample size $n$ increases.\n",
    "\n",
    "The following code creates a Jupyter \"widget\" for a simulation similar to the one in the previous part.  The widget creates a slider for the sample size $n$, which you can slide to observe how the distribution of $\\bar{X}$ changes with $n$.\n",
    "\n",
    "Note that to maintain a consistent scale across different situations, the simulated values are standardized before plotting.  See `.standardize()` below.\n",
    "\n",
    "The line for `population` below defines the *population distribution* of dollar amounts spent by individual customers.  \n",
    "\n",
    "**To do:**\n",
    "\n",
    "1. Change the population distribution\n",
    "1. Run the code\n",
    "1. Experiment with the slider to see how the *shape* of the distribution of $\\bar{X}$ changes as $n$ increases.\n",
    "In particular, for what value of $n$ does the distribution of $\\bar{X}$ appear to be approximately Normal?\n",
    "\n",
    "You should experiment with a few different population distributions for individual dollar amounts, including both discrete distributions like Binomial and Poisson and continuous distributions like Uniform, Exponential, and Normal.\n",
    "\n",
    "**Thought questions.**\n",
    "\n",
    "- How does the *shape* of the distribution of $\\bar{X}$ change as $n$ increases?\n",
    "- In particular, for what value of $n$ does the distribution of $\\bar{X}$ appear to be approximately Normal?\n",
    "\n",
    "**Note.** Sometimes the slider lags behind.  So if you drag it you might need to wait a minute before the plot updates.\n",
    "\n",
    "**Note.** `max = 50` in the `interact` line defines the upper bound for $n$ on the slider.  You can change this to a larger value, but it might slow down the simulation/widget."
   ]
  },
  {
   "cell_type": "code",
   "execution_count": null,
   "metadata": {},
   "outputs": [],
   "source": [
    "population = BoxModel([5, 6, 7, 30], probs = [0.4, 0.4, 0.19, 0.01])\n",
    "\n",
    "def CLT(n):\n",
    "    RV(population ** n, mean).sim(10000).standardize().plot()\n",
    "    plt.xlim(-4, 4)\n",
    "    plt.show()\n",
    "\n",
    "from ipywidgets import interact\n",
    "import ipywidgets\n",
    "interact(CLT, n = ipywidgets.IntSlider(min = 1, max = 50, step = 1, value = 1));"
   ]
  },
  {
   "cell_type": "markdown",
   "metadata": {},
   "source": [
    "## e) Reflection\n",
    "\n",
    "Write a paragraph, or some bullet points, of what you learned from this lab"
   ]
  },
  {
   "cell_type": "markdown",
   "metadata": {},
   "source": [
    "**TYPE YOUR RESPONSE HERE.**"
   ]
  },
  {
   "cell_type": "markdown",
   "metadata": {},
   "source": [
    "## f) Reflection - questions\n",
    "\n",
    "Write a paragraph, or some bullet points, of some questions you have about the material introduced in this lab."
   ]
  },
  {
   "cell_type": "markdown",
   "metadata": {},
   "source": [
    "**TYPE YOUR RESPONSE HERE.**"
   ]
  },
  {
   "cell_type": "markdown",
   "metadata": {},
   "source": [
    "## Submission Instructions\n",
    "\n",
    "- After you have completed the notebook, select **Runtime > Run all**\n",
    "- After the notebook finishes rerunning check to make sure that you have no errors and everything runs properly.  Fix any problems and redo this step until it works.\n",
    "- Make sure you typed the names of both partners at the top of the notebook where it says \"Type your names here\".\n",
    "- Click Share in the top right and share with stat305cp@gmail.com \n",
    "- Save a PDF version: File > Print > Save as PDF\n",
    "- Download the notebook: File > Download .ipynb\n",
    "- Submit the notebook and PDF in PL.  Remember, only one submission per team.  (Either partner can submit.)"
   ]
  },
  {
   "cell_type": "code",
   "execution_count": null,
   "metadata": {},
   "outputs": [],
   "source": []
  }
 ],
 "metadata": {
  "kernelspec": {
   "display_name": "Python 3",
   "language": "python",
   "name": "python3"
  },
  "language_info": {
   "codemirror_mode": {
    "name": "ipython",
    "version": 3
   },
   "file_extension": ".py",
   "mimetype": "text/x-python",
   "name": "python",
   "nbconvert_exporter": "python",
   "pygments_lexer": "ipython3",
   "version": "3.7.3"
  }
 },
 "nbformat": 4,
 "nbformat_minor": 2
}
