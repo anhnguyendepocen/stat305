{
 "cells": [
  {
   "cell_type": "markdown",
   "metadata": {},
   "source": [
    "# Stat 305 Lab 7: Poisson distributions"
   ]
  },
  {
   "cell_type": "markdown",
   "metadata": {},
   "source": [
    "**For the lab, you must work in teams of 2, submitting one notebook per team.**"
   ]
  },
  {
   "cell_type": "markdown",
   "metadata": {},
   "source": [
    "**TYPE YOUR NAME HERE**"
   ]
  },
  {
   "cell_type": "markdown",
   "metadata": {},
   "source": [
    "# Introduction\n",
    "\n",
    "\n",
    "This Jupyter notebook provides a template for you to fill in. **Read the notebook from start to finish, completing the parts as indicated.**  To run a cell, make sure the cell is highlighted by clicking on it, then press SHIFT + ENTER on your keyboard.  (Alternatively, you can click the \"play\" button in the toolbar above.)\n",
    "\n",
    "Some code has already been provided.  Be sure to run this code and view the output to understand what it does.  In other parts, you will need to provide the code yourself; use the examples provided as a guide. \n",
    "\n",
    "You will use the Python package [Symbulate](https://github.com/dlsun/symbulate).   **You should use only use Symbulate commands, not general Python code.**\n",
    "\n",
    "**Thought questions:** You should think about and discuss briefly with your partner before proceeding, but you do not need to type a response."
   ]
  },
  {
   "cell_type": "markdown",
   "metadata": {},
   "source": [
    "Be sure to run the following lines first."
   ]
  },
  {
   "cell_type": "code",
   "execution_count": null,
   "metadata": {},
   "outputs": [],
   "source": [
    "# If in Colab, uncomment the following line and run this cell first\n",
    "# !pip install symbulate"
   ]
  },
  {
   "cell_type": "code",
   "execution_count": null,
   "metadata": {},
   "outputs": [],
   "source": [
    "from symbulate import *\n",
    "%matplotlib inline\n",
    "from matplotlib import pyplot as plt"
   ]
  },
  {
   "cell_type": "markdown",
   "metadata": {},
   "source": [
    "## Lab 7\n",
    "\n",
    "In this lab you will investigate:\n",
    "\n",
    "- How a Binomial distribution behaves when the number of trials is large but the probability of success on any single trial is small\n",
    "- Poisson distributions as approximations to Binomial distributions\n",
    "- Poisson approximation in non-Binomial settings\n",
    "- Matching problem and Poisson approximation\n",
    "- Birthday problem and Poisson approximation\n"
   ]
  },
  {
   "cell_type": "markdown",
   "metadata": {},
   "source": [
    "## a) Binomial distribution with large $n$ and small $p$\n",
    "\n",
    "Related to Exercise 18.3. Suppose that each page in a book contains exactly 2000 characters and that the probability that any single character is a typo is 0.00015, independently of all other characters.  Let $X$ be the number of characters on a randomly selected page that are typos.  "
   ]
  },
  {
   "cell_type": "markdown",
   "metadata": {},
   "source": [
    "**Thought question.** Identify the distribution of $X$ and its expected value and variance."
   ]
  },
  {
   "cell_type": "markdown",
   "metadata": {},
   "source": [
    "Compute the probability that a randomly selected page has 0 typos.  Note: for this and the following questions in part a) you can use `.pmf(x)` to compute the theoretical probability for the distribution of interest.  That is, you don't have to run a simulation."
   ]
  },
  {
   "cell_type": "code",
   "execution_count": null,
   "metadata": {},
   "outputs": [],
   "source": [
    "# Enter your Symbulate code here"
   ]
  },
  {
   "cell_type": "markdown",
   "metadata": {},
   "source": [
    "Compute the probability that a randomly selected page has 1 typo."
   ]
  },
  {
   "cell_type": "code",
   "execution_count": null,
   "metadata": {},
   "outputs": [],
   "source": [
    "# Enter your Symbulate code here"
   ]
  },
  {
   "cell_type": "markdown",
   "metadata": {},
   "source": [
    "Compute the probability that a randomly selected page has 2 typos."
   ]
  },
  {
   "cell_type": "code",
   "execution_count": null,
   "metadata": {},
   "outputs": [],
   "source": [
    "# Enter your Symbulate code here"
   ]
  },
  {
   "cell_type": "markdown",
   "metadata": {},
   "source": [
    "Compute the probability that a randomly selected page has at least 3 typos.  (Hint: remember `.cdf(x)`.)"
   ]
  },
  {
   "cell_type": "code",
   "execution_count": null,
   "metadata": {},
   "outputs": [],
   "source": [
    "# Enter your Symbulate code here"
   ]
  },
  {
   "cell_type": "markdown",
   "metadata": {},
   "source": [
    "Plot the probability mass function of $X$. Note: the plot is going to show the pmf for all possible values of $X$. You should change the x-axis to display only the values 0 through 4 say.  You can do this with `plt.xlim(-0.2, 4.2);`"
   ]
  },
  {
   "cell_type": "code",
   "execution_count": null,
   "metadata": {},
   "outputs": [],
   "source": [
    "# Enter your Symbulate code here"
   ]
  },
  {
   "cell_type": "markdown",
   "metadata": {},
   "source": [
    "When $n$ is large and $p$ is small a Binomial($n$, $p$) distribution can be approximated by a ***Poisson* distribution**.  A Poisson distribution has a single parameter $\\mu$, which is the mean (expected value) of the distribution.\n",
    "\n",
    "**Thought question.** For the typo example, what is the value of $\\mu$?"
   ]
  },
  {
   "cell_type": "markdown",
   "metadata": {},
   "source": [
    "Create a plot with the appropriate Poisson pmf overlaid on the Binomial pmf.  Do the distributions appear similar?"
   ]
  },
  {
   "cell_type": "code",
   "execution_count": null,
   "metadata": {},
   "outputs": [],
   "source": [
    "# Enter your Symbulate code here"
   ]
  },
  {
   "cell_type": "markdown",
   "metadata": {},
   "source": [
    "Using the appropriate Poisson distribution, compute the probability that a randomly selected page has $x$ typos, for $x = 0, 1, 2$.  Compare to the corresponding Binomial probabilities."
   ]
  },
  {
   "cell_type": "code",
   "execution_count": null,
   "metadata": {},
   "outputs": [],
   "source": [
    "# Enter your Symbulate code here"
   ]
  },
  {
   "cell_type": "markdown",
   "metadata": {},
   "source": [
    "**Thought question.** Does the appropriate Poisson distribution seem like a reasonable approximation to the Binomial(2000, 0.00015) distribution?"
   ]
  },
  {
   "cell_type": "code",
   "execution_count": null,
   "metadata": {},
   "outputs": [],
   "source": [
    "# Enter your Symbulate code here"
   ]
  },
  {
   "cell_type": "markdown",
   "metadata": {},
   "source": [
    "## b) Matching problem\n",
    "\n",
    "Related to Exercise 18.6. Consider the [matching babies problem](http://www.rossmanchance.com/applets/randomBabies/RandomBabies.html) from Handout 7. There are $n$ mothers and $n$ babies, and one baby is returned to each mother completely at random.  Let $X$ represent the number of babies that are returned to the correct mother.  In Handout 7 we considered $n=4$, but here we'll consider a general $n$."
   ]
  },
  {
   "cell_type": "markdown",
   "metadata": {},
   "source": [
    "**Thought question.** In what ways is this like the Binomial situation?\n",
    "\n",
    "- What is a trial?\n",
    "- What is a success?\n",
    "- Is there a fixed number of trials?\n",
    "- Is the probability of success the same for each trial? If so, what is it?\n",
    "- Are the trials independent?\n",
    "- Does $X$ have a Binomial distribution?\n",
    "- What is $E(X)$?\n",
    "\n",
    "I'll answer some of these questions below, so be sure to discuss them first."
   ]
  },
  {
   "cell_type": "markdown",
   "metadata": {},
   "source": [
    "Since $X$ counts the number of babies that are returned to the correct mother, in some ways this is like a Binomial situation.\n",
    "\n",
    "- Each baby that is returned to a mother can be considered a trial.\n",
    "- Each trial results in success (the baby is returned to the correct mother) or failure (not).\n",
    "- There are a fixed number of trials, $n$.\n",
    "- The *unconditional/marginal* probability of success is the same for all trials, $1/n$.\n",
    "\n",
    "However, \n",
    "\n",
    "- The trials are *not* independent.  For example, when $n=4$, the conditional probability that the fourth trial results in a match given that the first three do is 1, which is not equal to the unconditional probability (1/4) that the fourth trial results in a match.\n",
    "- So $X$ does *not* have a Binomial distribution.\n",
    "\n"
   ]
  },
  {
   "cell_type": "markdown",
   "metadata": {},
   "source": [
    "**Thought question.** Explain why $E(X)=1$ regardless of the value of $n$.  (Hint: recall what we said about means for Binomial and Hypergeometric situations.)"
   ]
  },
  {
   "cell_type": "markdown",
   "metadata": {},
   "source": [
    "In part a) you saw how Poisson distributions can sometimes approximate Binomial distributions.  But Poisson approximations are applicable much more generally.  In the matching, unless $n$ is really small, the number of matches $X$ has an approximate Poisson distribution with mean 1.  That is, unless $n$ is really small ($n \\le 5$), the distribution of the number of matches essentially does not depend on $n$! We'll use simulation to investigate this surprising fact now."
   ]
  },
  {
   "cell_type": "markdown",
   "metadata": {},
   "source": [
    "You will use simulation to approximate the distribution of $X$ for different values of $n$.  Some code has been provided for you; you will need to fill in the rest.  Add as many cells as you want.\n",
    "\n",
    "**Thought question.** Not really a question, but if you want a challenge, then skip to Case 1 below and set up and perform an appropriate simulation analysis without reading the following bullet points.  By now you should be starting to develop a sense of how a simulation analysis works and the kinds of summaries you would want to produce, and this would be a good test of your knowledge."
   ]
  },
  {
   "cell_type": "markdown",
   "metadata": {},
   "source": [
    "Performing a simulation analysis for a particular $n$\n",
    "\n",
    "- Label the $n$ babies $0, 1, \\ldots, n-1$ (the code `labels = list(range(n))` below does this).\n",
    "- Define an appropriate probability space `P` in which an outcome corresponds to an ordered shuffling of the babies.\n",
    "- Define a `RV` $X$ on the probability space `P` through an appropriate function which counts the number of matches.  You can use the `count_matches` function below.\n",
    "- Simulate 10000 values of $X$ and store the results.\n",
    "- Summarize the approximate distribution in a table.\n",
    "- Summarize the approximate distribution in a plot and overlay the Poisson(1) probability mass function.\n",
    "- Use the simulation results to approximate $P(X = 0)$ and $E(X)$, and compare to the theoretical values for a Poisson(1) distribution.\n"
   ]
  },
  {
   "cell_type": "markdown",
   "metadata": {},
   "source": [
    "Case 1: $n=6$. Perform an appropriate simulation analysis. Does a Poisson(1) distribution seem like a good approximation to the distribution of $X$ when $n=6$?"
   ]
  },
  {
   "cell_type": "code",
   "execution_count": null,
   "metadata": {},
   "outputs": [],
   "source": [
    "n = 6\n",
    "\n",
    "labels = list(range(n))\n",
    "\n",
    "def count_matches(outcome):\n",
    "    count = 0\n",
    "    for i in range(0, n, 1):\n",
    "        if outcome[i] == labels[i]:\n",
    "            count += 1\n",
    "    return count\n",
    "\n",
    "count_matches((0, 1, 5, 2, 4, 3)) # 3 matches - 0, 1, 4"
   ]
  },
  {
   "cell_type": "code",
   "execution_count": null,
   "metadata": {},
   "outputs": [],
   "source": [
    "# Enter your Symbulate code here"
   ]
  },
  {
   "cell_type": "markdown",
   "metadata": {},
   "source": [
    "Case 2: $n=10$. Perform an appropriate simulation analysis. Does a Poisson(1) distribution seem like a good approximation to the distribution of $X$ when $n=10$?"
   ]
  },
  {
   "cell_type": "code",
   "execution_count": null,
   "metadata": {},
   "outputs": [],
   "source": [
    "# Enter your Symbulate code here"
   ]
  },
  {
   "cell_type": "markdown",
   "metadata": {},
   "source": [
    "Case 3: $n=$ your choice. Try some different values of $n$. Perform an appropriate simulation analysis. Does a Poisson(1) distribution seem like a good approximation to the distribution of $X$ for your choice of $n$?"
   ]
  },
  {
   "cell_type": "code",
   "execution_count": null,
   "metadata": {},
   "outputs": [],
   "source": [
    "# Enter your Symbulate code here"
   ]
  },
  {
   "cell_type": "markdown",
   "metadata": {},
   "source": [
    "**Thought questions.** For the values of $n$ you considered\n",
    "\n",
    "- Is $E(X)$ essentially the same for any value of $n$?\n",
    "- Is $P(X=0)$ essentially the same for any value of $n$?\n",
    "- Is the distribution of $X$ essentially the same for any value of $n$?\n",
    "- Does the Poisson(1) distribution provide a reasonable approximation to the distribution of $X$ for any value of $n$?"
   ]
  },
  {
   "cell_type": "markdown",
   "metadata": {},
   "source": [
    "## c) Poisson approximation in the birthday problem\n",
    "\n",
    "Related to Exercises 18.11 and 18.12. Recall the [birthday problem](https://pudding.cool/2018/04/birthday-paradox/): in a group of $n$ people what is the probability that at least two have the same birthday? (Ignore multiple births and February 29 and assume that the other 365 days are all equally likely.)\n",
    "\n",
    "In Handout 10 we saw that\n",
    "\n",
    "- When $n=35$ the probability that at least two people share a birthday is about 0.81.\n",
    "- $n=23$ is the smallest $n$ for which the probability that at least two people share a birthday is greater than 0.5\n",
    "\n",
    "\n",
    "Imagine that we have a trial for each possible *pair* of people in the group, and let \"success\" indicate that the pair shares a birthday. Let $X$ be the number of pairs of people in the group that share a birthday.\n",
    "\n",
    "**Thought questions.**  For a given $n$, \n",
    "\n",
    "- How many trials are there?\n",
    "- Do the trials have the same probability of success?\n",
    "- Are the trials independent? (Hint: consider Exercise 13.7.)\n",
    "- What is $E(X)$?"
   ]
  },
  {
   "cell_type": "markdown",
   "metadata": {},
   "source": [
    "Set up and run an appropriate simulation to approximate and summarize the distribution of $X$ when $n=23$.  Some code is provided below; you will need to fill in the rest. For hints about the general process, see the bullet points from part b), and modify as needed to fit the birthday situation.\n",
    "\n",
    "**Note:** some of the simulations for the birthday problem will take time to run.  You might want to try 100 repetitions first to see if everything seems to be working, and then rerunning with 1000 or 10000 repetitions before submitting."
   ]
  },
  {
   "cell_type": "code",
   "execution_count": null,
   "metadata": {},
   "outputs": [],
   "source": [
    "import itertools\n",
    "\n",
    "# count_matching_pairs takes as an input a list of n birthdays\n",
    "# returns as output the number of pairs that share a birthday\n",
    "# Note the 2 in itertools.combinations is for pairs\n",
    "\n",
    "def count_matching_pairs(outcome):\n",
    "    return sum([1 for i in itertools.combinations(outcome, 2) if len(set(i)) == 1])\n",
    "    \n",
    "# 2 pairs have a match in the following: (0, 1), (2, 3)\n",
    "count_matching_pairs((3, 3, 4, 4, 6)) \n",
    "\n",
    "# 6 pairs have a match in the following:\n",
    "# (0, 1), (0, 2), (0, 3), (1, 2), (1, 3), (2, 3)\n",
    "count_matching_pairs((3, 3, 3, 3, 4)) "
   ]
  },
  {
   "cell_type": "markdown",
   "metadata": {},
   "source": [
    "Compare the approximate distribution of $X$ with a Poisson distribution with the appropriate mean.  In particular, compare $P(X\\ge 1)$ for the simulation and the Poisson approximation.  Does a Poisson distribution seem like a reasonable approximation for the distribution of $X$?"
   ]
  },
  {
   "cell_type": "code",
   "execution_count": null,
   "metadata": {},
   "outputs": [],
   "source": [
    "# Enter your Symbulate code here"
   ]
  },
  {
   "cell_type": "markdown",
   "metadata": {},
   "source": [
    "Repeat the above to investigate the distribution of $X$, via simulation and Poisson approximation, when $n=35$."
   ]
  },
  {
   "cell_type": "code",
   "execution_count": null,
   "metadata": {},
   "outputs": [],
   "source": [
    "# Enter your Symbulate code here"
   ]
  },
  {
   "cell_type": "markdown",
   "metadata": {},
   "source": [
    "Now consider the  probability that **at least three**\n",
    "people in a group of $n$ people share a birthday. Imagine that we have a trial for each possible *trio* of people in the group, and let \"success\" indicate that the trio shares a birthday. Let $X$ be the number of trios of people in the group that share a birthday."
   ]
  },
  {
   "cell_type": "markdown",
   "metadata": {},
   "source": [
    "Set up and run an appropriate simulation to approximate and summarize the distribution of $X$ when $n=35$."
   ]
  },
  {
   "cell_type": "code",
   "execution_count": null,
   "metadata": {},
   "outputs": [],
   "source": [
    "# Enter your Symbulate code here"
   ]
  },
  {
   "cell_type": "markdown",
   "metadata": {},
   "source": [
    "Compare the approximate distribution of $X$ with a Poisson distribution with the appropriate mean.  In particular, compare $P(X\\ge 1)$ for the simulation and the Poisson approximation.  Does a Poisson distribution seem like a reasonable approximation for the distribution of $X$?"
   ]
  },
  {
   "cell_type": "code",
   "execution_count": null,
   "metadata": {},
   "outputs": [],
   "source": [
    "# Enter your Symbulate code here"
   ]
  },
  {
   "cell_type": "markdown",
   "metadata": {},
   "source": [
    "Use simulation or Poisson approximation and trial-and-error to find the smallest value of $n$ for which the probability that at least three people share a birthday is greater than 0.5."
   ]
  },
  {
   "cell_type": "code",
   "execution_count": null,
   "metadata": {},
   "outputs": [],
   "source": [
    "# Enter your Symbulate code here"
   ]
  },
  {
   "cell_type": "markdown",
   "metadata": {},
   "source": [
    "# d) Reflection\n",
    "\n",
    "Write a paragraph, or some bullet points, of what you learned from this lab"
   ]
  },
  {
   "cell_type": "markdown",
   "metadata": {},
   "source": [
    "**TYPE YOUR RESPONSE HERE.**"
   ]
  },
  {
   "cell_type": "markdown",
   "metadata": {},
   "source": [
    "# e) Reflection - questions\n",
    "\n",
    "Write a paragraph, or some bullet points, of some questions you have about the material introduced in this lab."
   ]
  },
  {
   "cell_type": "markdown",
   "metadata": {},
   "source": [
    "**TYPE YOUR RESPONSE HERE.**"
   ]
  },
  {
   "cell_type": "markdown",
   "metadata": {},
   "source": [
    "## Submission Instructions\n",
    "\n",
    "- After you have completed the notebook, select **Runtime > Run all**\n",
    "- After the notebook finishes rerunning check to make sure that you have no errors and everything runs properly.  Fix any problems and redo this step until it works.\n",
    "- Make sure you typed the names of both partners at the top of the notebook where it says \"Type your names here\".\n",
    "- Click Share in the top right and share with stat305cp@gmail.com \n",
    "- Save a PDF version: File > Print > Save as PDF\n",
    "- Download the notebook: File > Download .ipynb\n",
    "- Submit the notebook and PDF in PL.  Remember, only one submission per team.  (Either partner can submit.)"
   ]
  },
  {
   "cell_type": "code",
   "execution_count": null,
   "metadata": {},
   "outputs": [],
   "source": []
  }
 ],
 "metadata": {
  "kernelspec": {
   "display_name": "Python 3",
   "language": "python",
   "name": "python3"
  },
  "language_info": {
   "codemirror_mode": {
    "name": "ipython",
    "version": 3
   },
   "file_extension": ".py",
   "mimetype": "text/x-python",
   "name": "python",
   "nbconvert_exporter": "python",
   "pygments_lexer": "ipython3",
   "version": "3.7.3"
  }
 },
 "nbformat": 4,
 "nbformat_minor": 2
}
