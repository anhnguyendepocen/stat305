{
 "cells": [
  {
   "cell_type": "markdown",
   "metadata": {},
   "source": [
    "# Stat 305 Lab 1 + HW1, Part II"
   ]
  },
  {
   "cell_type": "markdown",
   "metadata": {},
   "source": [
    "**For the lab/part II of the HW, you must work in teams of 2, submitting one notebook per team.**  (Your partner for the lab/part II does not have to be the same partner for the written part of the HW.)"
   ]
  },
  {
   "cell_type": "markdown",
   "metadata": {},
   "source": [
    "**TYPE YOUR NAMES HERE**"
   ]
  },
  {
   "cell_type": "markdown",
   "metadata": {},
   "source": [
    "## Introduction\n",
    "\n",
    "This Jupyter notebook provides a template for you to fill in. **Read the notebook from start to finish, completing the parts as indicated.**  To run a cell, make sure the cell is highlighted by clicking on it, then press SHIFT + ENTER on your keyboard.  (Alternatively, you can click the \"play\" button in the toolbar above.)\n",
    "\n",
    "Some code has already been provided.  Be sure to run this code and view the output to understand what it does.  In other parts, you will need to provide the code yourself; use the examples provided and the links as a guide. \n",
    "\n",
    "You will use the Python package [Symbulate](https://github.com/dlsun/symbulate).  A few specific links to the documentation are provided below.  **You should use only use Symbulate commands, not general Python code.**"
   ]
  },
  {
   "cell_type": "markdown",
   "metadata": {},
   "source": [
    "Be sure to run the following lines first."
   ]
  },
  {
   "cell_type": "code",
   "execution_count": null,
   "metadata": {},
   "outputs": [],
   "source": [
    "from symbulate import *\n",
    "%matplotlib inline"
   ]
  },
  {
   "cell_type": "markdown",
   "metadata": {},
   "source": [
    "## A few notes about Jupyter notebooks\n",
    "\n",
    "- Each cell contains either Code or text (Markdown)\n",
    "- You can run an individual cell by clicking on it and holding SHIFT-ENTER or by clicking the play button.  Any output from the cell will be displayed underneath it.\n",
    "- Cells are evaluated in the order in which you run them.  After a cell is run it should have `Out[xx]` to the left, indicating the order in which the cells were run.\n",
    "- When you select \"Run all\", cells will be evaluated in sequence starting with the first cell at the top of the notebook.\n",
    "- You can use objects evaluted in one cell in others.  Just keep in mind that cells are evaluated in order.  So if you call something `x` in one cell, but redefine `x` as something else in another cell, it's essential that you evaluate the cells in the proper order.\n",
    "- Any plots should be displayed automatically (as long as you run the `%matplotlib inline` command).\n",
    "- While all the code in a cell is evaluated, only the output of the last line of code in a cell is displayed automatically.\n",
    "- You can add cells with Insert or with the + sign on the menu,\n"
   ]
  },
  {
   "cell_type": "markdown",
   "metadata": {},
   "source": [
    "## Lab 1"
   ]
  },
  {
   "cell_type": "markdown",
   "metadata": {},
   "source": [
    "This lab provides a brief introduction to simulation and to the Symbulate package.  For more details see [Section 2.5 of the course notes](https://bookdown.org/kevin_davisross/probbook/symbulate-intro.html) and the [Symbulate documentation](https://dlsun.github.io/symbulate/index.html).\n",
    "\n",
    "In class, we have considered the problem of flipping a fair coin 4 times and counting the number of heads.  While this is not super exciting, it gives a simple, concrete context to introduce concepts.  We will continue to use this problem to introduce Symbulate.  A sample space outcome will be a sequence of 4 coin flips. We will assume the coin is equally likely to land on heads or tails, and that the outcome of one flip has no bearing on the others.  With these assumptions, the 16 possible outcomes in the sample space are equally likely."
   ]
  },
  {
   "cell_type": "markdown",
   "metadata": {},
   "source": [
    "### Probability spaces"
   ]
  },
  {
   "cell_type": "markdown",
   "metadata": {},
   "source": [
    "The following defines a Symbulate *probability space* corresponding to the coin flipping scenario as a box model with tickets labeled 'H' and 'T' from which 4 tickets are drawn (by default: with replacement and in order)."
   ]
  },
  {
   "cell_type": "code",
   "execution_count": null,
   "metadata": {},
   "outputs": [],
   "source": [
    "P = BoxModel(['H', 'T'], size = 4)"
   ]
  },
  {
   "cell_type": "markdown",
   "metadata": {},
   "source": [
    "Running the above code just defines the probability space; it doesn't output anything.  We can then simulate a few outcomes from this probability space with `.sim()`."
   ]
  },
  {
   "cell_type": "code",
   "execution_count": null,
   "metadata": {},
   "outputs": [],
   "source": [
    "P.sim(5)"
   ]
  },
  {
   "cell_type": "markdown",
   "metadata": {},
   "source": [
    "We can then simulate many outcomes and summarize them in a table."
   ]
  },
  {
   "cell_type": "code",
   "execution_count": null,
   "metadata": {},
   "outputs": [],
   "source": [
    "P.sim(16000).tabulate()"
   ]
  },
  {
   "cell_type": "markdown",
   "metadata": {},
   "source": [
    "The `tabulate` option `normalize=True` returns relative frequencies (proportions) instead of counts.  We see that after many repetitions, each of the 16 outcomes occur with roughly equal frequency."
   ]
  },
  {
   "cell_type": "code",
   "execution_count": null,
   "metadata": {},
   "outputs": [],
   "source": [
    "P.sim(16000).tabulate(normalize=True)"
   ]
  },
  {
   "cell_type": "markdown",
   "metadata": {},
   "source": [
    "#### Exercise.\n",
    "\n",
    "Define a probability space corresponding to two rolls of a fair-four sided die, with sides 1, 2, 3, 4, and simulate a few outcomes from it."
   ]
  },
  {
   "cell_type": "code",
   "execution_count": null,
   "metadata": {},
   "outputs": [],
   "source": [
    "### Enter your Symbulate commands here."
   ]
  },
  {
   "cell_type": "markdown",
   "metadata": {},
   "source": [
    "### Random variables"
   ]
  },
  {
   "cell_type": "markdown",
   "metadata": {},
   "source": [
    "Now consider the random variable $X$ which counts the number of heads.  Remember that a random variable is a function defined on a probability space.  To define a Symbulate `RV` you need to provide (1) the probability space, and (2) the function that maps outcomes of the probability space to numbers. Note the use of the `count_eq()` function which takes as an input a list and returns as an output the number of items in the list *equal* to the argument."
   ]
  },
  {
   "cell_type": "code",
   "execution_count": null,
   "metadata": {},
   "outputs": [],
   "source": [
    "P = BoxModel(['H', 'T'], size = 4)\n",
    "\n",
    "X = RV(P, count_eq('H'))"
   ]
  },
  {
   "cell_type": "markdown",
   "metadata": {},
   "source": [
    "Running the above code just defines the probability space and RV; it doesn't output anything.  We can call `X` for a particular outcome to return its value for that outcome.\n",
    "\n",
    "Note: the warning you get just means that Symbulate is not going to check for you that the inputs to the function you used to define the `RV` actually match up with the outcomes of the probability space `P`."
   ]
  },
  {
   "cell_type": "code",
   "execution_count": null,
   "metadata": {},
   "outputs": [],
   "source": [
    "outcome = ('H', 'H', 'T', 'T')\n",
    "\n",
    "X(outcome)"
   ]
  },
  {
   "cell_type": "markdown",
   "metadata": {},
   "source": [
    "We can simulate a few values of `X`. In the background, Symbulate will first simulate outcomes from the probability space `P` and then evaluate the random variable `X` for each of the simulated outcomes."
   ]
  },
  {
   "cell_type": "code",
   "execution_count": null,
   "metadata": {},
   "outputs": [],
   "source": [
    "X.sim(5)"
   ]
  },
  {
   "cell_type": "markdown",
   "metadata": {},
   "source": [
    "We can simulate lots of values of `X`, store the simulated values in a variable `x`, and then summarize the simulated values in a table of counts or relative frequencies.  The notation reflects that `X` (uppercase letter) is the random variable itself while `x` (lowercase letter) represents values that the random variable can take.\n",
    "\n",
    "Note: the reason why you save the values is so that the simulation only runs once and your summaries all describe the same set of simulated values.  Every time you call `sim` it runs the simulation again."
   ]
  },
  {
   "cell_type": "code",
   "execution_count": null,
   "metadata": {},
   "outputs": [],
   "source": [
    "x = X.sim(16000)\n",
    "\n",
    "x.tabulate()"
   ]
  },
  {
   "cell_type": "code",
   "execution_count": null,
   "metadata": {},
   "outputs": [],
   "source": [
    "x.tabulate(normalize = True)"
   ]
  },
  {
   "cell_type": "markdown",
   "metadata": {},
   "source": [
    "Simulated values of random variables can be plotted."
   ]
  },
  {
   "cell_type": "code",
   "execution_count": null,
   "metadata": {},
   "outputs": [],
   "source": [
    "x.plot()"
   ]
  },
  {
   "cell_type": "markdown",
   "metadata": {},
   "source": [
    "#### Exercise\n",
    "\n",
    "For the probability space corresponding to two rolls of a fair four-sided die, define a random variable $X$ to be the sum of the two rolls.  Then simulate lots of values of $X$ and summarize the simulated values in a plot.\n",
    "\n",
    "Remember how Jupyter works.  If you defined `P` for the dice above, but then redefined `P` for the coin flipping situation, you'll need to define the probability space for the dice again here.  (We could avoid this problem by defining say `Pdice` or `Pcoin`.)"
   ]
  },
  {
   "cell_type": "code",
   "execution_count": null,
   "metadata": {},
   "outputs": [],
   "source": [
    "### Enter your Symbulate commands here."
   ]
  },
  {
   "cell_type": "markdown",
   "metadata": {},
   "source": [
    "### An alternative definition of coin flips"
   ]
  },
  {
   "cell_type": "markdown",
   "metadata": {},
   "source": [
    "When dealing with sequences of binary outcomes like in a single coin flip it is useful to define the outcome of interest as 1 and the other outcome as 0.  In coin flips, we can define H as 1 and T as 0. For example, (H,H,T,T,) would be (1,1,0,0)."
   ]
  },
  {
   "cell_type": "code",
   "execution_count": null,
   "metadata": {},
   "outputs": [],
   "source": [
    "P = BoxModel([0, 1], size = 4)\n",
    "P.sim(5)"
   ]
  },
  {
   "cell_type": "markdown",
   "metadata": {},
   "source": [
    "Now we can define $X$, the number of heads via the `sum` function.  If we sum the elements in the outcome sequence, we add 1 every time we see a H and 0 every time we see a T, resulting in the total number of H."
   ]
  },
  {
   "cell_type": "code",
   "execution_count": null,
   "metadata": {},
   "outputs": [],
   "source": [
    "X = RV(P, sum)\n",
    "\n",
    "X((1, 1, 0, 0))"
   ]
  },
  {
   "cell_type": "code",
   "execution_count": null,
   "metadata": {},
   "outputs": [],
   "source": [
    "x = X.sim(16000)\n",
    "\n",
    "x.tabulate(normalize=True)"
   ]
  },
  {
   "cell_type": "code",
   "execution_count": null,
   "metadata": {},
   "outputs": [],
   "source": [
    "x.plot()"
   ]
  },
  {
   "cell_type": "markdown",
   "metadata": {},
   "source": [
    "## Events "
   ]
  },
  {
   "cell_type": "markdown",
   "metadata": {},
   "source": [
    "We can define events like $\\{X = x\\}$ as `(X==x)`. A simulated event returns either `True` (if the event occurs) or `False` (if the event does not occur). (We use parentheses () instead of braces {} for technical reasons.  Also logical equality is the double equal sign `==`.)"
   ]
  },
  {
   "cell_type": "code",
   "execution_count": null,
   "metadata": {},
   "outputs": [],
   "source": [
    "A = (X == 3)\n",
    "A.sim(10000).tabulate()"
   ]
  },
  {
   "cell_type": "markdown",
   "metadata": {},
   "source": [
    "### Other random variables"
   ]
  },
  {
   "cell_type": "markdown",
   "metadata": {},
   "source": [
    "We can define many random variables on the same probability space.  Let the random variable $I$ be equal to 1 if there is at least one H in the 4 flips, and let $I$ be 0 otherwise.  Then $I$ is called the *indicator RV* of the event \"at least one H\".  With the 0/1 defintion, we can define `I` using the `max` function.\n",
    "\n",
    "- If the outcome is all tails (0, 0, 0, 0) the max will be 0. (In this case $I=0$ and the event \"at least one H\" did not occur.)\n",
    "- Otherwise, there is at least one 1, so the max will be 1.  (In this case, $I=1$ and the event \"at least one H\" occurred.)"
   ]
  },
  {
   "cell_type": "code",
   "execution_count": null,
   "metadata": {},
   "outputs": [],
   "source": [
    "P = BoxModel([0, 1], size = 4)\n",
    "\n",
    "X = RV(P, sum)\n",
    "\n",
    "Y = RV(P, max)"
   ]
  },
  {
   "cell_type": "markdown",
   "metadata": {},
   "source": [
    "We can simultaneously simulate values for multiple random variables *defined on the same probability space*.  The following will simulate a sequence of coin flips in the background and then compute both $X$ and $Y$ for that sequence (and repeat many times).  `(X & Y)` is like Symbulate code for the ordered pair $(X, Y)$."
   ]
  },
  {
   "cell_type": "code",
   "execution_count": null,
   "metadata": {},
   "outputs": [],
   "source": [
    "(X & Y).sim(5)"
   ]
  },
  {
   "cell_type": "code",
   "execution_count": null,
   "metadata": {},
   "outputs": [],
   "source": [
    "(X & Y).sim(10000).tabulate()"
   ]
  },
  {
   "cell_type": "markdown",
   "metadata": {},
   "source": [
    "The `plot` function will produce an appropriate plot for the simulated values, but there are a [few different options](https://dlsun.github.io/symbulate/graphics.html), such as the following."
   ]
  },
  {
   "cell_type": "code",
   "execution_count": null,
   "metadata": {},
   "outputs": [],
   "source": [
    "(X & Y).sim(10000).plot(['tile', 'marginal'])"
   ]
  },
  {
   "cell_type": "markdown",
   "metadata": {},
   "source": [
    "#### Exercise\n",
    "\n",
    "For the probability space corresponding to two rolls of a fair four-sided die, define a random variable $X$ to be the sum of the two rolls, and $Y$ to be the larger (`max`) of the two rolls (or the common value if a tie).  Simulate many $(X, Y)$ pairs and summarize the values in a table and in a plot."
   ]
  },
  {
   "cell_type": "code",
   "execution_count": null,
   "metadata": {},
   "outputs": [],
   "source": [
    "### Enter your Symbulate commands here."
   ]
  },
  {
   "cell_type": "markdown",
   "metadata": {},
   "source": [
    "### Transformations of random variables"
   ]
  },
  {
   "cell_type": "markdown",
   "metadata": {},
   "source": [
    "We can define other random variables via transformations of existing random variables.  If $X$ is the number of H in 4 coin flips, then $Y = 4 - X$ is the number of T."
   ]
  },
  {
   "cell_type": "code",
   "execution_count": null,
   "metadata": {},
   "outputs": [],
   "source": [
    "P = BoxModel([0, 1], size = 4)\n",
    "X = RV(P, sum)"
   ]
  },
  {
   "cell_type": "code",
   "execution_count": null,
   "metadata": {},
   "outputs": [],
   "source": [
    "Y = 4 - X"
   ]
  },
  {
   "cell_type": "code",
   "execution_count": null,
   "metadata": {},
   "outputs": [],
   "source": [
    "Y.sim(10000).plot()"
   ]
  },
  {
   "cell_type": "code",
   "execution_count": null,
   "metadata": {},
   "outputs": [],
   "source": [
    "(X & Y).sim(10000).tabulate()"
   ]
  },
  {
   "cell_type": "markdown",
   "metadata": {},
   "source": [
    "#### Exercise\n",
    "\n",
    "For the probability space corresponding to two rolls of a fair four-sided die, define a random variable $X$ to be the sum of the two rolls, and define $Z=(X-5)^2$.  Simulate lots of values of $Z$ and summarize the output in a plot and a table.  Note: in Python exponentiation is `**`, e.g. `2 ** 5 = 32`.  (We'll see why we might want to consider something like $(X-5)^2$ soon.)     "
   ]
  },
  {
   "cell_type": "code",
   "execution_count": null,
   "metadata": {},
   "outputs": [],
   "source": [
    "### Enter your Symbulate commands here."
   ]
  },
  {
   "cell_type": "markdown",
   "metadata": {},
   "source": [
    "### Summarizing simulation output"
   ]
  },
  {
   "cell_type": "markdown",
   "metadata": {},
   "source": [
    "In addition to plots and tables, there are other descriptive statistics we can use to summarize simulation output.\n",
    "\n",
    "For example, we can compute the mean (average) of all simulated values."
   ]
  },
  {
   "cell_type": "code",
   "execution_count": null,
   "metadata": {},
   "outputs": [],
   "source": [
    "P = BoxModel([0, 1], size=4)\n",
    "X = RV(P, sum)\n",
    "\n",
    "x = X.sim(10000)\n",
    "x.mean()"
   ]
  },
  {
   "cell_type": "markdown",
   "metadata": {},
   "source": [
    "## HW1 Part II. (\"Collector problem\")"
   ]
  },
  {
   "cell_type": "markdown",
   "metadata": {},
   "source": [
    "Each box of a certain type of cereal contains one of $n$ distinct prizes and you want to obtain a complete set. Suppose that each box of cereal is equally likely to contain any one of the $n$ prizes, and the particular prize\n",
    "that appears in one box has no bearing on the prize that appears in another box. You purchase\n",
    "cereal boxes one box at a time until you have the complete set of $n$ prizes. \n",
    "\n",
    "Let $X$ be the total number of boxes needed to be purchased to obtain a complete set of the $n$ prizes.\n",
    "\n",
    "We will assume $n=10$.  But you can easily change this parameter to see how various quantities change.  Note: since Python uses zero-based indexing, we will label the 10 prizes 0, 1, ..., 9; `prizes` below is just a list of the prize labels.  Also note: the setup here will be a little different than what you did in the written part I."
   ]
  },
  {
   "cell_type": "code",
   "execution_count": null,
   "metadata": {},
   "outputs": [],
   "source": [
    "n = 10\n",
    "prizes = list(range(n))\n",
    "prizes"
   ]
  },
  {
   "cell_type": "markdown",
   "metadata": {},
   "source": [
    "Before proceeding, make some guesses for how you would expect $X$ to behave.  What is the smallest possible value?  The largest?  What values would be more/less likely?  (Nothing to write up, it's just always a good idea to think about things before plugging away.)"
   ]
  },
  {
   "cell_type": "markdown",
   "metadata": {},
   "source": [
    "The probability space could be represented as the sequence of prizes obtained.  (In the first box I got prize 3, in the second box I got prize 1, in the third box I got prize 3 (again), etc.)  While technically you would stop buying prizes when you get a complete set, it is convenient to imagine that you keep buying boxes forever.  This way, all outcomes in the probability space would have the same \"length\".  Also, you could use such a probability space to investigate other problems too (e.g., the number of boxes purchased until $r$ complete sets are obtained, for any $r$ instead of just $r=1$).\n",
    "\n",
    "Define a probability space `P` in which an outcome corresponds to an infinite sequence of prizes.  (Hint: use [`BoxModel`](https://dlsun.github.io/symbulate/probspace.html#boxmodel) with`prizes` as the tickets and `size=inf`.  Remember `replace=True` is the default.)"
   ]
  },
  {
   "cell_type": "code",
   "execution_count": null,
   "metadata": {},
   "outputs": [],
   "source": [
    "# Enter your Symbulate code here."
   ]
  },
  {
   "cell_type": "markdown",
   "metadata": {},
   "source": [
    "Simulate a few outcomes from `P`."
   ]
  },
  {
   "cell_type": "code",
   "execution_count": null,
   "metadata": {},
   "outputs": [],
   "source": [
    "# Enter your Symbulate code here."
   ]
  },
  {
   "cell_type": "markdown",
   "metadata": {},
   "source": [
    "Remember that a random variable is a function defined on the probability space.  In the lab, simple built-in functions like `sum` and `max` were used to define `RV`s.  But it is also possible to program your own functions to use in defining Symbulate random variables, e.g., `X=RV(P, custom_function)`.  You just need to make sure that the function you write takes as an input an object corresponding to the output of the probability space `P`.\n",
    "\n",
    "The custom function `number_prizes_until_complete_set`, defined using Python code below, takes as an input a sequence of prizes (each prize labeled with a number 0 through 9) and returns how many boxes needed to be purchased until a complete set was obtained.  For now, you don't need to worry too much about the Python code.  Just know that the function does what it's supposed to do."
   ]
  },
  {
   "cell_type": "code",
   "execution_count": null,
   "metadata": {},
   "outputs": [],
   "source": [
    "def number_prizes_until_complete_set(outcome):\n",
    "    prizes_so_far = []\n",
    "    for trial, result in enumerate(outcome):\n",
    "        prizes_so_far.append(result)\n",
    "        if len(set(prizes_so_far)) == n:\n",
    "            return trial + 1 # +1 is need for zero-indexing; the first prize is 0th prize in Python\n",
    "\n",
    "# for the outcome below, the set is completed when you get prize 7 on box 19 (with usual non-Python indexing)\n",
    "outcome = (3, 4, 3, 0, 1, 6, 5, 3, 2, 4, 5, 6, 9, 8, 3, 4, 5, 6, 7, 3, 3, 3)  \n",
    "number_prizes_until_complete_set(outcome)"
   ]
  },
  {
   "cell_type": "markdown",
   "metadata": {},
   "source": [
    "Use the `number_prizes_until_complete_set` function to define a `RV` `X` on the probability space `P` that you defined above."
   ]
  },
  {
   "cell_type": "code",
   "execution_count": null,
   "metadata": {},
   "outputs": [],
   "source": [
    "### Enter your Symbulate commands here."
   ]
  },
  {
   "cell_type": "markdown",
   "metadata": {},
   "source": [
    "Find the value of `X` for the following outcome; it should be 19."
   ]
  },
  {
   "cell_type": "code",
   "execution_count": null,
   "metadata": {},
   "outputs": [],
   "source": [
    "outcome = (3, 4, 3, 0, 1, 6, 5, 3, 2, 4, 5, 6, 9, 8, 3, 4, 5, 6, 7, 3, 3, 3) \n",
    "# Enter your Symbulate code here."
   ]
  },
  {
   "cell_type": "markdown",
   "metadata": {},
   "source": [
    "Simulate 10000 values of `X` and store the values in a variable `x`."
   ]
  },
  {
   "cell_type": "code",
   "execution_count": null,
   "metadata": {},
   "outputs": [],
   "source": [
    "# Enter your Symbulate code here."
   ]
  },
  {
   "cell_type": "markdown",
   "metadata": {},
   "source": [
    "Summarize the simulated values of `X` in a table."
   ]
  },
  {
   "cell_type": "code",
   "execution_count": null,
   "metadata": {},
   "outputs": [],
   "source": [
    "# Enter your Symbulate code here."
   ]
  },
  {
   "cell_type": "markdown",
   "metadata": {},
   "source": [
    "Summarize the simulated values of `X` in a plot."
   ]
  },
  {
   "cell_type": "code",
   "execution_count": null,
   "metadata": {},
   "outputs": [],
   "source": [
    "# Enter your Symbulate code here."
   ]
  },
  {
   "cell_type": "markdown",
   "metadata": {},
   "source": [
    "Use the simulation results to estimate $P(X > 40)$ by finding the corresponding simulated relative frequency.  Enter the appropriate Symbulate commands below; don't just use the above table and a calculator.  (There are a few ways to do this, and you might want to try a couple.  [Hints](https://dlsun.github.io/symbulate/sim.html#recap).)"
   ]
  },
  {
   "cell_type": "code",
   "execution_count": null,
   "metadata": {},
   "outputs": [],
   "source": [
    "# Enter your Symbulate code here."
   ]
  },
  {
   "cell_type": "markdown",
   "metadata": {},
   "source": [
    "Compute the average (a.k.a. mean) of the simulated values of `X`. "
   ]
  },
  {
   "cell_type": "code",
   "execution_count": null,
   "metadata": {},
   "outputs": [],
   "source": [
    "# Enter your Symbulate code here."
   ]
  },
  {
   "cell_type": "markdown",
   "metadata": {},
   "source": [
    "Compute the standard deviation (sd) of the simulated values.  (We will talk more about sd later, but it measures degree of variability.)"
   ]
  },
  {
   "cell_type": "code",
   "execution_count": null,
   "metadata": {},
   "outputs": [],
   "source": [
    "# Enter your Symbulate code here."
   ]
  },
  {
   "cell_type": "markdown",
   "metadata": {},
   "source": [
    "Write a few sentences, in the context of the collector problem, describing the behavior of $X$ when $n=10$ "
   ]
  },
  {
   "cell_type": "markdown",
   "metadata": {},
   "source": [
    "**TYPE YOUR RESPONSE HERE.**"
   ]
  },
  {
   "cell_type": "markdown",
   "metadata": {},
   "source": [
    "This is all you're required to do for the homework.  But I would encourage you to play around with the problem.  What happens as you change $n$?  What other random variables might you be interested in, and how might you simulate/program them?"
   ]
  },
  {
   "cell_type": "markdown",
   "metadata": {},
   "source": [
    "## Submission Instructions\n",
    "\n",
    "- After you have completed the notebook, in Jupyter select **Kernel > Restart kernel and run all** cells.  In JupyterLab, select **Kernel > Restart kernel** then **Run > Run all cells.**\n",
    "- After the notebook finishes rerunning check to make sure that you have no errors and everything runs properly.  Fix any problems and redo this step until it works.\n",
    "- Make sure you typed the names of both partners at the top of the notebook where it says \"Type your names here\".\n",
    "- Save both a notebook and a PDF version.  In \n",
    "  - JupyterLab: right click on the file name and choose download. Jupyter: File > Download as > Notebook.  \n",
    "  - JupyterLab: select File > Export to > PDF. Jupyter: File > Download as > Notebook.\n",
    "- Submit your files in PL.  Remember, only one submission per team.  (Either partner can submit.)"
   ]
  },
  {
   "cell_type": "code",
   "execution_count": null,
   "metadata": {},
   "outputs": [],
   "source": []
  }
 ],
 "metadata": {
  "kernelspec": {
   "display_name": "Python 3",
   "language": "python",
   "name": "python3"
  },
  "language_info": {
   "codemirror_mode": {
    "name": "ipython",
    "version": 3
   },
   "file_extension": ".py",
   "mimetype": "text/x-python",
   "name": "python",
   "nbconvert_exporter": "python",
   "pygments_lexer": "ipython3",
   "version": "3.7.3"
  }
 },
 "nbformat": 4,
 "nbformat_minor": 2
}
