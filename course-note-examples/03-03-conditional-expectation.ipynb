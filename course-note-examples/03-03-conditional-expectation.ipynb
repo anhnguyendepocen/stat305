{
 "cells": [
  {
   "cell_type": "markdown",
   "metadata": {},
   "source": [
    "# Conditional expectation"
   ]
  },
  {
   "cell_type": "code",
   "execution_count": 1,
   "metadata": {},
   "outputs": [],
   "source": [
    "from symbulate import *\n",
    "%matplotlib inline"
   ]
  },
  {
   "cell_type": "markdown",
   "metadata": {},
   "source": [
    "## Dice rolling"
   ]
  },
  {
   "cell_type": "code",
   "execution_count": 2,
   "metadata": {},
   "outputs": [],
   "source": [
    "P = BoxModel([1, 2, 3, 4], size = 2)\n",
    "X = RV(P, sum)\n",
    "Y = RV(P, max)"
   ]
  },
  {
   "cell_type": "code",
   "execution_count": 3,
   "metadata": {},
   "outputs": [
    {
     "data": {
      "text/html": [
       "\n",
       "<table>\n",
       "  <thead>\n",
       "    <th width=\"80%\">Outcome</th>\n",
       "    <th width=\"20%\">Value</th>\n",
       "  </thead>\n",
       "  <tbody>\n",
       "    <tr><td>(2, 1)</td><td>996</td></tr><tr><td>(3, 2)</td><td>1933</td></tr><tr><td>(4, 2)</td><td>1008</td></tr><tr><td>(4, 3)</td><td>2028</td></tr><tr><td>(5, 3)</td><td>1937</td></tr><tr><td>(5, 4)</td><td>2007</td></tr><tr><td>(6, 3)</td><td>1072</td></tr><tr><td>(6, 4)</td><td>1996</td></tr><tr><td>(7, 4)</td><td>2037</td></tr><tr><td>(8, 4)</td><td>986</td></tr><tr><td><b>Total</b></td><td><b>16000</b></td></tr>\n",
       "  </tbody>\n",
       "</table>\n"
      ],
      "text/plain": [
       "{(2, 1): 996,\n",
       " (3, 2): 1933,\n",
       " (4, 2): 1008,\n",
       " (4, 3): 2028,\n",
       " (5, 3): 1937,\n",
       " (5, 4): 2007,\n",
       " (6, 3): 1072,\n",
       " (6, 4): 1996,\n",
       " (7, 4): 2037,\n",
       " (8, 4): 986}"
      ]
     },
     "execution_count": 3,
     "metadata": {},
     "output_type": "execute_result"
    },
    {
     "data": {
      "image/png": "[encoded data removed]",
      "text/plain": [
       "<Figure size 432x288 with 2 Axes>"
      ]
     },
     "metadata": {
      "needs_background": "light"
     },
     "output_type": "display_data"
    }
   ],
   "source": [
    "xy = (X & Y).sim(16000)\n",
    "xy.plot('tile')\n",
    "xy.tabulate()"
   ]
  },
  {
   "cell_type": "code",
   "execution_count": 4,
   "metadata": {},
   "outputs": [
    {
     "name": "stdout",
     "output_type": "stream",
     "text": [
      "x E(Y|X=x)\n",
      "2 1.0\n",
      "3 2.0\n",
      "4 2.6667\n",
      "5 3.5013\n",
      "6 3.6616\n",
      "7 4.0\n",
      "8 4.0\n"
     ]
    }
   ],
   "source": [
    "print('x', 'E(Y|X=x)')\n",
    "for x in range(2, 8+1):\n",
    "    print(x, ( Y | (X == x) ).sim(10000).mean())\n"
   ]
  },
  {
   "cell_type": "markdown",
   "metadata": {},
   "source": [
    "## Patterns in coin flips"
   ]
  },
  {
   "cell_type": "code",
   "execution_count": 5,
   "metadata": {},
   "outputs": [
    {
     "data": {
      "text/html": [
       "\n",
       "    <table>\n",
       "      <thead>\n",
       "        <th width=\"10%\">Index</th>\n",
       "        <th width=\"90%\">Result</th>\n",
       "      </thead>\n",
       "      <tbody>\n",
       "        \n",
       "        <tr>\n",
       "          <td>0</td><td>(0, 1, 0, 0, 1, 1, ...)</td>\n",
       "        </tr>\n",
       "        \n",
       "        <tr>\n",
       "          <td>1</td><td>(0, 0, 1, 0, 1, 1, ...)</td>\n",
       "        </tr>\n",
       "        \n",
       "        <tr>\n",
       "          <td>2</td><td>(0, 0, 0, 0, 0, 0, ...)</td>\n",
       "        </tr>\n",
       "        \n",
       "        <tr>\n",
       "          <td>3</td><td>(1, 0, 0, 0, 0, 0, ...)</td>\n",
       "        </tr>\n",
       "        \n",
       "        <tr>\n",
       "          <td>4</td><td>(1, 0, 1, 0, 0, 1, ...)</td>\n",
       "        </tr>\n",
       "        \n",
       "      </tbody>\n",
       "    </table>\n",
       "        "
      ],
      "text/plain": [
       "<symbulate.results.Results at 0x1d39b3c8320>"
      ]
     },
     "execution_count": 5,
     "metadata": {},
     "output_type": "execute_result"
    }
   ],
   "source": [
    "P = BoxModel([1, 0], size = inf)\n",
    "P.sim(5)"
   ]
  },
  {
   "cell_type": "code",
   "execution_count": 6,
   "metadata": {},
   "outputs": [
    {
     "data": {
      "text/plain": [
       "2.0181"
      ]
     },
     "execution_count": 6,
     "metadata": {},
     "output_type": "execute_result"
    },
    {
     "data": {
      "image/png": "[encoded data removed]",
      "text/plain": [
       "<Figure size 432x288 with 1 Axes>"
      ]
     },
     "metadata": {
      "needs_background": "light"
     },
     "output_type": "display_data"
    }
   ],
   "source": [
    "def flips_until_H(flips):\n",
    "    for index, flip in enumerate(flips):\n",
    "        if flip == 1:\n",
    "            return index + 1 # +1 for zero-indexing\n",
    "\n",
    "W_H = RV(P, flips_until_H)\n",
    "w = W_H.sim(10000)\n",
    "w.plot()\n",
    "w.mean()"
   ]
  },
  {
   "cell_type": "code",
   "execution_count": 7,
   "metadata": {},
   "outputs": [],
   "source": [
    "def flips_until_HT(flips):\n",
    "    for i in list(range(1, 100)):\n",
    "        if ( (flips[i] == 0) & (flips[i - 1] == 1) ):\n",
    "                return i + 1 # +1 for zero-indexing"
   ]
  },
  {
   "cell_type": "code",
   "execution_count": 8,
   "metadata": {},
   "outputs": [
    {
     "data": {
      "text/plain": [
       "3.9945"
      ]
     },
     "execution_count": 8,
     "metadata": {},
     "output_type": "execute_result"
    },
    {
     "data": {
      "image/png": "[encoded data removed]",
      "text/plain": [
       "<Figure size 432x288 with 1 Axes>"
      ]
     },
     "metadata": {
      "needs_background": "light"
     },
     "output_type": "display_data"
    }
   ],
   "source": [
    "W_HT = RV(P, flips_until_HT)\n",
    "w = W_HT.sim(10000)\n",
    "w.plot()\n",
    "w.mean()"
   ]
  },
  {
   "cell_type": "code",
   "execution_count": 9,
   "metadata": {},
   "outputs": [],
   "source": [
    "def flips_until_HH(flips):\n",
    "    for i in list(range(1, 100)):\n",
    "        if ( (flips[i] == 1) & (flips[i - 1] == 1) ):\n",
    "                return i + 1 # +1 for zero-indexing"
   ]
  },
  {
   "cell_type": "code",
   "execution_count": 10,
   "metadata": {},
   "outputs": [
    {
     "data": {
      "text/plain": [
       "5.963"
      ]
     },
     "execution_count": 10,
     "metadata": {},
     "output_type": "execute_result"
    },
    {
     "data": {
      "image/png": "[encoded data removed]",
      "text/plain": [
       "<Figure size 432x288 with 1 Axes>"
      ]
     },
     "metadata": {
      "needs_background": "light"
     },
     "output_type": "display_data"
    }
   ],
   "source": [
    "W_HH = RV(P, flips_until_HH)\n",
    "w = W_HH.sim(10000)\n",
    "w.plot()\n",
    "w.mean()"
   ]
  },
  {
   "cell_type": "markdown",
   "metadata": {},
   "source": [
    "# Random rectangle"
   ]
  },
  {
   "cell_type": "code",
   "execution_count": 11,
   "metadata": {},
   "outputs": [
    {
     "data": {
      "text/plain": [
       "((0.49412157699441334, 0.24583751962404884), 0.04118927539933955)"
      ]
     },
     "execution_count": 11,
     "metadata": {},
     "output_type": "execute_result"
    },
    {
     "data": {
      "image/png": "[encoded data removed]",
      "text/plain": [
       "<Figure size 432x288 with 2 Axes>"
      ]
     },
     "metadata": {
      "needs_background": "light"
     },
     "output_type": "display_data"
    }
   ],
   "source": [
    "P = Uniform(0, 1) ** 2\n",
    "X, U = RV(P)\n",
    "Y = U * X\n",
    "xy = (X & Y).sim(10000)\n",
    "xy.plot('density')\n",
    "xy.mean(), xy.cov()"
   ]
  },
  {
   "cell_type": "code",
   "execution_count": 12,
   "metadata": {},
   "outputs": [
    {
     "data": {
      "text/plain": [
       "0.16266289828037"
      ]
     },
     "execution_count": 12,
     "metadata": {},
     "output_type": "execute_result"
    }
   ],
   "source": [
    "(xy[0] * xy[1]).mean()"
   ]
  },
  {
   "cell_type": "code",
   "execution_count": 13,
   "metadata": {},
   "outputs": [
    {
     "data": {
      "text/plain": [
       "0.1011485060662385"
      ]
     },
     "execution_count": 13,
     "metadata": {},
     "output_type": "execute_result"
    },
    {
     "data": {
      "image/png": "[encoded data removed]",
      "text/plain": [
       "<Figure size 432x288 with 1 Axes>"
      ]
     },
     "metadata": {
      "needs_background": "light"
     },
     "output_type": "display_data"
    }
   ],
   "source": [
    "y = (Y | (abs(X - 0.2) < 0.01) ).sim(1000)\n",
    "y.plot(bins=10)\n",
    "Uniform(0, 0.2).plot()\n",
    "y.mean()"
   ]
  },
  {
   "cell_type": "code",
   "execution_count": 14,
   "metadata": {},
   "outputs": [
    {
     "data": {
      "text/plain": [
       "0.020389936008510915"
      ]
     },
     "execution_count": 14,
     "metadata": {},
     "output_type": "execute_result"
    },
    {
     "data": {
      "image/png": "[encoded data removed]",
      "text/plain": [
       "<Figure size 432x288 with 1 Axes>"
      ]
     },
     "metadata": {
      "needs_background": "light"
     },
     "output_type": "display_data"
    }
   ],
   "source": [
    "z = (X * Y | (abs(X - 0.2) < 0.01) ).sim(1000)\n",
    "z.plot(bins=10)\n",
    "Uniform(0, 0.2 * 0.2).plot()\n",
    "z.mean()"
   ]
  },
  {
   "cell_type": "code",
   "execution_count": null,
   "metadata": {},
   "outputs": [],
   "source": []
  }
 ],
 "metadata": {
  "kernelspec": {
   "display_name": "Python 3",
   "language": "python",
   "name": "python3"
  },
  "language_info": {
   "codemirror_mode": {
    "name": "ipython",
    "version": 3
   },
   "file_extension": ".py",
   "mimetype": "text/x-python",
   "name": "python",
   "nbconvert_exporter": "python",
   "pygments_lexer": "ipython3",
   "version": "3.7.3"
  }
 },
 "nbformat": 4,
 "nbformat_minor": 2
}
