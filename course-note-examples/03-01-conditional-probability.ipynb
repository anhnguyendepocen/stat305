{
 "cells": [
  {
   "cell_type": "code",
   "execution_count": 1,
   "metadata": {},
   "outputs": [],
   "source": [
    "from symbulate import *\n",
    "%matplotlib inline"
   ]
  },
  {
   "cell_type": "markdown",
   "metadata": {},
   "source": [
    "# Impeachment and Party (Democrat or not)"
   ]
  },
  {
   "cell_type": "code",
   "execution_count": 2,
   "metadata": {},
   "outputs": [
    {
     "data": {
      "text/html": [
       "\n",
       "<table>\n",
       "  <thead>\n",
       "    <th width=\"80%\">Outcome</th>\n",
       "    <th width=\"20%\">Value</th>\n",
       "  </thead>\n",
       "  <tbody>\n",
       "    <tr><td>('Not Support', 'Democrat')</td><td>555</td></tr><tr><td>('Not Support', 'Not Democrat')</td><td>4568</td></tr><tr><td>('Support', 'Democrat')</td><td>2607</td></tr><tr><td>('Support', 'Not Democrat')</td><td>2270</td></tr><tr><td><b>Total</b></td><td><b>10000</b></td></tr>\n",
       "  </tbody>\n",
       "</table>\n"
      ],
      "text/plain": [
       "{('Not Support', 'Democrat'): 555,\n",
       " ('Not Support', 'Not Democrat'): 4568,\n",
       " ('Support', 'Democrat'): 2607,\n",
       " ('Support', 'Not Democrat'): 2270}"
      ]
     },
     "execution_count": 2,
     "metadata": {},
     "output_type": "execute_result"
    }
   ],
   "source": [
    "P = BoxModel([('Support', 'Democrat'), ('Support', 'Not Democrat'), ('Not Support', 'Democrat'), ('Not Support', 'Not Democrat')],\n",
    "             probs = [0.26, 0.23, 0.05, 0.46])\n",
    "ab = P.sim(10000)\n",
    "ab.tabulate()"
   ]
  },
  {
   "cell_type": "code",
   "execution_count": 3,
   "metadata": {},
   "outputs": [
    {
     "data": {
      "text/html": [
       "\n",
       "<table>\n",
       "  <thead>\n",
       "    <th width=\"80%\">Outcome</th>\n",
       "    <th width=\"20%\">Value</th>\n",
       "  </thead>\n",
       "  <tbody>\n",
       "    <tr><td>('Not Support', 'Democrat')</td><td>555</td></tr><tr><td>('Support', 'Democrat')</td><td>2607</td></tr><tr><td><b>Total</b></td><td><b>3162</b></td></tr>\n",
       "  </tbody>\n",
       "</table>\n"
      ],
      "text/plain": [
       "{('Not Support', 'Democrat'): 555, ('Support', 'Democrat'): 2607}"
      ]
     },
     "execution_count": 3,
     "metadata": {},
     "output_type": "execute_result"
    }
   ],
   "source": [
    "def is_Democrat(Support_Party):\n",
    "    return Support_Party[1] == 'Democrat'\n",
    "\n",
    "ab.filter(is_Democrat).tabulate()"
   ]
  },
  {
   "cell_type": "markdown",
   "metadata": {},
   "source": [
    "## With Indicator RVs - enables plotting"
   ]
  },
  {
   "cell_type": "code",
   "execution_count": 4,
   "metadata": {},
   "outputs": [
    {
     "data": {
      "text/html": [
       "\n",
       "<table>\n",
       "  <thead>\n",
       "    <th width=\"80%\">Outcome</th>\n",
       "    <th width=\"20%\">Value</th>\n",
       "  </thead>\n",
       "  <tbody>\n",
       "    <tr><td>(0, 0)</td><td>4611</td></tr><tr><td>(0, 1)</td><td>471</td></tr><tr><td>(1, 0)</td><td>2287</td></tr><tr><td>(1, 1)</td><td>2631</td></tr><tr><td><b>Total</b></td><td><b>10000</b></td></tr>\n",
       "  </tbody>\n",
       "</table>\n"
      ],
      "text/plain": [
       "{(0, 0): 4611, (0, 1): 471, (1, 0): 2287, (1, 1): 2631}"
      ]
     },
     "execution_count": 4,
     "metadata": {},
     "output_type": "execute_result"
    },
    {
     "data": {
      "image/png": "[encoded data removed]",
      "text/plain": [
       "<Figure size 432x288 with 2 Axes>"
      ]
     },
     "metadata": {
      "needs_background": "light"
     },
     "output_type": "display_data"
    }
   ],
   "source": [
    "P = BoxModel([(1, 1), (1, 0), (0, 1), (0, 0)],\n",
    "             probs = [0.26, 0.23, 0.05, 0.46])\n",
    "IA, IB = RV(P)\n",
    "\n",
    "iaib = (IA & IB).sim(10000)\n",
    "iaib.plot('tile')\n",
    "iaib.tabulate()"
   ]
  },
  {
   "cell_type": "code",
   "execution_count": 5,
   "metadata": {},
   "outputs": [
    {
     "data": {
      "text/html": [
       "\n",
       "<table>\n",
       "  <thead>\n",
       "    <th width=\"80%\">Outcome</th>\n",
       "    <th width=\"20%\">Value</th>\n",
       "  </thead>\n",
       "  <tbody>\n",
       "    <tr><td>(Not Support, Democrat)</td><td>1570</td></tr><tr><td>(Support, Democrat)</td><td>8430</td></tr><tr><td><b>Total</b></td><td><b>10000</b></td></tr>\n",
       "  </tbody>\n",
       "</table>\n"
      ],
      "text/plain": [
       "{(Not Support, Democrat): 1570, (Support, Democrat): 8430}"
      ]
     },
     "execution_count": 5,
     "metadata": {},
     "output_type": "execute_result"
    }
   ],
   "source": [
    "P = BoxModel([('Support', 'Democrat'), ('Support', 'Not Democrat'), ('Not Support', 'Democrat'), ('Not Support', 'Not Democrat')],\n",
    "             probs = [0.26, 0.23, 0.05, 0.46])\n",
    "Support, Party = RV(P)\n",
    "\n",
    "( (Support & Party) | (Party == 'Democrat') ).sim(10000).tabulate()"
   ]
  },
  {
   "cell_type": "markdown",
   "metadata": {},
   "source": [
    "# Impeachment and Party"
   ]
  },
  {
   "cell_type": "code",
   "execution_count": 6,
   "metadata": {},
   "outputs": [
    {
     "data": {
      "text/html": [
       "\n",
       "<table>\n",
       "  <thead>\n",
       "    <th width=\"80%\">Outcome</th>\n",
       "    <th width=\"20%\">Value</th>\n",
       "  </thead>\n",
       "  <tbody>\n",
       "    <tr><td>('D', 'Imp')</td><td>2581</td></tr><tr><td>('D', 'NotImp')</td><td>538</td></tr><tr><td>('I', 'Imp')</td><td>1751</td></tr><tr><td>('I', 'NotImp')</td><td>2179</td></tr><tr><td>('R', 'Imp')</td><td>438</td></tr><tr><td>('R', 'NotImp')</td><td>2513</td></tr><tr><td><b>Total</b></td><td><b>10000</b></td></tr>\n",
       "  </tbody>\n",
       "</table>\n"
      ],
      "text/plain": [
       "{('D', 'Imp'): 2581,\n",
       " ('D', 'NotImp'): 538,\n",
       " ('I', 'Imp'): 1751,\n",
       " ('I', 'NotImp'): 2179,\n",
       " ('R', 'Imp'): 438,\n",
       " ('R', 'NotImp'): 2513}"
      ]
     },
     "execution_count": 6,
     "metadata": {},
     "output_type": "execute_result"
    }
   ],
   "source": [
    "def party_impeachment_sim():\n",
    "    party = BoxModel(['D', 'I', 'R'], probs = [0.31, 0.40, 0.29]).draw()\n",
    "    if party == 'D':\n",
    "        support = BoxModel(['Imp', 'NotImp'], probs = [0.83, 0.17]).draw()\n",
    "    if party == 'I':\n",
    "        support = BoxModel(['Imp', 'NotImp'], probs = [0.44, 0.56]).draw()\n",
    "    if party == 'R':\n",
    "        support = BoxModel(['Imp', 'NotImp'], probs = [0.14, 0.86]).draw()\n",
    "    return party, support\n",
    "    \n",
    "P = ProbabilitySpace(party_impeachment_sim)\n",
    "P.sim(10000).tabulate()"
   ]
  },
  {
   "cell_type": "markdown",
   "metadata": {},
   "source": [
    "# Birthday problem"
   ]
  },
  {
   "cell_type": "code",
   "execution_count": 7,
   "metadata": {},
   "outputs": [
    {
     "data": {
      "image/png": "[encoded data removed]",
      "text/plain": [
       "<Figure size 432x288 with 1 Axes>"
      ]
     },
     "metadata": {
      "needs_background": "light"
     },
     "output_type": "display_data"
    }
   ],
   "source": [
    "def count_distinct_values(list):\n",
    "    return len(set(list))\n",
    "    \n",
    "n = 30\n",
    "P = BoxModel(list(range(365)), size = n, replace = True)\n",
    "X = RV(P, count_distinct_values)\n",
    "\n",
    "x = X.sim(10000)\n",
    "x.plot()"
   ]
  },
  {
   "cell_type": "code",
   "execution_count": 8,
   "metadata": {},
   "outputs": [
    {
     "data": {
      "text/plain": [
       "0.7045"
      ]
     },
     "execution_count": 8,
     "metadata": {},
     "output_type": "execute_result"
    }
   ],
   "source": [
    "x.count_lt(n) / x.count()"
   ]
  },
  {
   "cell_type": "markdown",
   "metadata": {},
   "source": [
    "# Lookaway challenge"
   ]
  },
  {
   "cell_type": "code",
   "execution_count": 9,
   "metadata": {},
   "outputs": [
    {
     "data": {
      "text/plain": [
       "0.5691"
      ]
     },
     "execution_count": 9,
     "metadata": {},
     "output_type": "execute_result"
    },
    {
     "data": {
      "image/png": "[encoded data removed]",
      "text/plain": [
       "<Figure size 432x288 with 1 Axes>"
      ]
     },
     "metadata": {
      "needs_background": "light"
     },
     "output_type": "display_data"
    }
   ],
   "source": [
    "def is_odd(x):\n",
    "    return (x % 2) == 1\n",
    "\n",
    "def count_rounds(sequence):\n",
    "    for r, pair in enumerate(sequence):\n",
    "        if pair[0] == pair[1]:\n",
    "            return r + 1 # +1 for 0 indexing\n",
    "\n",
    "P = BoxModel([1, 2, 3, 4], size = 2) ** inf\n",
    "X = RV(P, count_rounds)\n",
    "x = X.sim(10000)\n",
    "x.plot()\n",
    "\n",
    "x.count(is_odd) / 10000"
   ]
  },
  {
   "cell_type": "markdown",
   "metadata": {},
   "source": [
    "# Down Syndrome Test"
   ]
  },
  {
   "cell_type": "code",
   "execution_count": 10,
   "metadata": {},
   "outputs": [
    {
     "data": {
      "text/html": [
       "\n",
       "<table>\n",
       "  <thead>\n",
       "    <th width=\"80%\">Outcome</th>\n",
       "    <th width=\"20%\">Value</th>\n",
       "  </thead>\n",
       "  <tbody>\n",
       "    <tr><td>('DS', 'Not Positive')</td><td>1</td></tr><tr><td>('DS', 'Positive')</td><td>38</td></tr><tr><td>('Not DS', 'Not Positive')</td><td>9490</td></tr><tr><td>('Not DS', 'Positive')</td><td>471</td></tr><tr><td><b>Total</b></td><td><b>10000</b></td></tr>\n",
       "  </tbody>\n",
       "</table>\n"
      ],
      "text/plain": [
       "{('DS', 'Not Positive'): 1,\n",
       " ('DS', 'Positive'): 38,\n",
       " ('Not DS', 'Not Positive'): 9490,\n",
       " ('Not DS', 'Positive'): 471}"
      ]
     },
     "execution_count": 10,
     "metadata": {},
     "output_type": "execute_result"
    }
   ],
   "source": [
    "def DS_test_sim():\n",
    "    DS = BoxModel(['DS', 'Not DS'], probs = [1/250, 249/250]).draw()\n",
    "    if DS == 'DS':\n",
    "        test = BoxModel(['Positive', 'Not Positive'], probs = [0.9, 0.1]).draw()\n",
    "    else:\n",
    "        test = BoxModel(['Positive', 'Not Positive'], probs = [0.05, 0.95]).draw()\n",
    "    return DS, test\n",
    "    \n",
    "P = ProbabilitySpace(DS_test_sim)\n",
    "outcomes = P.sim(10000)\n",
    "outcomes.tabulate()"
   ]
  },
  {
   "cell_type": "code",
   "execution_count": 11,
   "metadata": {},
   "outputs": [
    {
     "data": {
      "text/html": [
       "\n",
       "<table>\n",
       "  <thead>\n",
       "    <th width=\"80%\">Outcome</th>\n",
       "    <th width=\"20%\">Value</th>\n",
       "  </thead>\n",
       "  <tbody>\n",
       "    <tr><td>DS</td><td>716</td></tr><tr><td>Not DS</td><td>9284</td></tr><tr><td><b>Total</b></td><td><b>10000</b></td></tr>\n",
       "  </tbody>\n",
       "</table>\n"
      ],
      "text/plain": [
       "{'DS': 716, 'Not DS': 9284}"
      ]
     },
     "execution_count": 11,
     "metadata": {},
     "output_type": "execute_result"
    }
   ],
   "source": [
    "DS, Test = RV(P)\n",
    "(DS | (Test == 'Positive') ).sim(10000).tabulate()"
   ]
  },
  {
   "cell_type": "markdown",
   "metadata": {},
   "source": [
    "# Harry"
   ]
  },
  {
   "cell_type": "code",
   "execution_count": 12,
   "metadata": {},
   "outputs": [],
   "source": [
    "P = BoxModel([1, 2, 3, 4, 5], size = 2, replace = False)\n",
    "First, Second = RV(P)"
   ]
  },
  {
   "cell_type": "code",
   "execution_count": 13,
   "metadata": {},
   "outputs": [
    {
     "data": {
      "text/html": [
       "\n",
       "<table>\n",
       "  <thead>\n",
       "    <th width=\"80%\">Outcome</th>\n",
       "    <th width=\"20%\">Value</th>\n",
       "  </thead>\n",
       "  <tbody>\n",
       "    <tr><td>1</td><td>2075</td></tr><tr><td>2</td><td>2038</td></tr><tr><td>3</td><td>1946</td></tr><tr><td>4</td><td>1985</td></tr><tr><td>5</td><td>1956</td></tr><tr><td><b>Total</b></td><td><b>10000</b></td></tr>\n",
       "  </tbody>\n",
       "</table>\n"
      ],
      "text/plain": [
       "{1: 2075, 2: 2038, 3: 1946, 4: 1985, 5: 1956}"
      ]
     },
     "execution_count": 13,
     "metadata": {},
     "output_type": "execute_result"
    }
   ],
   "source": [
    "First.sim(10000).tabulate()"
   ]
  },
  {
   "cell_type": "code",
   "execution_count": 14,
   "metadata": {},
   "outputs": [
    {
     "data": {
      "text/html": [
       "\n",
       "<table>\n",
       "  <thead>\n",
       "    <th width=\"80%\">Outcome</th>\n",
       "    <th width=\"20%\">Value</th>\n",
       "  </thead>\n",
       "  <tbody>\n",
       "    <tr><td>1</td><td>1999</td></tr><tr><td>2</td><td>2017</td></tr><tr><td>3</td><td>1978</td></tr><tr><td>4</td><td>1920</td></tr><tr><td>5</td><td>2086</td></tr><tr><td><b>Total</b></td><td><b>10000</b></td></tr>\n",
       "  </tbody>\n",
       "</table>\n"
      ],
      "text/plain": [
       "{1: 1999, 2: 2017, 3: 1978, 4: 1920, 5: 2086}"
      ]
     },
     "execution_count": 14,
     "metadata": {},
     "output_type": "execute_result"
    }
   ],
   "source": [
    "Second.sim(10000).tabulate()"
   ]
  },
  {
   "cell_type": "code",
   "execution_count": 15,
   "metadata": {},
   "outputs": [
    {
     "data": {
      "text/html": [
       "\n",
       "<table>\n",
       "  <thead>\n",
       "    <th width=\"80%\">Outcome</th>\n",
       "    <th width=\"20%\">Value</th>\n",
       "  </thead>\n",
       "  <tbody>\n",
       "    <tr><td>1</td><td>2522</td></tr><tr><td>3</td><td>2502</td></tr><tr><td>4</td><td>2485</td></tr><tr><td>5</td><td>2491</td></tr><tr><td><b>Total</b></td><td><b>10000</b></td></tr>\n",
       "  </tbody>\n",
       "</table>\n"
      ],
      "text/plain": [
       "{1: 2522, 3: 2502, 4: 2485, 5: 2491}"
      ]
     },
     "execution_count": 15,
     "metadata": {},
     "output_type": "execute_result"
    }
   ],
   "source": [
    "(Second | (First == 2) ).sim(10000).tabulate()"
   ]
  },
  {
   "cell_type": "code",
   "execution_count": 16,
   "metadata": {},
   "outputs": [
    {
     "data": {
      "text/html": [
       "\n",
       "<table>\n",
       "  <thead>\n",
       "    <th width=\"80%\">Outcome</th>\n",
       "    <th width=\"20%\">Value</th>\n",
       "  </thead>\n",
       "  <tbody>\n",
       "    <tr><td>2</td><td>2562</td></tr><tr><td>3</td><td>2430</td></tr><tr><td>4</td><td>2574</td></tr><tr><td>5</td><td>2434</td></tr><tr><td><b>Total</b></td><td><b>10000</b></td></tr>\n",
       "  </tbody>\n",
       "</table>\n"
      ],
      "text/plain": [
       "{2: 2562, 3: 2430, 4: 2574, 5: 2434}"
      ]
     },
     "execution_count": 16,
     "metadata": {},
     "output_type": "execute_result"
    }
   ],
   "source": [
    "(First | (Second == 1) ).sim(10000).tabulate()"
   ]
  },
  {
   "cell_type": "code",
   "execution_count": null,
   "metadata": {},
   "outputs": [],
   "source": []
  }
 ],
 "metadata": {
  "kernelspec": {
   "display_name": "Python 3",
   "language": "python",
   "name": "python3"
  },
  "language_info": {
   "codemirror_mode": {
    "name": "ipython",
    "version": 3
   },
   "file_extension": ".py",
   "mimetype": "text/x-python",
   "name": "python",
   "nbconvert_exporter": "python",
   "pygments_lexer": "ipython3",
   "version": "3.7.3"
  }
 },
 "nbformat": 4,
 "nbformat_minor": 2
}
