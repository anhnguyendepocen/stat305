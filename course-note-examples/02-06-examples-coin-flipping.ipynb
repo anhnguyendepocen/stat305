{
 "cells": [
  {
   "cell_type": "code",
   "execution_count": 1,
   "metadata": {},
   "outputs": [],
   "source": [
    "from symbulate import *\n",
    "%matplotlib inline\n",
    "from matplotlib import pyplot as plt"
   ]
  },
  {
   "cell_type": "markdown",
   "metadata": {},
   "source": [
    "# Coin flipping problem"
   ]
  },
  {
   "cell_type": "markdown",
   "metadata": {},
   "source": [
    "Here's a seemingly simple problem.  Flip a fair coin four times and record the results in order. For the recorded sequence, compute the proportion of the flips which immediately follow a H that result in H.  What value do you expect for this proportion? (If there are no trials which follow a H, i.e. the outcome is either TTTT or TTTH, discard the sequence and try again with four more flips.)\n",
    "\n",
    "\n",
    "For example, the sequence HHTT means the the first and second flips are heads and the third and fourth flips are tails.  For this sequence there are two flips which immediately followed heads, the second and the third, of which one (the second) was heads.  So the proportion in question for this sequence is 1/2. "
   ]
  },
  {
   "cell_type": "markdown",
   "metadata": {},
   "source": [
    "To code the simulation, it helps to treat H as 1 and T as 0.  That way you can count H just by adding the values in the sequence.  For example, HHTT would be `(1, 1, 0, 0)` and the number of H would be 1+1+0+0=2.\n",
    "\n",
    "We first define functions that count (1) the number of flips that follow H, and (2) the number of H among the flips that follow H."
   ]
  },
  {
   "cell_type": "code",
   "execution_count": 2,
   "metadata": {},
   "outputs": [],
   "source": [
    "# A \"flip_sequence\" is a list of 0s and 1s with 1 representing H and 0 T\n",
    "\n",
    "# Define a function to count the flips that follow H\n",
    "def count_flips_following_H(flips):\n",
    "    return sum(flips[0:(len(flips) - 1)])\n",
    "\n",
    "# Define a function that counts the H among \n",
    "def count_H_following_H(flips):\n",
    "    return sum(a * b for a, b in zip(flips[1:len(flips)], flips[0:(len(flips) - 1)]))"
   ]
  },
  {
   "cell_type": "code",
   "execution_count": 3,
   "metadata": {},
   "outputs": [
    {
     "data": {
      "text/plain": [
       "2"
      ]
     },
     "execution_count": 3,
     "metadata": {},
     "output_type": "execute_result"
    }
   ],
   "source": [
    "# An example\n",
    "\n",
    "flips = (1, 1, 0, 0)\n",
    "\n",
    "count_flips_following_H(flips)"
   ]
  },
  {
   "cell_type": "code",
   "execution_count": 4,
   "metadata": {},
   "outputs": [
    {
     "data": {
      "text/plain": [
       "1"
      ]
     },
     "execution_count": 4,
     "metadata": {},
     "output_type": "execute_result"
    }
   ],
   "source": [
    "count_H_following_H(flips)"
   ]
  },
  {
   "cell_type": "markdown",
   "metadata": {},
   "source": [
    "Now we define the simulation.  The *probability space* corresponds to four flips of a four coin.  We'll define the proportion of H in flips that follow H as a *random variable* $X$, where\n",
    "\n",
    "$$\n",
    "X = \\frac{Y}{Z} = \\frac{\\text{number of flips that follow H that are H}}{\\text{number of flips that follow H}}\n",
    "$$"
   ]
  },
  {
   "cell_type": "code",
   "execution_count": 5,
   "metadata": {},
   "outputs": [],
   "source": [
    "P = BoxModel([0, 1], size = 4)\n",
    "Z = RV(P, count_flips_following_H)\n",
    "Y = RV(P, count_H_following_H)\n",
    "X = Y / Z"
   ]
  },
  {
   "cell_type": "markdown",
   "metadata": {},
   "source": [
    "For the outcome $\\omega = HHTT$, $X(\\omega) = 1/2$"
   ]
  },
  {
   "cell_type": "code",
   "execution_count": 6,
   "metadata": {},
   "outputs": [
    {
     "name": "stdout",
     "output_type": "stream",
     "text": [
      "Warning: Calling an RV as a function simply applies the function that defines the RV to the input, regardless of whether that input is a possible outcome in the underlying probability space.\n"
     ]
    },
    {
     "data": {
      "text/plain": [
       "0.5"
      ]
     },
     "execution_count": 6,
     "metadata": {},
     "output_type": "execute_result"
    }
   ],
   "source": [
    "outcome = (1, 1, 0, 0)\n",
    "X(outcome)"
   ]
  },
  {
   "cell_type": "markdown",
   "metadata": {},
   "source": [
    "Now we run the simulation to simulate many values of $X$.  Note that we can only compute $X$ when $Z>0$."
   ]
  },
  {
   "cell_type": "code",
   "execution_count": 7,
   "metadata": {},
   "outputs": [
    {
     "data": {
      "text/html": [
       "\n",
       "    <table>\n",
       "      <thead>\n",
       "        <th width=\"10%\">Index</th>\n",
       "        <th width=\"90%\">Result</th>\n",
       "      </thead>\n",
       "      <tbody>\n",
       "        \n",
       "        <tr>\n",
       "          <td>0</td><td>0.5</td>\n",
       "        </tr>\n",
       "        \n",
       "        <tr>\n",
       "          <td>1</td><td>0.5</td>\n",
       "        </tr>\n",
       "        \n",
       "        <tr>\n",
       "          <td>2</td><td>0.5</td>\n",
       "        </tr>\n",
       "        \n",
       "        <tr>\n",
       "          <td>3</td><td>0.0</td>\n",
       "        </tr>\n",
       "        \n",
       "        <tr>\n",
       "          <td>4</td><td>1.0</td>\n",
       "        </tr>\n",
       "        \n",
       "        <tr>\n",
       "          <td>5</td><td>0.6666666666666666</td>\n",
       "        </tr>\n",
       "        \n",
       "        <tr>\n",
       "          <td>6</td><td>0.5</td>\n",
       "        </tr>\n",
       "        \n",
       "        <tr>\n",
       "          <td>7</td><td>1.0</td>\n",
       "        </tr>\n",
       "        \n",
       "        <tr>\n",
       "          <td>8</td><td>0.0</td>\n",
       "        </tr>\n",
       "        <tr><td>...</td><td>...</td></tr>\n",
       "        <tr>\n",
       "          <td>13999</td><td>0.5</td>\n",
       "        </tr>\n",
       "        \n",
       "      </tbody>\n",
       "    </table>\n",
       "        "
      ],
      "text/plain": [
       "<symbulate.results.RVResults at 0x204c15a9ac8>"
      ]
     },
     "execution_count": 7,
     "metadata": {},
     "output_type": "execute_result"
    }
   ],
   "source": [
    "x = (X | (Z > 0) ).sim(14000)\n",
    "x"
   ]
  },
  {
   "cell_type": "code",
   "execution_count": 8,
   "metadata": {},
   "outputs": [
    {
     "data": {
      "text/html": [
       "\n",
       "<table>\n",
       "  <thead>\n",
       "    <th width=\"80%\">Outcome</th>\n",
       "    <th width=\"20%\">Value</th>\n",
       "  </thead>\n",
       "  <tbody>\n",
       "    <tr><td>0.0</td><td>5978</td></tr><tr><td>0.5</td><td>4010</td></tr><tr><td>0.6666666666666666</td><td>1034</td></tr><tr><td>1.0</td><td>2978</td></tr><tr><td><b>Total</b></td><td><b>14000</b></td></tr>\n",
       "  </tbody>\n",
       "</table>\n"
      ],
      "text/plain": [
       "{0.0: 5978, 0.5: 4010, 0.6666666666666666: 1034, 1.0: 2978}"
      ]
     },
     "execution_count": 8,
     "metadata": {},
     "output_type": "execute_result"
    }
   ],
   "source": [
    "x.tabulate()"
   ]
  },
  {
   "cell_type": "code",
   "execution_count": 9,
   "metadata": {},
   "outputs": [
    {
     "data": {
      "text/html": [
       "\n",
       "<table>\n",
       "  <thead>\n",
       "    <th width=\"80%\">Outcome</th>\n",
       "    <th width=\"20%\">Value</th>\n",
       "  </thead>\n",
       "  <tbody>\n",
       "    <tr><td>0.0</td><td>0.427</td></tr><tr><td>0.5</td><td>0.2864285714285714</td></tr><tr><td>0.6666666666666666</td><td>0.07385714285714286</td></tr><tr><td>1.0</td><td>0.21271428571428572</td></tr><tr><td><b>Total</b></td><td><b>1.0</b></td></tr>\n",
       "  </tbody>\n",
       "</table>\n"
      ],
      "text/plain": [
       "{0.0: 0.427,\n",
       " 0.5: 0.2864285714285714,\n",
       " 0.6666666666666666: 0.07385714285714286,\n",
       " 1.0: 0.21271428571428572}"
      ]
     },
     "execution_count": 9,
     "metadata": {},
     "output_type": "execute_result"
    }
   ],
   "source": [
    "x.tabulate(normalize=True)"
   ]
  },
  {
   "cell_type": "code",
   "execution_count": 10,
   "metadata": {},
   "outputs": [
    {
     "data": {
      "image/png": "[encoded data removed]",
      "text/plain": [
       "<Figure size 432x288 with 1 Axes>"
      ]
     },
     "metadata": {
      "needs_background": "light"
     },
     "output_type": "display_data"
    }
   ],
   "source": [
    "x.plot()\n",
    "plt.xlabel('Proportion of H following H');"
   ]
  },
  {
   "cell_type": "code",
   "execution_count": 11,
   "metadata": {},
   "outputs": [
    {
     "data": {
      "text/plain": [
       "0.40516666666666673"
      ]
     },
     "execution_count": 11,
     "metadata": {},
     "output_type": "execute_result"
    }
   ],
   "source": [
    "x.mean()"
   ]
  }
 ],
 "metadata": {
  "kernelspec": {
   "display_name": "Python 3",
   "language": "python",
   "name": "python3"
  },
  "language_info": {
   "codemirror_mode": {
    "name": "ipython",
    "version": 3
   },
   "file_extension": ".py",
   "mimetype": "text/x-python",
   "name": "python",
   "nbconvert_exporter": "python",
   "pygments_lexer": "ipython3",
   "version": "3.7.3"
  }
 },
 "nbformat": 4,
 "nbformat_minor": 2
}
