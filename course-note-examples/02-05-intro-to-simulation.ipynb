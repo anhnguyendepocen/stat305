{
 "cells": [
  {
   "cell_type": "code",
   "execution_count": 1,
   "metadata": {},
   "outputs": [],
   "source": [
    "from symbulate import *\n",
    "%matplotlib inline\n",
    "from matplotlib import pyplot as plt"
   ]
  },
  {
   "cell_type": "markdown",
   "metadata": {},
   "source": [
    "# Dice rolling example (sum and max of two rolls of a fair four-sided die)"
   ]
  },
  {
   "cell_type": "code",
   "execution_count": 2,
   "metadata": {},
   "outputs": [],
   "source": [
    "P = BoxModel([1, 2, 3, 4], size = 2, replace = True)"
   ]
  },
  {
   "cell_type": "code",
   "execution_count": 3,
   "metadata": {},
   "outputs": [
    {
     "data": {
      "text/html": [
       "\n",
       "    <table>\n",
       "      <thead>\n",
       "        <th width=\"10%\">Index</th>\n",
       "        <th width=\"90%\">Result</th>\n",
       "      </thead>\n",
       "      <tbody>\n",
       "        \n",
       "        <tr>\n",
       "          <td>0</td><td>(2, 4)</td>\n",
       "        </tr>\n",
       "        \n",
       "        <tr>\n",
       "          <td>1</td><td>(1, 3)</td>\n",
       "        </tr>\n",
       "        \n",
       "        <tr>\n",
       "          <td>2</td><td>(4, 3)</td>\n",
       "        </tr>\n",
       "        \n",
       "        <tr>\n",
       "          <td>3</td><td>(1, 1)</td>\n",
       "        </tr>\n",
       "        \n",
       "        <tr>\n",
       "          <td>4</td><td>(4, 3)</td>\n",
       "        </tr>\n",
       "        \n",
       "      </tbody>\n",
       "    </table>\n",
       "        "
      ],
      "text/plain": [
       "<symbulate.results.Results at 0x1ef423d44a8>"
      ]
     },
     "execution_count": 3,
     "metadata": {},
     "output_type": "execute_result"
    }
   ],
   "source": [
    "P.sim(5)"
   ]
  },
  {
   "cell_type": "code",
   "execution_count": 4,
   "metadata": {},
   "outputs": [
    {
     "data": {
      "text/html": [
       "\n",
       "<table>\n",
       "  <thead>\n",
       "    <th width=\"80%\">Outcome</th>\n",
       "    <th width=\"20%\">Value</th>\n",
       "  </thead>\n",
       "  <tbody>\n",
       "    <tr><td>(1, 1)</td><td>561</td></tr><tr><td>(1, 2)</td><td>606</td></tr><tr><td>(1, 3)</td><td>640</td></tr><tr><td>(1, 4)</td><td>612</td></tr><tr><td>(2, 1)</td><td>644</td></tr><tr><td>(2, 2)</td><td>660</td></tr><tr><td>(2, 3)</td><td>635</td></tr><tr><td>(2, 4)</td><td>619</td></tr><tr><td>(3, 1)</td><td>603</td></tr><tr><td>(3, 2)</td><td>630</td></tr><tr><td>(3, 3)</td><td>598</td></tr><tr><td>(3, 4)</td><td>626</td></tr><tr><td>(4, 1)</td><td>647</td></tr><tr><td>(4, 2)</td><td>654</td></tr><tr><td>(4, 3)</td><td>653</td></tr><tr><td>(4, 4)</td><td>612</td></tr><tr><td><b>Total</b></td><td><b>10000</b></td></tr>\n",
       "  </tbody>\n",
       "</table>\n"
      ],
      "text/plain": [
       "{(1, 1): 561,\n",
       " (1, 2): 606,\n",
       " (1, 3): 640,\n",
       " (1, 4): 612,\n",
       " (2, 1): 644,\n",
       " (2, 2): 660,\n",
       " (2, 3): 635,\n",
       " (2, 4): 619,\n",
       " (3, 1): 603,\n",
       " (3, 2): 630,\n",
       " (3, 3): 598,\n",
       " (3, 4): 626,\n",
       " (4, 1): 647,\n",
       " (4, 2): 654,\n",
       " (4, 3): 653,\n",
       " (4, 4): 612}"
      ]
     },
     "execution_count": 4,
     "metadata": {},
     "output_type": "execute_result"
    }
   ],
   "source": [
    "P.sim(10000).tabulate()"
   ]
  },
  {
   "cell_type": "code",
   "execution_count": 5,
   "metadata": {},
   "outputs": [],
   "source": [
    "X = RV(P, sum)\n",
    "Y = RV(P, max)"
   ]
  },
  {
   "cell_type": "code",
   "execution_count": 6,
   "metadata": {},
   "outputs": [
    {
     "name": "stdout",
     "output_type": "stream",
     "text": [
      "Warning: Calling an RV as a function simply applies the function that defines the RV to the input, regardless of whether that input is a possible outcome in the underlying probability space.\n",
      "Warning: Calling an RV as a function simply applies the function that defines the RV to the input, regardless of whether that input is a possible outcome in the underlying probability space.\n"
     ]
    },
    {
     "data": {
      "text/plain": [
       "(5, 3)"
      ]
     },
     "execution_count": 6,
     "metadata": {},
     "output_type": "execute_result"
    }
   ],
   "source": [
    "omega = (3, 2)\n",
    "X(omega), Y(omega)"
   ]
  },
  {
   "cell_type": "code",
   "execution_count": 7,
   "metadata": {},
   "outputs": [
    {
     "data": {
      "text/html": [
       "\n",
       "    <table>\n",
       "      <thead>\n",
       "        <th width=\"10%\">Index</th>\n",
       "        <th width=\"90%\">Result</th>\n",
       "      </thead>\n",
       "      <tbody>\n",
       "        \n",
       "        <tr>\n",
       "          <td>0</td><td>3</td>\n",
       "        </tr>\n",
       "        \n",
       "        <tr>\n",
       "          <td>1</td><td>2</td>\n",
       "        </tr>\n",
       "        \n",
       "        <tr>\n",
       "          <td>2</td><td>4</td>\n",
       "        </tr>\n",
       "        \n",
       "        <tr>\n",
       "          <td>3</td><td>2</td>\n",
       "        </tr>\n",
       "        \n",
       "        <tr>\n",
       "          <td>4</td><td>4</td>\n",
       "        </tr>\n",
       "        \n",
       "        <tr>\n",
       "          <td>5</td><td>3</td>\n",
       "        </tr>\n",
       "        \n",
       "        <tr>\n",
       "          <td>6</td><td>3</td>\n",
       "        </tr>\n",
       "        \n",
       "        <tr>\n",
       "          <td>7</td><td>3</td>\n",
       "        </tr>\n",
       "        \n",
       "        <tr>\n",
       "          <td>8</td><td>4</td>\n",
       "        </tr>\n",
       "        <tr><td>...</td><td>...</td></tr>\n",
       "        <tr>\n",
       "          <td>99</td><td>4</td>\n",
       "        </tr>\n",
       "        \n",
       "      </tbody>\n",
       "    </table>\n",
       "        "
      ],
      "text/plain": [
       "<symbulate.results.RVResults at 0x1ef423e8710>"
      ]
     },
     "execution_count": 7,
     "metadata": {},
     "output_type": "execute_result"
    }
   ],
   "source": [
    "y = Y.sim(100)\n",
    "y"
   ]
  },
  {
   "cell_type": "code",
   "execution_count": 8,
   "metadata": {},
   "outputs": [
    {
     "data": {
      "text/html": [
       "\n",
       "<table>\n",
       "  <thead>\n",
       "    <th width=\"80%\">Outcome</th>\n",
       "    <th width=\"20%\">Value</th>\n",
       "  </thead>\n",
       "  <tbody>\n",
       "    <tr><td>1</td><td>4</td></tr><tr><td>2</td><td>17</td></tr><tr><td>3</td><td>33</td></tr><tr><td>4</td><td>46</td></tr><tr><td><b>Total</b></td><td><b>100</b></td></tr>\n",
       "  </tbody>\n",
       "</table>\n"
      ],
      "text/plain": [
       "{1: 4, 2: 17, 3: 33, 4: 46}"
      ]
     },
     "execution_count": 8,
     "metadata": {},
     "output_type": "execute_result"
    }
   ],
   "source": [
    "y.tabulate()"
   ]
  },
  {
   "cell_type": "code",
   "execution_count": 9,
   "metadata": {},
   "outputs": [
    {
     "data": {
      "text/html": [
       "\n",
       "<table>\n",
       "  <thead>\n",
       "    <th width=\"80%\">Outcome</th>\n",
       "    <th width=\"20%\">Value</th>\n",
       "  </thead>\n",
       "  <tbody>\n",
       "    <tr><td>1</td><td>0.04</td></tr><tr><td>2</td><td>0.17</td></tr><tr><td>3</td><td>0.33</td></tr><tr><td>4</td><td>0.46</td></tr><tr><td><b>Total</b></td><td><b>1.0</b></td></tr>\n",
       "  </tbody>\n",
       "</table>\n"
      ],
      "text/plain": [
       "{1: 0.04, 2: 0.17, 3: 0.33, 4: 0.46}"
      ]
     },
     "execution_count": 9,
     "metadata": {},
     "output_type": "execute_result"
    }
   ],
   "source": [
    "y.tabulate(normalize = True)"
   ]
  },
  {
   "cell_type": "code",
   "execution_count": 10,
   "metadata": {},
   "outputs": [
    {
     "data": {
      "image/png": "[encoded data removed]",
      "text/plain": [
       "<Figure size 432x288 with 1 Axes>"
      ]
     },
     "metadata": {
      "needs_background": "light"
     },
     "output_type": "display_data"
    }
   ],
   "source": [
    "y.plot('rug')"
   ]
  },
  {
   "cell_type": "code",
   "execution_count": 11,
   "metadata": {},
   "outputs": [
    {
     "data": {
      "image/png": "[encoded data removed]",
      "text/plain": [
       "<Figure size 432x288 with 1 Axes>"
      ]
     },
     "metadata": {
      "needs_background": "light"
     },
     "output_type": "display_data"
    }
   ],
   "source": [
    "y.plot()"
   ]
  },
  {
   "cell_type": "code",
   "execution_count": 12,
   "metadata": {},
   "outputs": [
    {
     "data": {
      "text/html": [
       "\n",
       "<table>\n",
       "  <thead>\n",
       "    <th width=\"80%\">Outcome</th>\n",
       "    <th width=\"20%\">Value</th>\n",
       "  </thead>\n",
       "  <tbody>\n",
       "    <tr><td>1</td><td>608</td></tr><tr><td>2</td><td>1906</td></tr><tr><td>3</td><td>3256</td></tr><tr><td>4</td><td>4230</td></tr><tr><td><b>Total</b></td><td><b>10000</b></td></tr>\n",
       "  </tbody>\n",
       "</table>\n"
      ],
      "text/plain": [
       "{1: 608, 2: 1906, 3: 3256, 4: 4230}"
      ]
     },
     "execution_count": 12,
     "metadata": {},
     "output_type": "execute_result"
    },
    {
     "data": {
      "image/png": "[encoded data removed]",
      "text/plain": [
       "<Figure size 432x288 with 1 Axes>"
      ]
     },
     "metadata": {
      "needs_background": "light"
     },
     "output_type": "display_data"
    }
   ],
   "source": [
    "y = Y.sim(10000)\n",
    "y.plot()\n",
    "y.tabulate()"
   ]
  },
  {
   "cell_type": "code",
   "execution_count": 13,
   "metadata": {},
   "outputs": [
    {
     "data": {
      "text/html": [
       "\n",
       "<table>\n",
       "  <thead>\n",
       "    <th width=\"80%\">Outcome</th>\n",
       "    <th width=\"20%\">Value</th>\n",
       "  </thead>\n",
       "  <tbody>\n",
       "    <tr><td>False</td><td>7559</td></tr><tr><td>True</td><td>2441</td></tr><tr><td><b>Total</b></td><td><b>10000</b></td></tr>\n",
       "  </tbody>\n",
       "</table>\n"
      ],
      "text/plain": [
       "{False: 7559, True: 2441}"
      ]
     },
     "execution_count": 13,
     "metadata": {},
     "output_type": "execute_result"
    }
   ],
   "source": [
    "A = (Y < 3) # an event\n",
    "A.sim(10000).tabulate()"
   ]
  },
  {
   "cell_type": "code",
   "execution_count": 14,
   "metadata": {},
   "outputs": [
    {
     "data": {
      "text/html": [
       "\n",
       "<table>\n",
       "  <thead>\n",
       "    <th width=\"80%\">Outcome</th>\n",
       "    <th width=\"20%\">Value</th>\n",
       "  </thead>\n",
       "  <tbody>\n",
       "    <tr><td>False</td><td>6970</td></tr><tr><td>True</td><td>3030</td></tr><tr><td><b>Total</b></td><td><b>10000</b></td></tr>\n",
       "  </tbody>\n",
       "</table>\n"
      ],
      "text/plain": [
       "{False: 6970, True: 3030}"
      ]
     },
     "execution_count": 14,
     "metadata": {},
     "output_type": "execute_result"
    }
   ],
   "source": [
    "B = (Y == 3) # an event\n",
    "B.sim(10000).tabulate()"
   ]
  },
  {
   "cell_type": "code",
   "execution_count": 15,
   "metadata": {},
   "outputs": [
    {
     "data": {
      "text/html": [
       "\n",
       "<table>\n",
       "  <thead>\n",
       "    <th width=\"80%\">Outcome</th>\n",
       "    <th width=\"20%\">Value</th>\n",
       "  </thead>\n",
       "  <tbody>\n",
       "    <tr><td>2</td><td>615</td></tr><tr><td>3</td><td>1258</td></tr><tr><td>4</td><td>1899</td></tr><tr><td>5</td><td>2449</td></tr><tr><td>6</td><td>1908</td></tr><tr><td>7</td><td>1238</td></tr><tr><td>8</td><td>633</td></tr><tr><td><b>Total</b></td><td><b>10000</b></td></tr>\n",
       "  </tbody>\n",
       "</table>\n"
      ],
      "text/plain": [
       "{2: 615, 3: 1258, 4: 1899, 5: 2449, 6: 1908, 7: 1238, 8: 633}"
      ]
     },
     "execution_count": 15,
     "metadata": {},
     "output_type": "execute_result"
    },
    {
     "data": {
      "image/png": "[encoded data removed]",
      "text/plain": [
       "<Figure size 432x288 with 1 Axes>"
      ]
     },
     "metadata": {
      "needs_background": "light"
     },
     "output_type": "display_data"
    }
   ],
   "source": [
    "x = X.sim(10000)\n",
    "x.plot()\n",
    "x.tabulate()"
   ]
  },
  {
   "cell_type": "code",
   "execution_count": 16,
   "metadata": {},
   "outputs": [
    {
     "data": {
      "text/html": [
       "\n",
       "    <table>\n",
       "      <thead>\n",
       "        <th width=\"10%\">Index</th>\n",
       "        <th width=\"90%\">Result</th>\n",
       "      </thead>\n",
       "      <tbody>\n",
       "        \n",
       "        <tr>\n",
       "          <td>0</td><td>(2, 1)</td>\n",
       "        </tr>\n",
       "        \n",
       "        <tr>\n",
       "          <td>1</td><td>(3, 2)</td>\n",
       "        </tr>\n",
       "        \n",
       "        <tr>\n",
       "          <td>2</td><td>(6, 4)</td>\n",
       "        </tr>\n",
       "        \n",
       "        <tr>\n",
       "          <td>3</td><td>(5, 4)</td>\n",
       "        </tr>\n",
       "        \n",
       "        <tr>\n",
       "          <td>4</td><td>(4, 3)</td>\n",
       "        </tr>\n",
       "        \n",
       "        <tr>\n",
       "          <td>5</td><td>(5, 3)</td>\n",
       "        </tr>\n",
       "        \n",
       "        <tr>\n",
       "          <td>6</td><td>(7, 4)</td>\n",
       "        </tr>\n",
       "        \n",
       "        <tr>\n",
       "          <td>7</td><td>(4, 3)</td>\n",
       "        </tr>\n",
       "        \n",
       "        <tr>\n",
       "          <td>8</td><td>(6, 3)</td>\n",
       "        </tr>\n",
       "        <tr><td>...</td><td>...</td></tr>\n",
       "        <tr>\n",
       "          <td>9999</td><td>(2, 1)</td>\n",
       "        </tr>\n",
       "        \n",
       "      </tbody>\n",
       "    </table>\n",
       "        "
      ],
      "text/plain": [
       "<symbulate.results.RVResults at 0x1ef42509400>"
      ]
     },
     "execution_count": 16,
     "metadata": {},
     "output_type": "execute_result"
    }
   ],
   "source": [
    "xy = (X & Y).sim(10000)\n",
    "xy"
   ]
  },
  {
   "cell_type": "code",
   "execution_count": 17,
   "metadata": {},
   "outputs": [
    {
     "data": {
      "text/html": [
       "\n",
       "<table>\n",
       "  <thead>\n",
       "    <th width=\"80%\">Outcome</th>\n",
       "    <th width=\"20%\">Value</th>\n",
       "  </thead>\n",
       "  <tbody>\n",
       "    <tr><td>(2, 1)</td><td>653</td></tr><tr><td>(3, 2)</td><td>1195</td></tr><tr><td>(4, 2)</td><td>645</td></tr><tr><td>(4, 3)</td><td>1275</td></tr><tr><td>(5, 3)</td><td>1276</td></tr><tr><td>(5, 4)</td><td>1261</td></tr><tr><td>(6, 3)</td><td>601</td></tr><tr><td>(6, 4)</td><td>1213</td></tr><tr><td>(7, 4)</td><td>1242</td></tr><tr><td>(8, 4)</td><td>639</td></tr><tr><td><b>Total</b></td><td><b>10000</b></td></tr>\n",
       "  </tbody>\n",
       "</table>\n"
      ],
      "text/plain": [
       "{(2, 1): 653,\n",
       " (3, 2): 1195,\n",
       " (4, 2): 645,\n",
       " (4, 3): 1275,\n",
       " (5, 3): 1276,\n",
       " (5, 4): 1261,\n",
       " (6, 3): 601,\n",
       " (6, 4): 1213,\n",
       " (7, 4): 1242,\n",
       " (8, 4): 639}"
      ]
     },
     "execution_count": 17,
     "metadata": {},
     "output_type": "execute_result"
    }
   ],
   "source": [
    "xy.tabulate()"
   ]
  },
  {
   "cell_type": "code",
   "execution_count": 18,
   "metadata": {},
   "outputs": [
    {
     "data": {
      "text/html": [
       "\n",
       "<table>\n",
       "  <thead>\n",
       "    <th width=\"80%\">Outcome</th>\n",
       "    <th width=\"20%\">Value</th>\n",
       "  </thead>\n",
       "  <tbody>\n",
       "    <tr><td>(2, 1)</td><td>0.0653</td></tr><tr><td>(3, 2)</td><td>0.1195</td></tr><tr><td>(4, 2)</td><td>0.0645</td></tr><tr><td>(4, 3)</td><td>0.1275</td></tr><tr><td>(5, 3)</td><td>0.1276</td></tr><tr><td>(5, 4)</td><td>0.1261</td></tr><tr><td>(6, 3)</td><td>0.0601</td></tr><tr><td>(6, 4)</td><td>0.1213</td></tr><tr><td>(7, 4)</td><td>0.1242</td></tr><tr><td>(8, 4)</td><td>0.0639</td></tr><tr><td><b>Total</b></td><td><b>1.0</b></td></tr>\n",
       "  </tbody>\n",
       "</table>\n"
      ],
      "text/plain": [
       "{(2, 1): 0.0653,\n",
       " (3, 2): 0.1195,\n",
       " (4, 2): 0.0645,\n",
       " (4, 3): 0.1275,\n",
       " (5, 3): 0.1276,\n",
       " (5, 4): 0.1261,\n",
       " (6, 3): 0.0601,\n",
       " (6, 4): 0.1213,\n",
       " (7, 4): 0.1242,\n",
       " (8, 4): 0.0639}"
      ]
     },
     "execution_count": 18,
     "metadata": {},
     "output_type": "execute_result"
    }
   ],
   "source": [
    "xy.tabulate(normalize = True)"
   ]
  },
  {
   "cell_type": "code",
   "execution_count": 19,
   "metadata": {},
   "outputs": [
    {
     "data": {
      "image/png": "[encoded data removed]",
      "text/plain": [
       "<Figure size 432x288 with 1 Axes>"
      ]
     },
     "metadata": {
      "needs_background": "light"
     },
     "output_type": "display_data"
    }
   ],
   "source": [
    "xy.plot()"
   ]
  },
  {
   "cell_type": "code",
   "execution_count": 20,
   "metadata": {},
   "outputs": [
    {
     "data": {
      "image/png": "[encoded data removed]",
      "text/plain": [
       "<Figure size 432x288 with 1 Axes>"
      ]
     },
     "metadata": {
      "needs_background": "light"
     },
     "output_type": "display_data"
    }
   ],
   "source": [
    "xy.plot(jitter = True)"
   ]
  },
  {
   "cell_type": "code",
   "execution_count": 21,
   "metadata": {},
   "outputs": [
    {
     "data": {
      "image/png": "[encoded data removed]",
      "text/plain": [
       "<Figure size 432x288 with 2 Axes>"
      ]
     },
     "metadata": {
      "needs_background": "light"
     },
     "output_type": "display_data"
    }
   ],
   "source": [
    "xy.plot('tile')"
   ]
  },
  {
   "cell_type": "code",
   "execution_count": 22,
   "metadata": {},
   "outputs": [
    {
     "data": {
      "image/png": "[encoded data removed]",
      "text/plain": [
       "<Figure size 432x288 with 2 Axes>"
      ]
     },
     "metadata": {
      "needs_background": "light"
     },
     "output_type": "display_data"
    }
   ],
   "source": [
    "xy.plot(['tile', 'marginals'])"
   ]
  },
  {
   "cell_type": "code",
   "execution_count": 23,
   "metadata": {},
   "outputs": [
    {
     "data": {
      "image/png": "[encoded data removed]",
      "text/plain": [
       "<Figure size 432x288 with 1 Axes>"
      ]
     },
     "metadata": {
      "needs_background": "light"
     },
     "output_type": "display_data"
    }
   ],
   "source": [
    "P = DiscreteUniform(a = 1, b = 4)\n",
    "U = RV(P)\n",
    "U.sim(10000).plot()"
   ]
  },
  {
   "cell_type": "code",
   "execution_count": 24,
   "metadata": {},
   "outputs": [
    {
     "data": {
      "image/png": "[encoded data removed]",
      "text/plain": [
       "<Figure size 432x288 with 2 Axes>"
      ]
     },
     "metadata": {
      "needs_background": "light"
     },
     "output_type": "display_data"
    }
   ],
   "source": [
    "P = DiscreteUniform(a = 1, b = 4) ** 2\n",
    "X = RV(P, sum)\n",
    "Y = RV(P, max)\n",
    "(X & Y).sim(10000).plot(['tile', 'marginals'])"
   ]
  },
  {
   "cell_type": "markdown",
   "metadata": {},
   "source": [
    "# Simulation margin of error"
   ]
  },
  {
   "cell_type": "code",
   "execution_count": 25,
   "metadata": {},
   "outputs": [
    {
     "data": {
      "text/html": [
       "\n",
       "    <table>\n",
       "      <thead>\n",
       "        <th width=\"10%\">Index</th>\n",
       "        <th width=\"90%\">Result</th>\n",
       "      </thead>\n",
       "      <tbody>\n",
       "        \n",
       "        <tr>\n",
       "          <td>0</td><td>(6, 8, 6, 4, 5, ..., 4)</td>\n",
       "        </tr>\n",
       "        \n",
       "        <tr>\n",
       "          <td>1</td><td>(4, 7, 8, 6, 4, ..., 6)</td>\n",
       "        </tr>\n",
       "        \n",
       "        <tr>\n",
       "          <td>2</td><td>(5, 5, 5, 5, 2, ..., 8)</td>\n",
       "        </tr>\n",
       "        \n",
       "        <tr>\n",
       "          <td>3</td><td>(2, 8, 3, 7, 3, ..., 4)</td>\n",
       "        </tr>\n",
       "        \n",
       "        <tr>\n",
       "          <td>4</td><td>(6, 5, 6, 3, 8, ..., 4)</td>\n",
       "        </tr>\n",
       "        \n",
       "      </tbody>\n",
       "    </table>\n",
       "        "
      ],
      "text/plain": [
       "<symbulate.results.Results at 0x1ef42a8afd0>"
      ]
     },
     "execution_count": 25,
     "metadata": {},
     "output_type": "execute_result"
    }
   ],
   "source": [
    "n = 100\n",
    "P = (DiscreteUniform(1, 4) ** 2).apply(sum) ** n\n",
    "P.sim(5)"
   ]
  },
  {
   "cell_type": "code",
   "execution_count": 26,
   "metadata": {},
   "outputs": [
    {
     "data": {
      "text/html": [
       "\n",
       "    <table>\n",
       "      <thead>\n",
       "        <th width=\"10%\">Index</th>\n",
       "        <th width=\"90%\">Result</th>\n",
       "      </thead>\n",
       "      <tbody>\n",
       "        \n",
       "        <tr>\n",
       "          <td>0</td><td>0.18</td>\n",
       "        </tr>\n",
       "        \n",
       "        <tr>\n",
       "          <td>1</td><td>0.18</td>\n",
       "        </tr>\n",
       "        \n",
       "        <tr>\n",
       "          <td>2</td><td>0.23</td>\n",
       "        </tr>\n",
       "        \n",
       "        <tr>\n",
       "          <td>3</td><td>0.23</td>\n",
       "        </tr>\n",
       "        \n",
       "        <tr>\n",
       "          <td>4</td><td>0.16</td>\n",
       "        </tr>\n",
       "        \n",
       "      </tbody>\n",
       "    </table>\n",
       "        "
      ],
      "text/plain": [
       "<symbulate.results.RVResults at 0x1ef424a87b8>"
      ]
     },
     "execution_count": 26,
     "metadata": {},
     "output_type": "execute_result"
    }
   ],
   "source": [
    "phat = RV(P, count_eq(6)) / n\n",
    "phat.sim(5)"
   ]
  },
  {
   "cell_type": "code",
   "execution_count": 27,
   "metadata": {},
   "outputs": [
    {
     "data": {
      "image/png": "[encoded data removed]",
      "text/plain": [
       "<Figure size 432x288 with 1 Axes>"
      ]
     },
     "metadata": {
      "needs_background": "light"
     },
     "output_type": "display_data"
    }
   ],
   "source": [
    "phat.sim(100).plot()"
   ]
  },
  {
   "cell_type": "code",
   "execution_count": 28,
   "metadata": {},
   "outputs": [
    {
     "data": {
      "image/png": "[encoded data removed]",
      "text/plain": [
       "<Figure size 432x288 with 1 Axes>"
      ]
     },
     "metadata": {
      "needs_background": "light"
     },
     "output_type": "display_data"
    }
   ],
   "source": [
    "n = 10000\n",
    "P = (DiscreteUniform(1, 4) ** 2).apply(sum) ** n\n",
    "phat = RV(P, count_eq(6)) / n\n",
    "phat.sim(100).plot()"
   ]
  },
  {
   "cell_type": "code",
   "execution_count": null,
   "metadata": {},
   "outputs": [],
   "source": []
  }
 ],
 "metadata": {
  "kernelspec": {
   "display_name": "Python 3",
   "language": "python",
   "name": "python3"
  },
  "language_info": {
   "codemirror_mode": {
    "name": "ipython",
    "version": 3
   },
   "file_extension": ".py",
   "mimetype": "text/x-python",
   "name": "python",
   "nbconvert_exporter": "python",
   "pygments_lexer": "ipython3",
   "version": "3.7.3"
  }
 },
 "nbformat": 4,
 "nbformat_minor": 2
}
