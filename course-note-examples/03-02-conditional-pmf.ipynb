{
 "cells": [
  {
   "cell_type": "markdown",
   "metadata": {},
   "source": [
    "# Conditional pmf of discrete RVs"
   ]
  },
  {
   "cell_type": "code",
   "execution_count": 1,
   "metadata": {},
   "outputs": [],
   "source": [
    "from symbulate import *\n",
    "%matplotlib inline"
   ]
  },
  {
   "cell_type": "markdown",
   "metadata": {},
   "source": [
    "## Sum and mac of two dice rolls"
   ]
  },
  {
   "cell_type": "code",
   "execution_count": 2,
   "metadata": {},
   "outputs": [],
   "source": [
    "P = BoxModel([1, 2, 3, 4], size = 2)\n",
    "X = RV(P, sum)\n",
    "Y = RV(P, max)"
   ]
  },
  {
   "cell_type": "markdown",
   "metadata": {},
   "source": [
    "Simulate many $(X, Y)$ pairs (remember `(X & Y)`), store the results and summarize the simulated values in a `'tile'` plot and a table."
   ]
  },
  {
   "cell_type": "code",
   "execution_count": 3,
   "metadata": {},
   "outputs": [
    {
     "data": {
      "text/html": [
       "\n",
       "<table>\n",
       "  <thead>\n",
       "    <th width=\"80%\">Outcome</th>\n",
       "    <th width=\"20%\">Value</th>\n",
       "  </thead>\n",
       "  <tbody>\n",
       "    <tr><td>(2, 1)</td><td>974</td></tr><tr><td>(3, 2)</td><td>1954</td></tr><tr><td>(4, 2)</td><td>1056</td></tr><tr><td>(4, 3)</td><td>1968</td></tr><tr><td>(5, 3)</td><td>2026</td></tr><tr><td>(5, 4)</td><td>1980</td></tr><tr><td>(6, 3)</td><td>1034</td></tr><tr><td>(6, 4)</td><td>1982</td></tr><tr><td>(7, 4)</td><td>2032</td></tr><tr><td>(8, 4)</td><td>994</td></tr><tr><td><b>Total</b></td><td><b>16000</b></td></tr>\n",
       "  </tbody>\n",
       "</table>\n"
      ],
      "text/plain": [
       "{(2, 1): 974,\n",
       " (3, 2): 1954,\n",
       " (4, 2): 1056,\n",
       " (4, 3): 1968,\n",
       " (5, 3): 2026,\n",
       " (5, 4): 1980,\n",
       " (6, 3): 1034,\n",
       " (6, 4): 1982,\n",
       " (7, 4): 2032,\n",
       " (8, 4): 994}"
      ]
     },
     "execution_count": 3,
     "metadata": {},
     "output_type": "execute_result"
    },
    {
     "data": {
      "image/png": "[encoded data removed]",
      "text/plain": [
       "<Figure size 432x288 with 2 Axes>"
      ]
     },
     "metadata": {
      "needs_background": "light"
     },
     "output_type": "display_data"
    }
   ],
   "source": [
    "xy = (X & Y).sim(16000)\n",
    "xy.plot('tile')\n",
    "xy.tabulate()"
   ]
  },
  {
   "cell_type": "markdown",
   "metadata": {},
   "source": [
    "**Thought questions.** What do you think is the *conditional distribution* of $Y$ given $X=6$?  Remember, a distribution represents possible values and corresponding probabilities.  If $X=6$, what are the possible values that $Y$ could be? What do you think will be true about the corresponding probabilities? How could you use the simulation to approximate these conditional probabilities? "
   ]
  },
  {
   "cell_type": "markdown",
   "metadata": {},
   "source": [
    "In the previous problems, we used filter to extract subsets to compute conditional probabilities.  A disadvantage of this method is that the approximate conditional probability is only based on the repetitions that satisfy the condition, and not on the total number of repetitions.  For example, in the impeachment problem, the estimate of the conditional probability that a Democrat supports impeachment was only based on the around 3100 Democrats simulated, rather than the total of 10000 repetitions.  This affects the *margin of error* of our estimates.\n",
    "\n",
    "An alternative is to keep performing the simulation until a desired number of repetitions *that satisfy the conditioning event* are achieved.  For example, we could keep running the simulation until we get 10000 Democrats, instead of just simulating 10000 people and getting however many Deomcrats we get.\n",
    "\n",
    "This alternative method can be achieved by using `|`, the \"given\" symbol.  The following shows how we can simulate the conditional distribution of $Y$ given $X=6$ based on 10000 repetitions for which $X=6$.\n",
    "\n",
    "Note that:\n",
    "\n",
    "- the total count in the table is 10000\n",
    "- the event being conditioned on, $\\{X = 6\\}$, needs to be placed in parentheses, `(X == 6)`.  Also `==` represents logical equality.\n",
    "- The table and plot represent the *distribution of $Y$ values* given that $X=6$. $Y$ is the quantity that is varying; $X$ is conditioned to be 6."
   ]
  },
  {
   "cell_type": "code",
   "execution_count": 4,
   "metadata": {},
   "outputs": [
    {
     "data": {
      "text/html": [
       "\n",
       "<table>\n",
       "  <thead>\n",
       "    <th width=\"80%\">Outcome</th>\n",
       "    <th width=\"20%\">Value</th>\n",
       "  </thead>\n",
       "  <tbody>\n",
       "    <tr><td>3</td><td>3312</td></tr><tr><td>4</td><td>6688</td></tr><tr><td><b>Total</b></td><td><b>10000</b></td></tr>\n",
       "  </tbody>\n",
       "</table>\n"
      ],
      "text/plain": [
       "{3: 3312, 4: 6688}"
      ]
     },
     "execution_count": 4,
     "metadata": {},
     "output_type": "execute_result"
    },
    {
     "data": {
      "image/png": "[encoded data removed]",
      "text/plain": [
       "<Figure size 432x288 with 1 Axes>"
      ]
     },
     "metadata": {
      "needs_background": "light"
     },
     "output_type": "display_data"
    }
   ],
   "source": [
    "y_given_X_eq_6 = ( Y | (X == 6) ).sim(10000)\n",
    "y_given_X_eq_6.plot()\n",
    "y_given_X_eq_6.tabulate()"
   ]
  },
  {
   "cell_type": "markdown",
   "metadata": {},
   "source": [
    "**Thought questions.**\n",
    "\n",
    "Look at the tile plot of $(X, Y)$ pairs that you created previously.\n",
    "\n",
    "- What regions of the plot correspond to $X=6$?\n",
    "- Among the repetitions for which $X=6$, what is the relative heights of the tiles, as represented by the color intensity, for $Y=4$ compared to $Y=3$?  That is, fill in the blank: the height for $Y=4$ is \"blank\" times larger than the height for $Y=3$.\n",
    "- In the tile plot of the joint distribution, do the two heights for $Y=4$ and $Y=3$ add to 1?\n",
    "\n",
    "Now look at the impulse plot of the conditional distribution of $Y$ given $X=6$ above.\n",
    "\n",
    "- Values of what variable are displayed on the horizontal axis?\n",
    "- What is the relative height for $Y=4$ compared to $Y=3$?  How does this correspond to what you observed for the tile plot?\n",
    "- In the impulse plot of the conditional distribution, do the two heights for $Y=4$ and $Y=3$ add to 1?\n",
    "\n",
    "Explain what we mean by **conditioning is \"slicing and renormalizing\"**."
   ]
  },
  {
   "cell_type": "markdown",
   "metadata": {},
   "source": [
    "How can you use your simulation results to estimate the *conditional expected value* of $Y$ given $X=6$?  Enter the appropriate code here.  (Hint: remember all 10000 values satisfy $X=6$.  How do we usually use simulation to approximate expected values?)"
   ]
  },
  {
   "cell_type": "code",
   "execution_count": 5,
   "metadata": {},
   "outputs": [
    {
     "data": {
      "text/plain": [
       "3.6688"
      ]
     },
     "execution_count": 5,
     "metadata": {},
     "output_type": "execute_result"
    }
   ],
   "source": [
    "y_given_X_eq_6.mean()"
   ]
  },
  {
   "cell_type": "markdown",
   "metadata": {},
   "source": [
    "Run a new simulation and use the results to approximate (in a table and plot) the the conditional distribution of $Y$ given $X=5$, and its conditional expected value.  But think first: what do you think this distribution will look like?"
   ]
  },
  {
   "cell_type": "code",
   "execution_count": 6,
   "metadata": {},
   "outputs": [
    {
     "name": "stdout",
     "output_type": "stream",
     "text": [
      "3.502\n"
     ]
    },
    {
     "data": {
      "text/html": [
       "\n",
       "<table>\n",
       "  <thead>\n",
       "    <th width=\"80%\">Outcome</th>\n",
       "    <th width=\"20%\">Value</th>\n",
       "  </thead>\n",
       "  <tbody>\n",
       "    <tr><td>3</td><td>4980</td></tr><tr><td>4</td><td>5020</td></tr><tr><td><b>Total</b></td><td><b>10000</b></td></tr>\n",
       "  </tbody>\n",
       "</table>\n"
      ],
      "text/plain": [
       "{3: 4980, 4: 5020}"
      ]
     },
     "execution_count": 6,
     "metadata": {},
     "output_type": "execute_result"
    },
    {
     "data": {
      "image/png": "[encoded data removed]",
      "text/plain": [
       "<Figure size 432x288 with 1 Axes>"
      ]
     },
     "metadata": {
      "needs_background": "light"
     },
     "output_type": "display_data"
    }
   ],
   "source": [
    "y_given_X_eq_5 = ( Y | (X == 5) ).sim(10000)\n",
    "y_given_X_eq_5.plot()\n",
    "print(y_given_X_eq_5.mean())\n",
    "y_given_X_eq_5.tabulate()"
   ]
  },
  {
   "cell_type": "markdown",
   "metadata": {},
   "source": [
    "Run a new simulation and use the results to approximate (in a table and plot) the the conditional distribution of $Y$ given $X=4$, and its conditional expected value.  But think first: what do you think this distribution will look like?"
   ]
  },
  {
   "cell_type": "code",
   "execution_count": 7,
   "metadata": {},
   "outputs": [
    {
     "name": "stdout",
     "output_type": "stream",
     "text": [
      "2.6648\n"
     ]
    },
    {
     "data": {
      "text/html": [
       "\n",
       "<table>\n",
       "  <thead>\n",
       "    <th width=\"80%\">Outcome</th>\n",
       "    <th width=\"20%\">Value</th>\n",
       "  </thead>\n",
       "  <tbody>\n",
       "    <tr><td>2</td><td>3352</td></tr><tr><td>3</td><td>6648</td></tr><tr><td><b>Total</b></td><td><b>10000</b></td></tr>\n",
       "  </tbody>\n",
       "</table>\n"
      ],
      "text/plain": [
       "{2: 3352, 3: 6648}"
      ]
     },
     "execution_count": 7,
     "metadata": {},
     "output_type": "execute_result"
    },
    {
     "data": {
      "image/png": "[encoded data removed]",
      "text/plain": [
       "<Figure size 432x288 with 1 Axes>"
      ]
     },
     "metadata": {
      "needs_background": "light"
     },
     "output_type": "display_data"
    }
   ],
   "source": [
    "y_given_X_eq_4 = ( Y | (X == 4) ).sim(10000)\n",
    "y_given_X_eq_4.plot()\n",
    "print(y_given_X_eq_4.mean())\n",
    "y_given_X_eq_4.tabulate()"
   ]
  },
  {
   "cell_type": "code",
   "execution_count": 8,
   "metadata": {},
   "outputs": [],
   "source": [
    "# Enter your Symbulate code here"
   ]
  },
  {
   "cell_type": "markdown",
   "metadata": {},
   "source": [
    "What if we condition on the value of $Y$? Run a new simulation and use the results to approximate (in a table and plot) the the conditional distribution of $X$ given $Y=2$, and its conditional expected value.  But think first: what do you think this distribution will look like?"
   ]
  },
  {
   "cell_type": "code",
   "execution_count": 9,
   "metadata": {},
   "outputs": [
    {
     "name": "stdout",
     "output_type": "stream",
     "text": [
      "3.3334\n"
     ]
    },
    {
     "data": {
      "text/html": [
       "\n",
       "<table>\n",
       "  <thead>\n",
       "    <th width=\"80%\">Outcome</th>\n",
       "    <th width=\"20%\">Value</th>\n",
       "  </thead>\n",
       "  <tbody>\n",
       "    <tr><td>3</td><td>6666</td></tr><tr><td>4</td><td>3334</td></tr><tr><td><b>Total</b></td><td><b>10000</b></td></tr>\n",
       "  </tbody>\n",
       "</table>\n"
      ],
      "text/plain": [
       "{3: 6666, 4: 3334}"
      ]
     },
     "execution_count": 9,
     "metadata": {},
     "output_type": "execute_result"
    },
    {
     "data": {
      "image/png": "[encoded data removed]",
      "text/plain": [
       "<Figure size 432x288 with 1 Axes>"
      ]
     },
     "metadata": {
      "needs_background": "light"
     },
     "output_type": "display_data"
    }
   ],
   "source": [
    "x_given_Y_eq_2 = ( X | (Y == 2) ).sim(10000)\n",
    "x_given_Y_eq_2.plot()\n",
    "print(x_given_Y_eq_2.mean())\n",
    "x_given_Y_eq_2.tabulate()"
   ]
  },
  {
   "cell_type": "code",
   "execution_count": 10,
   "metadata": {},
   "outputs": [],
   "source": [
    "# Enter your Symbulate code here"
   ]
  },
  {
   "cell_type": "markdown",
   "metadata": {},
   "source": [
    "Run a new simulation and use the results to approximate (in a table and plot) the the conditional distribution of $X$ given $Y=3$, and its conditional expected value.  But think first: what do you think this distribution will look like?"
   ]
  },
  {
   "cell_type": "code",
   "execution_count": 11,
   "metadata": {},
   "outputs": [
    {
     "name": "stdout",
     "output_type": "stream",
     "text": [
      "4.8055\n"
     ]
    },
    {
     "data": {
      "text/html": [
       "\n",
       "<table>\n",
       "  <thead>\n",
       "    <th width=\"80%\">Outcome</th>\n",
       "    <th width=\"20%\">Value</th>\n",
       "  </thead>\n",
       "  <tbody>\n",
       "    <tr><td>4</td><td>3978</td></tr><tr><td>5</td><td>3989</td></tr><tr><td>6</td><td>2033</td></tr><tr><td><b>Total</b></td><td><b>10000</b></td></tr>\n",
       "  </tbody>\n",
       "</table>\n"
      ],
      "text/plain": [
       "{4: 3978, 5: 3989, 6: 2033}"
      ]
     },
     "execution_count": 11,
     "metadata": {},
     "output_type": "execute_result"
    },
    {
     "data": {
      "image/png": "[encoded data removed]",
      "text/plain": [
       "<Figure size 432x288 with 1 Axes>"
      ]
     },
     "metadata": {
      "needs_background": "light"
     },
     "output_type": "display_data"
    }
   ],
   "source": [
    "x_given_Y_eq_3 = ( X | (Y == 3) ).sim(10000)\n",
    "x_given_Y_eq_3.plot()\n",
    "print(x_given_Y_eq_3.mean())\n",
    "x_given_Y_eq_3.tabulate()"
   ]
  },
  {
   "cell_type": "code",
   "execution_count": 12,
   "metadata": {},
   "outputs": [],
   "source": [
    "# Enter your Symbulate code here"
   ]
  },
  {
   "cell_type": "markdown",
   "metadata": {},
   "source": [
    "Run a new simulation and use the results to approximate (in a table and plot) the the conditional distribution of $X$ given $Y=4$, and its conditional expected value.  But think first: what do you think this distribution will look like?"
   ]
  },
  {
   "cell_type": "code",
   "execution_count": 13,
   "metadata": {},
   "outputs": [
    {
     "name": "stdout",
     "output_type": "stream",
     "text": [
      "6.2777\n"
     ]
    },
    {
     "data": {
      "text/html": [
       "\n",
       "<table>\n",
       "  <thead>\n",
       "    <th width=\"80%\">Outcome</th>\n",
       "    <th width=\"20%\">Value</th>\n",
       "  </thead>\n",
       "  <tbody>\n",
       "    <tr><td>5</td><td>2858</td></tr><tr><td>6</td><td>2898</td></tr><tr><td>7</td><td>2853</td></tr><tr><td>8</td><td>1391</td></tr><tr><td><b>Total</b></td><td><b>10000</b></td></tr>\n",
       "  </tbody>\n",
       "</table>\n"
      ],
      "text/plain": [
       "{5: 2858, 6: 2898, 7: 2853, 8: 1391}"
      ]
     },
     "execution_count": 13,
     "metadata": {},
     "output_type": "execute_result"
    },
    {
     "data": {
      "image/png": "[encoded data removed]",
      "text/plain": [
       "<Figure size 432x288 with 1 Axes>"
      ]
     },
     "metadata": {
      "needs_background": "light"
     },
     "output_type": "display_data"
    }
   ],
   "source": [
    "x_given_Y_eq_4 = ( X | (Y == 4) ).sim(10000)\n",
    "x_given_Y_eq_4.plot()\n",
    "print(x_given_Y_eq_4.mean())\n",
    "x_given_Y_eq_4.tabulate()"
   ]
  },
  {
   "cell_type": "code",
   "execution_count": 14,
   "metadata": {},
   "outputs": [],
   "source": [
    "# Enter your Symbulate code here"
   ]
  },
  {
   "cell_type": "markdown",
   "metadata": {},
   "source": [
    "**Thought question.** I didn't have you condition on $Y=1$, or on $X=2$, $X=3$, $X=7$, or $X=8$.  What happens in each of these cases?  For example, what is the conditional distribution of $Y$ given $X=7$?"
   ]
  },
  {
   "cell_type": "code",
   "execution_count": null,
   "metadata": {},
   "outputs": [],
   "source": []
  }
 ],
 "metadata": {
  "kernelspec": {
   "display_name": "Python 3",
   "language": "python",
   "name": "python3"
  },
  "language_info": {
   "codemirror_mode": {
    "name": "ipython",
    "version": 3
   },
   "file_extension": ".py",
   "mimetype": "text/x-python",
   "name": "python",
   "nbconvert_exporter": "python",
   "pygments_lexer": "ipython3",
   "version": "3.7.3"
  }
 },
 "nbformat": 4,
 "nbformat_minor": 2
}
